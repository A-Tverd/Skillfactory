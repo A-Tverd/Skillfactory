{
  "nbformat": 4,
  "nbformat_minor": 0,
  "metadata": {
    "colab": {
      "name": "Movies_IMBD_v4.1_TEMPLATE.ipynb",
      "provenance": [],
      "collapsed_sections": [
        "bapLlpW8Vp-k",
        "TfQbxbfNVp-p",
        "r5TvbnT_Vp-u",
        "39P-deDSVp-y",
        "M99JmIX4Vp-2",
        "wEOM5ERVVp-6",
        "xhpspA9KVp_A",
        "Zi4hDKidVp_F",
        "EA7Sa9dkVp_I",
        "G94ppOY1VqAA",
        "RBo0JVjVVqAF",
        "9G0hbvR7VqAK",
        "FJ1AFt90VqAP",
        "U0nONFnGVqAX"
      ]
    },
    "kernelspec": {
      "display_name": "Python 3",
      "language": "python",
      "name": "python3"
    },
    "language_info": {
      "codemirror_mode": {
        "name": "ipython",
        "version": 3
      },
      "file_extension": ".py",
      "mimetype": "text/x-python",
      "name": "python",
      "nbconvert_exporter": "python",
      "pygments_lexer": "ipython3",
      "version": "3.7.4"
    }
  },
  "cells": [
    {
      "cell_type": "code",
      "metadata": {
        "_cell_guid": "b1076dfc-b9ad-4769-8c92-a6c4dae69d19",
        "_uuid": "8f2839f25d086af736a60e9eeb907d3b93b6e0e5",
        "id": "U2D2gTdJVp90"
      },
      "source": [
        "import numpy as np\n",
        "import pandas as pd\n",
        "import seaborn as sns\n",
        "import matplotlib.pyplot as plt\n",
        "from collections import Counter\n",
        "from itertools import combinations"
      ],
      "execution_count": 1,
      "outputs": []
    },
    {
      "cell_type": "code",
      "metadata": {
        "colab": {
          "resources": {
            "http://localhost:8080/nbextensions/google.colab/files.js": {
              "data": "Ly8gQ29weXJpZ2h0IDIwMTcgR29vZ2xlIExMQwovLwovLyBMaWNlbnNlZCB1bmRlciB0aGUgQXBhY2hlIExpY2Vuc2UsIFZlcnNpb24gMi4wICh0aGUgIkxpY2Vuc2UiKTsKLy8geW91IG1heSBub3QgdXNlIHRoaXMgZmlsZSBleGNlcHQgaW4gY29tcGxpYW5jZSB3aXRoIHRoZSBMaWNlbnNlLgovLyBZb3UgbWF5IG9idGFpbiBhIGNvcHkgb2YgdGhlIExpY2Vuc2UgYXQKLy8KLy8gICAgICBodHRwOi8vd3d3LmFwYWNoZS5vcmcvbGljZW5zZXMvTElDRU5TRS0yLjAKLy8KLy8gVW5sZXNzIHJlcXVpcmVkIGJ5IGFwcGxpY2FibGUgbGF3IG9yIGFncmVlZCB0byBpbiB3cml0aW5nLCBzb2Z0d2FyZQovLyBkaXN0cmlidXRlZCB1bmRlciB0aGUgTGljZW5zZSBpcyBkaXN0cmlidXRlZCBvbiBhbiAiQVMgSVMiIEJBU0lTLAovLyBXSVRIT1VUIFdBUlJBTlRJRVMgT1IgQ09ORElUSU9OUyBPRiBBTlkgS0lORCwgZWl0aGVyIGV4cHJlc3Mgb3IgaW1wbGllZC4KLy8gU2VlIHRoZSBMaWNlbnNlIGZvciB0aGUgc3BlY2lmaWMgbGFuZ3VhZ2UgZ292ZXJuaW5nIHBlcm1pc3Npb25zIGFuZAovLyBsaW1pdGF0aW9ucyB1bmRlciB0aGUgTGljZW5zZS4KCi8qKgogKiBAZmlsZW92ZXJ2aWV3IEhlbHBlcnMgZm9yIGdvb2dsZS5jb2xhYiBQeXRob24gbW9kdWxlLgogKi8KKGZ1bmN0aW9uKHNjb3BlKSB7CmZ1bmN0aW9uIHNwYW4odGV4dCwgc3R5bGVBdHRyaWJ1dGVzID0ge30pIHsKICBjb25zdCBlbGVtZW50ID0gZG9jdW1lbnQuY3JlYXRlRWxlbWVudCgnc3BhbicpOwogIGVsZW1lbnQudGV4dENvbnRlbnQgPSB0ZXh0OwogIGZvciAoY29uc3Qga2V5IG9mIE9iamVjdC5rZXlzKHN0eWxlQXR0cmlidXRlcykpIHsKICAgIGVsZW1lbnQuc3R5bGVba2V5XSA9IHN0eWxlQXR0cmlidXRlc1trZXldOwogIH0KICByZXR1cm4gZWxlbWVudDsKfQoKLy8gTWF4IG51bWJlciBvZiBieXRlcyB3aGljaCB3aWxsIGJlIHVwbG9hZGVkIGF0IGEgdGltZS4KY29uc3QgTUFYX1BBWUxPQURfU0laRSA9IDEwMCAqIDEwMjQ7CgpmdW5jdGlvbiBfdXBsb2FkRmlsZXMoaW5wdXRJZCwgb3V0cHV0SWQpIHsKICBjb25zdCBzdGVwcyA9IHVwbG9hZEZpbGVzU3RlcChpbnB1dElkLCBvdXRwdXRJZCk7CiAgY29uc3Qgb3V0cHV0RWxlbWVudCA9IGRvY3VtZW50LmdldEVsZW1lbnRCeUlkKG91dHB1dElkKTsKICAvLyBDYWNoZSBzdGVwcyBvbiB0aGUgb3V0cHV0RWxlbWVudCB0byBtYWtlIGl0IGF2YWlsYWJsZSBmb3IgdGhlIG5leHQgY2FsbAogIC8vIHRvIHVwbG9hZEZpbGVzQ29udGludWUgZnJvbSBQeXRob24uCiAgb3V0cHV0RWxlbWVudC5zdGVwcyA9IHN0ZXBzOwoKICByZXR1cm4gX3VwbG9hZEZpbGVzQ29udGludWUob3V0cHV0SWQpOwp9CgovLyBUaGlzIGlzIHJvdWdobHkgYW4gYXN5bmMgZ2VuZXJhdG9yIChub3Qgc3VwcG9ydGVkIGluIHRoZSBicm93c2VyIHlldCksCi8vIHdoZXJlIHRoZXJlIGFyZSBtdWx0aXBsZSBhc3luY2hyb25vdXMgc3RlcHMgYW5kIHRoZSBQeXRob24gc2lkZSBpcyBnb2luZwovLyB0byBwb2xsIGZvciBjb21wbGV0aW9uIG9mIGVhY2ggc3RlcC4KLy8gVGhpcyB1c2VzIGEgUHJvbWlzZSB0byBibG9jayB0aGUgcHl0aG9uIHNpZGUgb24gY29tcGxldGlvbiBvZiBlYWNoIHN0ZXAsCi8vIHRoZW4gcGFzc2VzIHRoZSByZXN1bHQgb2YgdGhlIHByZXZpb3VzIHN0ZXAgYXMgdGhlIGlucHV0IHRvIHRoZSBuZXh0IHN0ZXAuCmZ1bmN0aW9uIF91cGxvYWRGaWxlc0NvbnRpbnVlKG91dHB1dElkKSB7CiAgY29uc3Qgb3V0cHV0RWxlbWVudCA9IGRvY3VtZW50LmdldEVsZW1lbnRCeUlkKG91dHB1dElkKTsKICBjb25zdCBzdGVwcyA9IG91dHB1dEVsZW1lbnQuc3RlcHM7CgogIGNvbnN0IG5leHQgPSBzdGVwcy5uZXh0KG91dHB1dEVsZW1lbnQubGFzdFByb21pc2VWYWx1ZSk7CiAgcmV0dXJuIFByb21pc2UucmVzb2x2ZShuZXh0LnZhbHVlLnByb21pc2UpLnRoZW4oKHZhbHVlKSA9PiB7CiAgICAvLyBDYWNoZSB0aGUgbGFzdCBwcm9taXNlIHZhbHVlIHRvIG1ha2UgaXQgYXZhaWxhYmxlIHRvIHRoZSBuZXh0CiAgICAvLyBzdGVwIG9mIHRoZSBnZW5lcmF0b3IuCiAgICBvdXRwdXRFbGVtZW50Lmxhc3RQcm9taXNlVmFsdWUgPSB2YWx1ZTsKICAgIHJldHVybiBuZXh0LnZhbHVlLnJlc3BvbnNlOwogIH0pOwp9CgovKioKICogR2VuZXJhdG9yIGZ1bmN0aW9uIHdoaWNoIGlzIGNhbGxlZCBiZXR3ZWVuIGVhY2ggYXN5bmMgc3RlcCBvZiB0aGUgdXBsb2FkCiAqIHByb2Nlc3MuCiAqIEBwYXJhbSB7c3RyaW5nfSBpbnB1dElkIEVsZW1lbnQgSUQgb2YgdGhlIGlucHV0IGZpbGUgcGlja2VyIGVsZW1lbnQuCiAqIEBwYXJhbSB7c3RyaW5nfSBvdXRwdXRJZCBFbGVtZW50IElEIG9mIHRoZSBvdXRwdXQgZGlzcGxheS4KICogQHJldHVybiB7IUl0ZXJhYmxlPCFPYmplY3Q+fSBJdGVyYWJsZSBvZiBuZXh0IHN0ZXBzLgogKi8KZnVuY3Rpb24qIHVwbG9hZEZpbGVzU3RlcChpbnB1dElkLCBvdXRwdXRJZCkgewogIGNvbnN0IGlucHV0RWxlbWVudCA9IGRvY3VtZW50LmdldEVsZW1lbnRCeUlkKGlucHV0SWQpOwogIGlucHV0RWxlbWVudC5kaXNhYmxlZCA9IGZhbHNlOwoKICBjb25zdCBvdXRwdXRFbGVtZW50ID0gZG9jdW1lbnQuZ2V0RWxlbWVudEJ5SWQob3V0cHV0SWQpOwogIG91dHB1dEVsZW1lbnQuaW5uZXJIVE1MID0gJyc7CgogIGNvbnN0IHBpY2tlZFByb21pc2UgPSBuZXcgUHJvbWlzZSgocmVzb2x2ZSkgPT4gewogICAgaW5wdXRFbGVtZW50LmFkZEV2ZW50TGlzdGVuZXIoJ2NoYW5nZScsIChlKSA9PiB7CiAgICAgIHJlc29sdmUoZS50YXJnZXQuZmlsZXMpOwogICAgfSk7CiAgfSk7CgogIGNvbnN0IGNhbmNlbCA9IGRvY3VtZW50LmNyZWF0ZUVsZW1lbnQoJ2J1dHRvbicpOwogIGlucHV0RWxlbWVudC5wYXJlbnRFbGVtZW50LmFwcGVuZENoaWxkKGNhbmNlbCk7CiAgY2FuY2VsLnRleHRDb250ZW50ID0gJ0NhbmNlbCB1cGxvYWQnOwogIGNvbnN0IGNhbmNlbFByb21pc2UgPSBuZXcgUHJvbWlzZSgocmVzb2x2ZSkgPT4gewogICAgY2FuY2VsLm9uY2xpY2sgPSAoKSA9PiB7CiAgICAgIHJlc29sdmUobnVsbCk7CiAgICB9OwogIH0pOwoKICAvLyBXYWl0IGZvciB0aGUgdXNlciB0byBwaWNrIHRoZSBmaWxlcy4KICBjb25zdCBmaWxlcyA9IHlpZWxkIHsKICAgIHByb21pc2U6IFByb21pc2UucmFjZShbcGlja2VkUHJvbWlzZSwgY2FuY2VsUHJvbWlzZV0pLAogICAgcmVzcG9uc2U6IHsKICAgICAgYWN0aW9uOiAnc3RhcnRpbmcnLAogICAgfQogIH07CgogIGNhbmNlbC5yZW1vdmUoKTsKCiAgLy8gRGlzYWJsZSB0aGUgaW5wdXQgZWxlbWVudCBzaW5jZSBmdXJ0aGVyIHBpY2tzIGFyZSBub3QgYWxsb3dlZC4KICBpbnB1dEVsZW1lbnQuZGlzYWJsZWQgPSB0cnVlOwoKICBpZiAoIWZpbGVzKSB7CiAgICByZXR1cm4gewogICAgICByZXNwb25zZTogewogICAgICAgIGFjdGlvbjogJ2NvbXBsZXRlJywKICAgICAgfQogICAgfTsKICB9CgogIGZvciAoY29uc3QgZmlsZSBvZiBmaWxlcykgewogICAgY29uc3QgbGkgPSBkb2N1bWVudC5jcmVhdGVFbGVtZW50KCdsaScpOwogICAgbGkuYXBwZW5kKHNwYW4oZmlsZS5uYW1lLCB7Zm9udFdlaWdodDogJ2JvbGQnfSkpOwogICAgbGkuYXBwZW5kKHNwYW4oCiAgICAgICAgYCgke2ZpbGUudHlwZSB8fCAnbi9hJ30pIC0gJHtmaWxlLnNpemV9IGJ5dGVzLCBgICsKICAgICAgICBgbGFzdCBtb2RpZmllZDogJHsKICAgICAgICAgICAgZmlsZS5sYXN0TW9kaWZpZWREYXRlID8gZmlsZS5sYXN0TW9kaWZpZWREYXRlLnRvTG9jYWxlRGF0ZVN0cmluZygpIDoKICAgICAgICAgICAgICAgICAgICAgICAgICAgICAgICAgICAgJ24vYSd9IC0gYCkpOwogICAgY29uc3QgcGVyY2VudCA9IHNwYW4oJzAlIGRvbmUnKTsKICAgIGxpLmFwcGVuZENoaWxkKHBlcmNlbnQpOwoKICAgIG91dHB1dEVsZW1lbnQuYXBwZW5kQ2hpbGQobGkpOwoKICAgIGNvbnN0IGZpbGVEYXRhUHJvbWlzZSA9IG5ldyBQcm9taXNlKChyZXNvbHZlKSA9PiB7CiAgICAgIGNvbnN0IHJlYWRlciA9IG5ldyBGaWxlUmVhZGVyKCk7CiAgICAgIHJlYWRlci5vbmxvYWQgPSAoZSkgPT4gewogICAgICAgIHJlc29sdmUoZS50YXJnZXQucmVzdWx0KTsKICAgICAgfTsKICAgICAgcmVhZGVyLnJlYWRBc0FycmF5QnVmZmVyKGZpbGUpOwogICAgfSk7CiAgICAvLyBXYWl0IGZvciB0aGUgZGF0YSB0byBiZSByZWFkeS4KICAgIGxldCBmaWxlRGF0YSA9IHlpZWxkIHsKICAgICAgcHJvbWlzZTogZmlsZURhdGFQcm9taXNlLAogICAgICByZXNwb25zZTogewogICAgICAgIGFjdGlvbjogJ2NvbnRpbnVlJywKICAgICAgfQogICAgfTsKCiAgICAvLyBVc2UgYSBjaHVua2VkIHNlbmRpbmcgdG8gYXZvaWQgbWVzc2FnZSBzaXplIGxpbWl0cy4gU2VlIGIvNjIxMTU2NjAuCiAgICBsZXQgcG9zaXRpb24gPSAwOwogICAgZG8gewogICAgICBjb25zdCBsZW5ndGggPSBNYXRoLm1pbihmaWxlRGF0YS5ieXRlTGVuZ3RoIC0gcG9zaXRpb24sIE1BWF9QQVlMT0FEX1NJWkUpOwogICAgICBjb25zdCBjaHVuayA9IG5ldyBVaW50OEFycmF5KGZpbGVEYXRhLCBwb3NpdGlvbiwgbGVuZ3RoKTsKICAgICAgcG9zaXRpb24gKz0gbGVuZ3RoOwoKICAgICAgY29uc3QgYmFzZTY0ID0gYnRvYShTdHJpbmcuZnJvbUNoYXJDb2RlLmFwcGx5KG51bGwsIGNodW5rKSk7CiAgICAgIHlpZWxkIHsKICAgICAgICByZXNwb25zZTogewogICAgICAgICAgYWN0aW9uOiAnYXBwZW5kJywKICAgICAgICAgIGZpbGU6IGZpbGUubmFtZSwKICAgICAgICAgIGRhdGE6IGJhc2U2NCwKICAgICAgICB9LAogICAgICB9OwoKICAgICAgbGV0IHBlcmNlbnREb25lID0gZmlsZURhdGEuYnl0ZUxlbmd0aCA9PT0gMCA/CiAgICAgICAgICAxMDAgOgogICAgICAgICAgTWF0aC5yb3VuZCgocG9zaXRpb24gLyBmaWxlRGF0YS5ieXRlTGVuZ3RoKSAqIDEwMCk7CiAgICAgIHBlcmNlbnQudGV4dENvbnRlbnQgPSBgJHtwZXJjZW50RG9uZX0lIGRvbmVgOwoKICAgIH0gd2hpbGUgKHBvc2l0aW9uIDwgZmlsZURhdGEuYnl0ZUxlbmd0aCk7CiAgfQoKICAvLyBBbGwgZG9uZS4KICB5aWVsZCB7CiAgICByZXNwb25zZTogewogICAgICBhY3Rpb246ICdjb21wbGV0ZScsCiAgICB9CiAgfTsKfQoKc2NvcGUuZ29vZ2xlID0gc2NvcGUuZ29vZ2xlIHx8IHt9OwpzY29wZS5nb29nbGUuY29sYWIgPSBzY29wZS5nb29nbGUuY29sYWIgfHwge307CnNjb3BlLmdvb2dsZS5jb2xhYi5fZmlsZXMgPSB7CiAgX3VwbG9hZEZpbGVzLAogIF91cGxvYWRGaWxlc0NvbnRpbnVlLAp9Owp9KShzZWxmKTsK",
              "ok": true,
              "headers": [
                [
                  "content-type",
                  "application/javascript"
                ]
              ],
              "status": 200,
              "status_text": ""
            }
          },
          "base_uri": "https://localhost:8080/",
          "height": 72
        },
        "id": "1Xh3WdHC3rYe",
        "outputId": "2c66f3d2-a0a7-4bf2-ac30-51cdb4ce3dca"
      },
      "source": [
        "from google.colab import files\n",
        "uploaded = files.upload()"
      ],
      "execution_count": 2,
      "outputs": [
        {
          "output_type": "display_data",
          "data": {
            "text/html": [
              "\n",
              "     <input type=\"file\" id=\"files-49a4e5b2-4929-4217-a429-4871e69e826a\" name=\"files[]\" multiple disabled\n",
              "        style=\"border:none\" />\n",
              "     <output id=\"result-49a4e5b2-4929-4217-a429-4871e69e826a\">\n",
              "      Upload widget is only available when the cell has been executed in the\n",
              "      current browser session. Please rerun this cell to enable.\n",
              "      </output>\n",
              "      <script src=\"/nbextensions/google.colab/files.js\"></script> "
            ],
            "text/plain": [
              "<IPython.core.display.HTML object>"
            ]
          },
          "metadata": {
            "tags": []
          }
        },
        {
          "output_type": "stream",
          "text": [
            "Saving movie_bd_v5.xls to movie_bd_v5.xls\n"
          ],
          "name": "stdout"
        }
      ]
    },
    {
      "cell_type": "code",
      "metadata": {
        "_cell_guid": "79c7e3d0-c299-4dcb-8224-4455121ee9b0",
        "_uuid": "d629ff2d2480ee46fbb7e2d37f6b5fab8052498a",
        "colab": {
          "base_uri": "https://localhost:8080/",
          "height": 632
        },
        "id": "oyGfxL3eVp9-",
        "outputId": "00fb05bd-0f35-4524-8318-efc08fcb62b5"
      },
      "source": [
        "data = pd.read_csv('movie_bd_v5.xls')\n",
        "data.sample(5)"
      ],
      "execution_count": 3,
      "outputs": [
        {
          "output_type": "execute_result",
          "data": {
            "text/html": [
              "<div>\n",
              "<style scoped>\n",
              "    .dataframe tbody tr th:only-of-type {\n",
              "        vertical-align: middle;\n",
              "    }\n",
              "\n",
              "    .dataframe tbody tr th {\n",
              "        vertical-align: top;\n",
              "    }\n",
              "\n",
              "    .dataframe thead th {\n",
              "        text-align: right;\n",
              "    }\n",
              "</style>\n",
              "<table border=\"1\" class=\"dataframe\">\n",
              "  <thead>\n",
              "    <tr style=\"text-align: right;\">\n",
              "      <th></th>\n",
              "      <th>imdb_id</th>\n",
              "      <th>budget</th>\n",
              "      <th>revenue</th>\n",
              "      <th>original_title</th>\n",
              "      <th>cast</th>\n",
              "      <th>director</th>\n",
              "      <th>tagline</th>\n",
              "      <th>overview</th>\n",
              "      <th>runtime</th>\n",
              "      <th>genres</th>\n",
              "      <th>production_companies</th>\n",
              "      <th>release_date</th>\n",
              "      <th>vote_average</th>\n",
              "      <th>release_year</th>\n",
              "    </tr>\n",
              "  </thead>\n",
              "  <tbody>\n",
              "    <tr>\n",
              "      <th>794</th>\n",
              "      <td>tt0491152</td>\n",
              "      <td>35000000</td>\n",
              "      <td>59901913</td>\n",
              "      <td>Something Borrowed</td>\n",
              "      <td>Kate Hudson|Ginnifer Goodwin|John Krasinski|Co...</td>\n",
              "      <td>Luke Greenfield</td>\n",
              "      <td>It's a thin line between love and friendship.</td>\n",
              "      <td>Though Rachel (Ginnifer Goodwin) is a successf...</td>\n",
              "      <td>112</td>\n",
              "      <td>Comedy|Drama|Romance</td>\n",
              "      <td>Alcon Entertainment|Wild Ocean Films|2S Films</td>\n",
              "      <td>5/5/2011</td>\n",
              "      <td>6.0</td>\n",
              "      <td>2011</td>\n",
              "    </tr>\n",
              "    <tr>\n",
              "      <th>314</th>\n",
              "      <td>tt1045772</td>\n",
              "      <td>13000000</td>\n",
              "      <td>10652035</td>\n",
              "      <td>I Love You Phillip Morris</td>\n",
              "      <td>Jim Carrey|Ewan McGregor|Leslie Mann|Rodrigo S...</td>\n",
              "      <td>Glenn Ficarra|John Requa</td>\n",
              "      <td>The Conman who wouldn't go straight.</td>\n",
              "      <td>Bad Santa co-screenwriters Glenn Ficara and Jo...</td>\n",
              "      <td>98</td>\n",
              "      <td>Comedy|Drama|Romance</td>\n",
              "      <td>EuropaCorp</td>\n",
              "      <td>1/18/2009</td>\n",
              "      <td>6.3</td>\n",
              "      <td>2009</td>\n",
              "    </tr>\n",
              "    <tr>\n",
              "      <th>1802</th>\n",
              "      <td>tt0162222</td>\n",
              "      <td>90000000</td>\n",
              "      <td>429632142</td>\n",
              "      <td>Cast Away</td>\n",
              "      <td>Tom Hanks|Helen Hunt|Chris Noth|Paul Sanchez|L...</td>\n",
              "      <td>Robert Zemeckis</td>\n",
              "      <td>At the edge of the world, his journey begins.</td>\n",
              "      <td>Chuck, a top international manager for FedEx, ...</td>\n",
              "      <td>143</td>\n",
              "      <td>Adventure|Drama</td>\n",
              "      <td>DreamWorks SKG|Twentieth Century Fox Film Corp...</td>\n",
              "      <td>12/22/2000</td>\n",
              "      <td>7.3</td>\n",
              "      <td>2000</td>\n",
              "    </tr>\n",
              "    <tr>\n",
              "      <th>840</th>\n",
              "      <td>tt1571222</td>\n",
              "      <td>15000000</td>\n",
              "      <td>27462041</td>\n",
              "      <td>A Dangerous Method</td>\n",
              "      <td>Keira Knightley|Viggo Mortensen|Michael Fassbe...</td>\n",
              "      <td>David Cronenberg</td>\n",
              "      <td>Why deny what you desire the most.</td>\n",
              "      <td>Seduced by the challenge of an impossible case...</td>\n",
              "      <td>99</td>\n",
              "      <td>Drama|Thriller</td>\n",
              "      <td>Recorded Pictures Company|The Movie Network|Mi...</td>\n",
              "      <td>9/30/2011</td>\n",
              "      <td>5.9</td>\n",
              "      <td>2011</td>\n",
              "    </tr>\n",
              "    <tr>\n",
              "      <th>1012</th>\n",
              "      <td>tt1707386</td>\n",
              "      <td>61000000</td>\n",
              "      <td>441809770</td>\n",
              "      <td>Les MisÃ©rables</td>\n",
              "      <td>Hugh Jackman|Russell Crowe|Anne Hathaway|Amand...</td>\n",
              "      <td>Tom Hooper</td>\n",
              "      <td>Fight. Dream. Hope. Love.</td>\n",
              "      <td>An adaptation of the successful stage musical ...</td>\n",
              "      <td>157</td>\n",
              "      <td>Drama|Music|Romance</td>\n",
              "      <td>Universal Pictures|Relativity Media|CAMERON MA...</td>\n",
              "      <td>12/18/2012</td>\n",
              "      <td>7.0</td>\n",
              "      <td>2012</td>\n",
              "    </tr>\n",
              "  </tbody>\n",
              "</table>\n",
              "</div>"
            ],
            "text/plain": [
              "        imdb_id    budget    revenue  ... release_date vote_average release_year\n",
              "794   tt0491152  35000000   59901913  ...     5/5/2011          6.0         2011\n",
              "314   tt1045772  13000000   10652035  ...    1/18/2009          6.3         2009\n",
              "1802  tt0162222  90000000  429632142  ...   12/22/2000          7.3         2000\n",
              "840   tt1571222  15000000   27462041  ...    9/30/2011          5.9         2011\n",
              "1012  tt1707386  61000000  441809770  ...   12/18/2012          7.0         2012\n",
              "\n",
              "[5 rows x 14 columns]"
            ]
          },
          "metadata": {
            "tags": []
          },
          "execution_count": 3
        }
      ]
    },
    {
      "cell_type": "code",
      "metadata": {
        "colab": {
          "base_uri": "https://localhost:8080/",
          "height": 297
        },
        "id": "CoYUnagMVp-C",
        "outputId": "cdd795b4-8354-467d-afc8-30bd544216ca"
      },
      "source": [
        "data.describe()"
      ],
      "execution_count": null,
      "outputs": [
        {
          "output_type": "execute_result",
          "data": {
            "text/html": [
              "<div>\n",
              "<style scoped>\n",
              "    .dataframe tbody tr th:only-of-type {\n",
              "        vertical-align: middle;\n",
              "    }\n",
              "\n",
              "    .dataframe tbody tr th {\n",
              "        vertical-align: top;\n",
              "    }\n",
              "\n",
              "    .dataframe thead th {\n",
              "        text-align: right;\n",
              "    }\n",
              "</style>\n",
              "<table border=\"1\" class=\"dataframe\">\n",
              "  <thead>\n",
              "    <tr style=\"text-align: right;\">\n",
              "      <th></th>\n",
              "      <th>budget</th>\n",
              "      <th>revenue</th>\n",
              "      <th>runtime</th>\n",
              "      <th>vote_average</th>\n",
              "      <th>release_year</th>\n",
              "    </tr>\n",
              "  </thead>\n",
              "  <tbody>\n",
              "    <tr>\n",
              "      <th>count</th>\n",
              "      <td>1.889000e+03</td>\n",
              "      <td>1.889000e+03</td>\n",
              "      <td>1889.000000</td>\n",
              "      <td>1889.000000</td>\n",
              "      <td>1889.000000</td>\n",
              "    </tr>\n",
              "    <tr>\n",
              "      <th>mean</th>\n",
              "      <td>5.431083e+07</td>\n",
              "      <td>1.553653e+08</td>\n",
              "      <td>109.658549</td>\n",
              "      <td>6.140762</td>\n",
              "      <td>2007.860773</td>\n",
              "    </tr>\n",
              "    <tr>\n",
              "      <th>std</th>\n",
              "      <td>4.858721e+07</td>\n",
              "      <td>2.146698e+08</td>\n",
              "      <td>18.017041</td>\n",
              "      <td>0.764763</td>\n",
              "      <td>4.468841</td>\n",
              "    </tr>\n",
              "    <tr>\n",
              "      <th>min</th>\n",
              "      <td>5.000000e+06</td>\n",
              "      <td>2.033165e+06</td>\n",
              "      <td>63.000000</td>\n",
              "      <td>3.300000</td>\n",
              "      <td>2000.000000</td>\n",
              "    </tr>\n",
              "    <tr>\n",
              "      <th>25%</th>\n",
              "      <td>2.000000e+07</td>\n",
              "      <td>3.456058e+07</td>\n",
              "      <td>97.000000</td>\n",
              "      <td>5.600000</td>\n",
              "      <td>2004.000000</td>\n",
              "    </tr>\n",
              "    <tr>\n",
              "      <th>50%</th>\n",
              "      <td>3.800000e+07</td>\n",
              "      <td>8.361541e+07</td>\n",
              "      <td>107.000000</td>\n",
              "      <td>6.100000</td>\n",
              "      <td>2008.000000</td>\n",
              "    </tr>\n",
              "    <tr>\n",
              "      <th>75%</th>\n",
              "      <td>7.200000e+07</td>\n",
              "      <td>1.782626e+08</td>\n",
              "      <td>120.000000</td>\n",
              "      <td>6.600000</td>\n",
              "      <td>2012.000000</td>\n",
              "    </tr>\n",
              "    <tr>\n",
              "      <th>max</th>\n",
              "      <td>3.800000e+08</td>\n",
              "      <td>2.781506e+09</td>\n",
              "      <td>214.000000</td>\n",
              "      <td>8.100000</td>\n",
              "      <td>2015.000000</td>\n",
              "    </tr>\n",
              "  </tbody>\n",
              "</table>\n",
              "</div>"
            ],
            "text/plain": [
              "             budget       revenue      runtime  vote_average  release_year\n",
              "count  1.889000e+03  1.889000e+03  1889.000000   1889.000000   1889.000000\n",
              "mean   5.431083e+07  1.553653e+08   109.658549      6.140762   2007.860773\n",
              "std    4.858721e+07  2.146698e+08    18.017041      0.764763      4.468841\n",
              "min    5.000000e+06  2.033165e+06    63.000000      3.300000   2000.000000\n",
              "25%    2.000000e+07  3.456058e+07    97.000000      5.600000   2004.000000\n",
              "50%    3.800000e+07  8.361541e+07   107.000000      6.100000   2008.000000\n",
              "75%    7.200000e+07  1.782626e+08   120.000000      6.600000   2012.000000\n",
              "max    3.800000e+08  2.781506e+09   214.000000      8.100000   2015.000000"
            ]
          },
          "metadata": {
            "tags": []
          },
          "execution_count": 142
        }
      ]
    },
    {
      "cell_type": "markdown",
      "metadata": {
        "id": "DTIt7ezGVp-G"
      },
      "source": [
        "# Предобработка"
      ]
    },
    {
      "cell_type": "code",
      "metadata": {
        "id": "jNb40DwKVp-H"
      },
      "source": [
        "#колонка со значением прибыли (доход от фильма минус затраты на его производство)\n",
        "data['profit'] = data['revenue'] - data['budget']\n",
        "#Значение месяца производства фильма отдельным столбцом\n",
        "data['release_month'] = data['release_date'].apply(lambda x: x.split('/')[0])\n",
        "#Для решения задач, в которых участвует жанр, разбиваем строку на список\n",
        "data2 = data.copy()\n",
        "data2['genres'] = data2['genres'].str.split('|')\n",
        "genre_list = []#Создаём список всех жанров\n",
        "#Создаём функцию, которая добавляет элементы одного списка к другому:\n",
        "def list_creator(list, new_list):\n",
        "    for name in list:\n",
        "        new_list.append(name)\n",
        "#Добавляем в список все встречающиеся в списках жанры\n",
        "for list in data2['genres']:\n",
        "    list_creator(list, genre_list)"
      ],
      "execution_count": 5,
      "outputs": []
    },
    {
      "cell_type": "code",
      "metadata": {
        "id": "HdZaeH-4JaWV"
      },
      "source": [
        "answers = {}"
      ],
      "execution_count": 4,
      "outputs": []
    },
    {
      "cell_type": "markdown",
      "metadata": {
        "id": "YxZaH-nPVp-L"
      },
      "source": [
        "# 1. У какого фильма из списка самый большой бюджет?"
      ]
    },
    {
      "cell_type": "markdown",
      "metadata": {
        "id": "Nd-G5gX6Vp-M"
      },
      "source": [
        "Использовать варианты ответов в коде решения запрещено.    \n",
        "Вы думаете и в жизни у вас будут варианты ответов?)"
      ]
    },
    {
      "cell_type": "code",
      "metadata": {
        "id": "uVnXAY5RVp-O"
      },
      "source": [
        "# в словарь вставляем номер вопроса и ваш ответ на него\n",
        "# Пример: \n",
        "answers['1'] = '2. Spider-Man 3 (tt0413300)'\n",
        "# запишите свой вариант ответа\n",
        "answers['1'] = '...'\n",
        "# если ответили верно, можете добавить комментарий со значком \"+\""
      ],
      "execution_count": null,
      "outputs": []
    },
    {
      "cell_type": "code",
      "metadata": {
        "colab": {
          "base_uri": "https://localhost:8080/",
          "height": 80
        },
        "id": "dZwb3m28Vp-S",
        "outputId": "7471c318-979e-4847-f00a-0aa3d50f8851"
      },
      "source": [
        "#находим строку с максимальным значением в колонке бюджета и выводим данные соответсвующего фильма\n",
        "data.loc[data['budget'] == data['budget'].max()][['imdb_id','original_title']]"
      ],
      "execution_count": null,
      "outputs": [
        {
          "output_type": "execute_result",
          "data": {
            "text/html": [
              "<div>\n",
              "<style scoped>\n",
              "    .dataframe tbody tr th:only-of-type {\n",
              "        vertical-align: middle;\n",
              "    }\n",
              "\n",
              "    .dataframe tbody tr th {\n",
              "        vertical-align: top;\n",
              "    }\n",
              "\n",
              "    .dataframe thead th {\n",
              "        text-align: right;\n",
              "    }\n",
              "</style>\n",
              "<table border=\"1\" class=\"dataframe\">\n",
              "  <thead>\n",
              "    <tr style=\"text-align: right;\">\n",
              "      <th></th>\n",
              "      <th>imdb_id</th>\n",
              "      <th>original_title</th>\n",
              "    </tr>\n",
              "  </thead>\n",
              "  <tbody>\n",
              "    <tr>\n",
              "      <th>723</th>\n",
              "      <td>tt1298650</td>\n",
              "      <td>Pirates of the Caribbean: On Stranger Tides</td>\n",
              "    </tr>\n",
              "  </tbody>\n",
              "</table>\n",
              "</div>"
            ],
            "text/plain": [
              "       imdb_id                               original_title\n",
              "723  tt1298650  Pirates of the Caribbean: On Stranger Tides"
            ]
          },
          "metadata": {
            "tags": []
          },
          "execution_count": 11
        }
      ]
    },
    {
      "cell_type": "code",
      "metadata": {
        "id": "EEQZKWzATuSD"
      },
      "source": [
        "answers['1'] = '723. Pirates of the Caribbean: On Stranger Tides (tt1298650)'#+"
      ],
      "execution_count": 34,
      "outputs": []
    },
    {
      "cell_type": "markdown",
      "metadata": {
        "id": "K7L3nbRXVp-X"
      },
      "source": [
        "ВАРИАНТ 2"
      ]
    },
    {
      "cell_type": "code",
      "metadata": {
        "id": "OGaoQI7rVp-X"
      },
      "source": [
        "# можно добавлять разные варианты решения"
      ],
      "execution_count": null,
      "outputs": []
    },
    {
      "cell_type": "markdown",
      "metadata": {
        "id": "FNRbbI3vVp-c"
      },
      "source": [
        "# 2. Какой из фильмов самый длительный (в минутах)?"
      ]
    },
    {
      "cell_type": "code",
      "metadata": {
        "id": "vHAoEXNTVp-d"
      },
      "source": [
        "answers['2'] = '1157. Gods and Generals (tt0279111)'"
      ],
      "execution_count": 35,
      "outputs": []
    },
    {
      "cell_type": "code",
      "metadata": {
        "colab": {
          "base_uri": "https://localhost:8080/",
          "height": 80
        },
        "id": "ot-VX2XrVp-g",
        "outputId": "80e41284-a26b-4f7e-9a43-b3b3d10d6382"
      },
      "source": [
        "#Находим строку с максимальным значением длительности фильма и выводим данные о его названии и идентификаторе\n",
        "data.loc[data['runtime'] == data['runtime'].max()][['imdb_id','original_title']]#+"
      ],
      "execution_count": null,
      "outputs": [
        {
          "output_type": "execute_result",
          "data": {
            "text/html": [
              "<div>\n",
              "<style scoped>\n",
              "    .dataframe tbody tr th:only-of-type {\n",
              "        vertical-align: middle;\n",
              "    }\n",
              "\n",
              "    .dataframe tbody tr th {\n",
              "        vertical-align: top;\n",
              "    }\n",
              "\n",
              "    .dataframe thead th {\n",
              "        text-align: right;\n",
              "    }\n",
              "</style>\n",
              "<table border=\"1\" class=\"dataframe\">\n",
              "  <thead>\n",
              "    <tr style=\"text-align: right;\">\n",
              "      <th></th>\n",
              "      <th>imdb_id</th>\n",
              "      <th>original_title</th>\n",
              "    </tr>\n",
              "  </thead>\n",
              "  <tbody>\n",
              "    <tr>\n",
              "      <th>1157</th>\n",
              "      <td>tt0279111</td>\n",
              "      <td>Gods and Generals</td>\n",
              "    </tr>\n",
              "  </tbody>\n",
              "</table>\n",
              "</div>"
            ],
            "text/plain": [
              "        imdb_id     original_title\n",
              "1157  tt0279111  Gods and Generals"
            ]
          },
          "metadata": {
            "tags": []
          },
          "execution_count": 12
        }
      ]
    },
    {
      "cell_type": "markdown",
      "metadata": {
        "id": "bapLlpW8Vp-k"
      },
      "source": [
        "# 3. Какой из фильмов самый короткий (в минутах)?\n",
        "\n",
        "\n",
        "\n"
      ]
    },
    {
      "cell_type": "code",
      "metadata": {
        "colab": {
          "base_uri": "https://localhost:8080/"
        },
        "id": "YBxaSHuAVp-l",
        "outputId": "4768706b-e052-44a0-eaba-26a54d3bdb29"
      },
      "source": [
        "#Находим строку с минимальным значением длительности фильма и выводим данные о его названии и идентификаторе\n",
        "data.loc[data['runtime'] == data['runtime'].min()][['imdb_id','original_title']]#+"
      ],
      "execution_count": null,
      "outputs": [
        {
          "output_type": "execute_result",
          "data": {
            "text/html": [
              "<div>\n",
              "<style scoped>\n",
              "    .dataframe tbody tr th:only-of-type {\n",
              "        vertical-align: middle;\n",
              "    }\n",
              "\n",
              "    .dataframe tbody tr th {\n",
              "        vertical-align: top;\n",
              "    }\n",
              "\n",
              "    .dataframe thead th {\n",
              "        text-align: right;\n",
              "    }\n",
              "</style>\n",
              "<table border=\"1\" class=\"dataframe\">\n",
              "  <thead>\n",
              "    <tr style=\"text-align: right;\">\n",
              "      <th></th>\n",
              "      <th>imdb_id</th>\n",
              "      <th>original_title</th>\n",
              "    </tr>\n",
              "  </thead>\n",
              "  <tbody>\n",
              "    <tr>\n",
              "      <th>768</th>\n",
              "      <td>tt1449283</td>\n",
              "      <td>Winnie the Pooh</td>\n",
              "    </tr>\n",
              "  </tbody>\n",
              "</table>\n",
              "</div>"
            ],
            "text/plain": [
              "       imdb_id   original_title\n",
              "768  tt1449283  Winnie the Pooh"
            ]
          },
          "metadata": {
            "tags": []
          },
          "execution_count": 23
        }
      ]
    },
    {
      "cell_type": "code",
      "metadata": {
        "id": "F__KT571UWl-"
      },
      "source": [
        "answers['3'] = '768. Winnie the Pooh (tt1449283)'"
      ],
      "execution_count": 36,
      "outputs": []
    },
    {
      "cell_type": "markdown",
      "metadata": {
        "id": "TfQbxbfNVp-p"
      },
      "source": [
        "# 4. Какова средняя длительность фильмов?\n"
      ]
    },
    {
      "cell_type": "code",
      "metadata": {
        "colab": {
          "base_uri": "https://localhost:8080/"
        },
        "id": "5K6dKZYVVp-q",
        "outputId": "8899c05d-807b-45d2-d862-916b86998043"
      },
      "source": [
        "#Рассчитываем среднее значение по колонке, в которой содержатся данные о длительности фильма, округляем значение до целого.\n",
        "round(data['runtime'].mean())#+"
      ],
      "execution_count": null,
      "outputs": [
        {
          "output_type": "execute_result",
          "data": {
            "text/plain": [
              "110"
            ]
          },
          "metadata": {
            "tags": []
          },
          "execution_count": 25
        }
      ]
    },
    {
      "cell_type": "code",
      "metadata": {
        "id": "WjBbVzdSVsF5"
      },
      "source": [
        "answers['4'] = '110'"
      ],
      "execution_count": 37,
      "outputs": []
    },
    {
      "cell_type": "markdown",
      "metadata": {
        "id": "r5TvbnT_Vp-u"
      },
      "source": [
        "# 5. Каково медианное значение длительности фильмов? "
      ]
    },
    {
      "cell_type": "code",
      "metadata": {
        "colab": {
          "base_uri": "https://localhost:8080/"
        },
        "id": "iBROplKnVp-v",
        "outputId": "cfa46f48-add7-4b85-b6b0-41e894541123"
      },
      "source": [
        "#Находим медиану для столбца с длительностью\n",
        "data['runtime'].median()#+"
      ],
      "execution_count": null,
      "outputs": [
        {
          "output_type": "execute_result",
          "data": {
            "text/plain": [
              "107.0"
            ]
          },
          "metadata": {
            "tags": []
          },
          "execution_count": 27
        }
      ]
    },
    {
      "cell_type": "code",
      "metadata": {
        "id": "1pLdbJjbWNtL"
      },
      "source": [
        "answers['5'] = '107'"
      ],
      "execution_count": 38,
      "outputs": []
    },
    {
      "cell_type": "markdown",
      "metadata": {
        "id": "39P-deDSVp-y"
      },
      "source": [
        "# 6. Какой самый прибыльный фильм?\n",
        "#### Внимание! Здесь и далее под «прибылью» или «убытками» понимается разность между сборами и бюджетом фильма. (прибыль = сборы - бюджет) в нашем датасете это будет (profit = revenue - budget) "
      ]
    },
    {
      "cell_type": "code",
      "metadata": {
        "colab": {
          "base_uri": "https://localhost:8080/",
          "height": 80
        },
        "id": "UYZh4T9WVp-y",
        "outputId": "21765602-34c6-48cc-e50f-140729277f0c"
      },
      "source": [
        "#Находим максимальное значение в столбце с прибылью\n",
        "data.loc[data['profit'] == data['profit'].max()][['imdb_id','original_title']]"
      ],
      "execution_count": null,
      "outputs": [
        {
          "output_type": "execute_result",
          "data": {
            "text/html": [
              "<div>\n",
              "<style scoped>\n",
              "    .dataframe tbody tr th:only-of-type {\n",
              "        vertical-align: middle;\n",
              "    }\n",
              "\n",
              "    .dataframe tbody tr th {\n",
              "        vertical-align: top;\n",
              "    }\n",
              "\n",
              "    .dataframe thead th {\n",
              "        text-align: right;\n",
              "    }\n",
              "</style>\n",
              "<table border=\"1\" class=\"dataframe\">\n",
              "  <thead>\n",
              "    <tr style=\"text-align: right;\">\n",
              "      <th></th>\n",
              "      <th>imdb_id</th>\n",
              "      <th>original_title</th>\n",
              "    </tr>\n",
              "  </thead>\n",
              "  <tbody>\n",
              "    <tr>\n",
              "      <th>239</th>\n",
              "      <td>tt0499549</td>\n",
              "      <td>Avatar</td>\n",
              "    </tr>\n",
              "  </tbody>\n",
              "</table>\n",
              "</div>"
            ],
            "text/plain": [
              "       imdb_id original_title\n",
              "239  tt0499549         Avatar"
            ]
          },
          "metadata": {
            "tags": []
          },
          "execution_count": 15
        }
      ]
    },
    {
      "cell_type": "code",
      "metadata": {
        "id": "wy-fWk0wXfu5"
      },
      "source": [
        "answers['6'] = '239. Avatar (tt0499549)'#+"
      ],
      "execution_count": 39,
      "outputs": []
    },
    {
      "cell_type": "markdown",
      "metadata": {
        "id": "M99JmIX4Vp-2"
      },
      "source": [
        "# 7. Какой фильм самый убыточный? "
      ]
    },
    {
      "cell_type": "code",
      "metadata": {
        "colab": {
          "base_uri": "https://localhost:8080/",
          "height": 80
        },
        "id": "w-D2m4XPVp-3",
        "outputId": "76497a8d-f7e0-4164-d990-f67ac027cb3c"
      },
      "source": [
        "#Минимально значение прибыли в таблице\n",
        "data.loc[data['profit'] == data['profit'].min()][['imdb_id','original_title']]"
      ],
      "execution_count": null,
      "outputs": [
        {
          "output_type": "execute_result",
          "data": {
            "text/html": [
              "<div>\n",
              "<style scoped>\n",
              "    .dataframe tbody tr th:only-of-type {\n",
              "        vertical-align: middle;\n",
              "    }\n",
              "\n",
              "    .dataframe tbody tr th {\n",
              "        vertical-align: top;\n",
              "    }\n",
              "\n",
              "    .dataframe thead th {\n",
              "        text-align: right;\n",
              "    }\n",
              "</style>\n",
              "<table border=\"1\" class=\"dataframe\">\n",
              "  <thead>\n",
              "    <tr style=\"text-align: right;\">\n",
              "      <th></th>\n",
              "      <th>imdb_id</th>\n",
              "      <th>original_title</th>\n",
              "    </tr>\n",
              "  </thead>\n",
              "  <tbody>\n",
              "    <tr>\n",
              "      <th>1245</th>\n",
              "      <td>tt1210819</td>\n",
              "      <td>The Lone Ranger</td>\n",
              "    </tr>\n",
              "  </tbody>\n",
              "</table>\n",
              "</div>"
            ],
            "text/plain": [
              "        imdb_id   original_title\n",
              "1245  tt1210819  The Lone Ranger"
            ]
          },
          "metadata": {
            "tags": []
          },
          "execution_count": 25
        }
      ]
    },
    {
      "cell_type": "code",
      "metadata": {
        "id": "50Waboq7X3lT"
      },
      "source": [
        "answers['7'] = '1245. The Lone Ranger (tt1210819)'#+"
      ],
      "execution_count": 40,
      "outputs": []
    },
    {
      "cell_type": "markdown",
      "metadata": {
        "id": "wEOM5ERVVp-6"
      },
      "source": [
        "# 8. У скольких фильмов из датасета объем сборов оказался выше бюджета?"
      ]
    },
    {
      "cell_type": "code",
      "metadata": {
        "colab": {
          "base_uri": "https://localhost:8080/"
        },
        "id": "y00_7HD6Vp-7",
        "outputId": "e47d5182-ebaf-4877-d48a-b3db54516ca9"
      },
      "source": [
        "#Отфильтровываем таблицу по условию \"кассовые сборы больше бюджета\". Находим длину получившейся таблицы\n",
        "len(data[data['revenue'] > data['budget']])"
      ],
      "execution_count": null,
      "outputs": [
        {
          "output_type": "execute_result",
          "data": {
            "text/plain": [
              "1478"
            ]
          },
          "metadata": {
            "tags": []
          },
          "execution_count": 27
        }
      ]
    },
    {
      "cell_type": "code",
      "metadata": {
        "colab": {
          "base_uri": "https://localhost:8080/"
        },
        "id": "f9HOnSR_rP6N",
        "outputId": "4e8e6a42-4b18-4fa9-fc4b-a303c5dda6fb"
      },
      "source": [
        "#В случае, если сборы больше бюджета, фильм принём положительный доход. Можно отфильтровать таблицу по этому условию:\n",
        "len(data[data['profit'] > 0])"
      ],
      "execution_count": 14,
      "outputs": [
        {
          "output_type": "execute_result",
          "data": {
            "text/plain": [
              "1478"
            ]
          },
          "metadata": {
            "tags": []
          },
          "execution_count": 14
        }
      ]
    },
    {
      "cell_type": "code",
      "metadata": {
        "id": "yHc41kwNZF8e"
      },
      "source": [
        "answers['8'] = '1478'#+"
      ],
      "execution_count": 41,
      "outputs": []
    },
    {
      "cell_type": "markdown",
      "metadata": {
        "id": "xhpspA9KVp_A"
      },
      "source": [
        "# 9. Какой фильм оказался самым кассовым в 2008 году?"
      ]
    },
    {
      "cell_type": "code",
      "metadata": {
        "colab": {
          "base_uri": "https://localhost:8080/",
          "height": 185
        },
        "id": "MoUyQr9RVp_B",
        "outputId": "1c6bbce1-82f2-43ea-ad8d-1e0c54dd062a"
      },
      "source": [
        "#Отфильтровывем в таблице фильмы 2012 года производства, сортируем таблицу по прибыльности фильма.\n",
        "#По умолчанию сортировка идёт по возрастанию, значит самый прибыльный фильм - последний.\n",
        "data[data['release_year'] == 2008].sort_values(by='profit').tail(1)"
      ],
      "execution_count": 17,
      "outputs": [
        {
          "output_type": "execute_result",
          "data": {
            "text/html": [
              "<div>\n",
              "<style scoped>\n",
              "    .dataframe tbody tr th:only-of-type {\n",
              "        vertical-align: middle;\n",
              "    }\n",
              "\n",
              "    .dataframe tbody tr th {\n",
              "        vertical-align: top;\n",
              "    }\n",
              "\n",
              "    .dataframe thead th {\n",
              "        text-align: right;\n",
              "    }\n",
              "</style>\n",
              "<table border=\"1\" class=\"dataframe\">\n",
              "  <thead>\n",
              "    <tr style=\"text-align: right;\">\n",
              "      <th></th>\n",
              "      <th>imdb_id</th>\n",
              "      <th>budget</th>\n",
              "      <th>revenue</th>\n",
              "      <th>original_title</th>\n",
              "      <th>cast</th>\n",
              "      <th>director</th>\n",
              "      <th>tagline</th>\n",
              "      <th>overview</th>\n",
              "      <th>runtime</th>\n",
              "      <th>genres</th>\n",
              "      <th>production_companies</th>\n",
              "      <th>release_date</th>\n",
              "      <th>vote_average</th>\n",
              "      <th>release_year</th>\n",
              "      <th>profit</th>\n",
              "      <th>release_month</th>\n",
              "    </tr>\n",
              "  </thead>\n",
              "  <tbody>\n",
              "    <tr>\n",
              "      <th>599</th>\n",
              "      <td>tt0468569</td>\n",
              "      <td>185000000</td>\n",
              "      <td>1001921825</td>\n",
              "      <td>The Dark Knight</td>\n",
              "      <td>Christian Bale|Michael Caine|Heath Ledger|Aaro...</td>\n",
              "      <td>Christopher Nolan</td>\n",
              "      <td>Why So Serious?</td>\n",
              "      <td>Batman raises the stakes in his war on crime. ...</td>\n",
              "      <td>152</td>\n",
              "      <td>Drama|Action|Crime|Thriller</td>\n",
              "      <td>DC Comics|Legendary Pictures|Warner Bros.|Syncopy</td>\n",
              "      <td>7/16/2008</td>\n",
              "      <td>8.1</td>\n",
              "      <td>2008</td>\n",
              "      <td>816921825</td>\n",
              "      <td>7</td>\n",
              "    </tr>\n",
              "  </tbody>\n",
              "</table>\n",
              "</div>"
            ],
            "text/plain": [
              "       imdb_id     budget     revenue  ... release_year     profit release_month\n",
              "599  tt0468569  185000000  1001921825  ...         2008  816921825             7\n",
              "\n",
              "[1 rows x 16 columns]"
            ]
          },
          "metadata": {
            "tags": []
          },
          "execution_count": 17
        }
      ]
    },
    {
      "cell_type": "code",
      "metadata": {
        "id": "HYFFM2G3av-n"
      },
      "source": [
        "answers['9'] = '599. The Dark Knight (tt0468569)'#+"
      ],
      "execution_count": 42,
      "outputs": []
    },
    {
      "cell_type": "markdown",
      "metadata": {
        "id": "Zi4hDKidVp_F"
      },
      "source": [
        "# 10. Самый убыточный фильм за период с 2012 по 2014 г. (включительно)?\n"
      ]
    },
    {
      "cell_type": "code",
      "metadata": {
        "colab": {
          "base_uri": "https://localhost:8080/",
          "height": 202
        },
        "id": "XqyRmufJVp_F",
        "outputId": "943b0f7c-dc56-4218-b6b0-02744b32c10e"
      },
      "source": [
        "#Отфильтровываем таблицу по условию \"год производства с 2012 по 2014\"\n",
        "#Сортируем таблицу по размеру прибыли. Самая маленькая прибыль у фильма в первой строке, значит он - самый убыточный.\n",
        "data[(data['release_year'] > 2011) & (data['release_year'] < 2015)].sort_values(by='profit').head(1)"
      ],
      "execution_count": 19,
      "outputs": [
        {
          "output_type": "execute_result",
          "data": {
            "text/html": [
              "<div>\n",
              "<style scoped>\n",
              "    .dataframe tbody tr th:only-of-type {\n",
              "        vertical-align: middle;\n",
              "    }\n",
              "\n",
              "    .dataframe tbody tr th {\n",
              "        vertical-align: top;\n",
              "    }\n",
              "\n",
              "    .dataframe thead th {\n",
              "        text-align: right;\n",
              "    }\n",
              "</style>\n",
              "<table border=\"1\" class=\"dataframe\">\n",
              "  <thead>\n",
              "    <tr style=\"text-align: right;\">\n",
              "      <th></th>\n",
              "      <th>imdb_id</th>\n",
              "      <th>budget</th>\n",
              "      <th>revenue</th>\n",
              "      <th>original_title</th>\n",
              "      <th>cast</th>\n",
              "      <th>director</th>\n",
              "      <th>tagline</th>\n",
              "      <th>overview</th>\n",
              "      <th>runtime</th>\n",
              "      <th>genres</th>\n",
              "      <th>production_companies</th>\n",
              "      <th>release_date</th>\n",
              "      <th>vote_average</th>\n",
              "      <th>release_year</th>\n",
              "      <th>profit</th>\n",
              "      <th>release_month</th>\n",
              "    </tr>\n",
              "  </thead>\n",
              "  <tbody>\n",
              "    <tr>\n",
              "      <th>1245</th>\n",
              "      <td>tt1210819</td>\n",
              "      <td>255000000</td>\n",
              "      <td>89289910</td>\n",
              "      <td>The Lone Ranger</td>\n",
              "      <td>Johnny Depp|Armie Hammer|William Fichtner|Hele...</td>\n",
              "      <td>Gore Verbinski</td>\n",
              "      <td>Never Take Off the Mask</td>\n",
              "      <td>The Texas Rangers chase down a gang of outlaws...</td>\n",
              "      <td>149</td>\n",
              "      <td>Action|Adventure|Western</td>\n",
              "      <td>Walt Disney Pictures|Jerry Bruckheimer Films|I...</td>\n",
              "      <td>7/3/2013</td>\n",
              "      <td>6.0</td>\n",
              "      <td>2013</td>\n",
              "      <td>-165710090</td>\n",
              "      <td>7</td>\n",
              "    </tr>\n",
              "  </tbody>\n",
              "</table>\n",
              "</div>"
            ],
            "text/plain": [
              "        imdb_id     budget   revenue  ... release_year     profit release_month\n",
              "1245  tt1210819  255000000  89289910  ...         2013 -165710090             7\n",
              "\n",
              "[1 rows x 16 columns]"
            ]
          },
          "metadata": {
            "tags": []
          },
          "execution_count": 19
        }
      ]
    },
    {
      "cell_type": "code",
      "metadata": {
        "id": "qlQg_xmabo4c"
      },
      "source": [
        "answers['10'] = '1245. The Lone Ranger (tt1210819)'#+"
      ],
      "execution_count": 43,
      "outputs": []
    },
    {
      "cell_type": "markdown",
      "metadata": {
        "id": "EA7Sa9dkVp_I"
      },
      "source": [
        "# 11. Какого жанра фильмов больше всего?"
      ]
    },
    {
      "cell_type": "code",
      "metadata": {
        "id": "zsJAwJ8QVp_J",
        "colab": {
          "base_uri": "https://localhost:8080/"
        },
        "outputId": "d3dae675-3512-4760-9078-6c6cb8025679"
      },
      "source": [
        "#Предобработка дала список всех жанров. В нём есть повторы (по числу повторов в таблице с данными), но в данном случае это не минус, а плюс.\n",
        "#Посчитаем, сколько раз повторяются жанры в списке и найдём самый популярный:\n",
        "Counter(genre_list).most_common(1)"
      ],
      "execution_count": null,
      "outputs": [
        {
          "output_type": "execute_result",
          "data": {
            "text/plain": [
              "[('Drama', 782)]"
            ]
          },
          "metadata": {
            "tags": []
          },
          "execution_count": 5
        }
      ]
    },
    {
      "cell_type": "code",
      "metadata": {
        "colab": {
          "base_uri": "https://localhost:8080/",
          "height": 35
        },
        "id": "OggG0o4RFBBL",
        "outputId": "46311ecb-5314-4bf8-ab9f-9695709893f4"
      },
      "source": [
        "#Можно преобразовать строку с жанрами в список и вывести каждый элемент такого списка в отдельную строку\n",
        "data40 = data['genres'].str.split('|')\n",
        "data40 = data40.explode('genres')\n",
        "#Теперь можно найти наиболее часто встречающееся уникальное значение:\n",
        "data40.value_counts().index[0]"
      ],
      "execution_count": null,
      "outputs": [
        {
          "output_type": "execute_result",
          "data": {
            "application/vnd.google.colaboratory.intrinsic+json": {
              "type": "string"
            },
            "text/plain": [
              "'Drama'"
            ]
          },
          "metadata": {
            "tags": []
          },
          "execution_count": 29
        }
      ]
    },
    {
      "cell_type": "code",
      "metadata": {
        "id": "LTJuPNGZjmoR"
      },
      "source": [
        "answers['11'] = 'Drama'#+"
      ],
      "execution_count": 44,
      "outputs": []
    },
    {
      "cell_type": "markdown",
      "metadata": {
        "id": "T9_bPWpkVp_Q"
      },
      "source": [
        "# 12. Фильмы какого жанра чаще всего становятся прибыльными? "
      ]
    },
    {
      "cell_type": "code",
      "metadata": {
        "id": "Tmt8MaK1Vp_R",
        "colab": {
          "base_uri": "https://localhost:8080/"
        },
        "outputId": "008fa98e-abee-42e1-b8f6-24860841a875"
      },
      "source": [
        "#Повторим работу со списком женров, но теперь для таблицы, отфильтрованной по условию:\n",
        "genre2_list = []\n",
        "for list in data2['genres'][data['profit'] > 0]:\n",
        "    list_creator(list, genre2_list)\n",
        "Counter(genre2_list).most_common(1)"
      ],
      "execution_count": null,
      "outputs": [
        {
          "output_type": "execute_result",
          "data": {
            "text/plain": [
              "[('Drama', 560)]"
            ]
          },
          "metadata": {
            "tags": []
          },
          "execution_count": 25
        }
      ]
    },
    {
      "cell_type": "code",
      "metadata": {
        "id": "4kSFVm55_SL-"
      },
      "source": [
        "answers['12'] = 'Drama'#+"
      ],
      "execution_count": 45,
      "outputs": []
    },
    {
      "cell_type": "markdown",
      "metadata": {
        "id": "0F23bgsDVp_U"
      },
      "source": [
        "# 13. У какого режиссера самые большие суммарные кассовые сборы?"
      ]
    },
    {
      "cell_type": "code",
      "metadata": {
        "id": "K6Z3J8ygVp_X",
        "colab": {
          "base_uri": "https://localhost:8080/"
        },
        "outputId": "2ac6427b-da55-4800-9d05-18da718b65f8"
      },
      "source": [
        "#Т.к. режиссёров у фильма может быть несколько, разобьём строку с их именами в список\n",
        "data42 = data.copy()\n",
        "data42['director'] = data42['director'].str.split('|')\n",
        "#Разбиваем получившийся список по строкам:\n",
        "data42 = data.explode('director')\n",
        "#Теперь можно сгруппировать таблицу по имени режиссёра, найти сумму сборов и отсортировать суммы в порядке убывания.\n",
        "#Самый прибыльный фильм окажется в первой строке\n",
        "data42.groupby(['director'])['revenue'].sum().sort_values(ascending=False).head(1)"
      ],
      "execution_count": 22,
      "outputs": [
        {
          "output_type": "execute_result",
          "data": {
            "text/plain": [
              "director\n",
              "Peter Jackson    6490593685\n",
              "Name: revenue, dtype: int64"
            ]
          },
          "metadata": {
            "tags": []
          },
          "execution_count": 22
        }
      ]
    },
    {
      "cell_type": "code",
      "metadata": {
        "id": "RmZJxyVm_cgh"
      },
      "source": [
        "answers['13'] = 'Peter Jackson'#+"
      ],
      "execution_count": 46,
      "outputs": []
    },
    {
      "cell_type": "markdown",
      "metadata": {
        "id": "PsYC9FgRVp_a"
      },
      "source": [
        "# 14. Какой режисер снял больше всего фильмов в стиле Action?"
      ]
    },
    {
      "cell_type": "code",
      "metadata": {
        "id": "wd2M-wHeVp_b",
        "colab": {
          "base_uri": "https://localhost:8080/"
        },
        "outputId": "fe8fef99-3b95-4577-89fd-c33e61b2591d"
      },
      "source": [
        "#Как и в предыдущем задании, разобьём имена режиссёров на списки, а затем на отдельные записи:\n",
        "data3 = data.copy()\n",
        "data3['director'] = data3['director'].str.split('|')\n",
        "data3 = data3.explode('director')\n",
        "#Найдём те записи, которые содержат упоминание нужного нам жанра:\n",
        "data3 = data3[data3.genres.str.contains(\"Action\", na=False)]\n",
        "#Теперь сгруппируем таблицу по именым режиссёров и посчитаем, сколько уникальных идентификаторов фильмов есть у каждого:\n",
        "data4 = data3.groupby(['director'])['imdb_id'].nunique().sort_values()\n",
        "#Сортировка по умолчанию идёт в порядке возрастания, значит самое большое количество фильмов с нужным жанром у режиссёра в конце списка:\n",
        "data4.tail(1)"
      ],
      "execution_count": null,
      "outputs": [
        {
          "output_type": "execute_result",
          "data": {
            "text/plain": [
              "director\n",
              "Robert Rodriguez    9\n",
              "Name: imdb_id, dtype: int64"
            ]
          },
          "metadata": {
            "tags": []
          },
          "execution_count": 53
        }
      ]
    },
    {
      "cell_type": "code",
      "metadata": {
        "id": "gjFOyDZkM--y"
      },
      "source": [
        "answers['14'] = 'Robert Rodriguez'#+"
      ],
      "execution_count": 47,
      "outputs": []
    },
    {
      "cell_type": "markdown",
      "metadata": {
        "id": "PQ0KciD7Vp_f"
      },
      "source": [
        "# 15. Фильмы с каким актером принесли самые высокие кассовые сборы в 2012 году? "
      ]
    },
    {
      "cell_type": "code",
      "metadata": {
        "id": "aga62oeKVp_g",
        "colab": {
          "base_uri": "https://localhost:8080/",
          "height": 35
        },
        "outputId": "783441c7-b745-446c-a484-b45097a425ab"
      },
      "source": [
        "#Найдём все фильмы нужного года производства:\n",
        "data5 = data.copy()\n",
        "data5 = data5[data5['release_year'] == 2012]\n",
        "#Разобьём информацию об актёрах из строки с именами на отдельные записи:\n",
        "data5['cast'] = data5['cast'].str.split('|')\n",
        "data5 = data5.explode('cast')\n",
        "#Сгруппируем таблицу по имени актёра, просуммируем сборы для каждого и отсортируем результаты в порядке убывания:\n",
        "data5.groupby(['cast'])['revenue'].sum().sort_values(ascending = False).index[0]"
      ],
      "execution_count": null,
      "outputs": [
        {
          "output_type": "execute_result",
          "data": {
            "application/vnd.google.colaboratory.intrinsic+json": {
              "type": "string"
            },
            "text/plain": [
              "'Chris Hemsworth'"
            ]
          },
          "metadata": {
            "tags": []
          },
          "execution_count": 61
        }
      ]
    },
    {
      "cell_type": "code",
      "metadata": {
        "id": "A9mM0UfFOEYa"
      },
      "source": [
        "answers['15'] = 'Chris Hemsworth'#+"
      ],
      "execution_count": 48,
      "outputs": []
    },
    {
      "cell_type": "code",
      "metadata": {
        "id": "lC1oh8zANoU9"
      },
      "source": [
        "#Создаём список имён всех актёров, которые есть в датафрейме. Используем написанную в предюобработке функцию:\n",
        "cast_list = []\n",
        "for list in data5['cast']:\n",
        "    list_creator(list, cast_list)\n",
        "#Избавляемся от повторов:\n",
        "cast_set = set(cast_list)\n",
        "cast_set\n",
        "cast_list = ['Donald Sutherland', 'Kurt Russell', 'Kate Beckinsale', 'Kristen Miller', 'Jean Reno', 'Keith Dallas', 'G. W. Bailey', 'Victoria Justice', 'Jon Seda', 'Lorna Raver', 'Oded Fehr', 'Taron Egerton', 'Katy Perry', 'Kate Nauta', 'Hayley Magnus', 'Gisele BÃ¼ndchen', 'Roschdy Zem', 'Kevin Sorbo', 'Monet Mazur', 'Panward Hemmanee', 'Eileen Atkins', 'Lennie Loftin', 'Danielle Panabaker', 'Kristen Bell', 'Daniel Craig', 'Scott Speedman', 'Taraji P. Henson', 'Johnny Whitworth', 'Gael GarcÃ\\xada Bernal', 'Brett Kelly', 'Marin Ireland', 'Jane Lynch', 'Lloyd Owen', 'Dennis Haysbert', 'Robin Williams', 'Billy Campbell', 'Rade Serbedzija', 'Patricia Reyes SpÃ\\xadndola', 'Gina Philips', 'Jean Smart', 'Christopher McDonald', 'Halle Berry', 'Lainie Kazan', 'Steven Brand', 'Shia LaBeouf', 'Maude Apatow', 'Russell Wong', 'Eric Sykes', 'Sara Paxton', 'Jamel Debbouze', 'Anna Friel', 'Cynthia Stevenson', 'Sonoya Mizuno', 'Cory Monteith', 'Alycia Debnam-Carey', 'Irrfan Khan', 'Percy Daggs III', 'Jeremy Irons', \"Denis O'Hare\", 'Carrie Fisher', 'Courtney Taylor Burness', 'Julanne Chidi Hill', 'Mark Consuelos', 'Tom Hollander', 'Huntley Ritter', 'Laura Dern', 'David Thewlis', 'Nathalie Boltt', 'Stevie Wonder', 'Lucy Punch', 'Finn Wittrock', 'Ethan Hawke', 'Steve Martin', 'Ryan Gosling', 'Austin Abrams', 'Harland Williams', 'Chris Rock', 'Daeg Faerch', 'Ian Holm', 'Colm Meaney', 'Adam Driver', 'Scott MacDonald', 'Fred Willard', 'Mircea Monroe', 'Tory Mussett', 'Christina Hendricks', 'Jamie Draven', 'Bill Fagerbakke', 'Rosie Shaw', 'John Sharian', 'Max Charles', 'Jesse Plemons', 'Brian Van Holt', 'Shailene Woodley', 'Chiwetel Ejiofor', 'Mia Kirshner', 'Ewan McGregor', 'Rain', 'Jacki Weaver', 'Jenn Proske', 'Baron Hill', 'Hailee Steinfeld', 'Cyril Raffaelli', 'Christopher Jordan Wallace', 'Matt Stone', 'Hugh Laurie', 'Antje Traue', 'Tobin Bell', 'Joseph Fiennes', 'Shane West', 'John Mahoney', 'Owen Wilson', 'Miranda Cosgrove', 'David Ogden Stiers', 'Ansel Elgort', 'Rhys Wakefield', 'Isobelle Molloy', 'Kathryn Newton', 'Christina Applegate', 'James Brolin', 'Judy Davis', 'Drew Barrymore', 'Jenna Fischer', 'Beau Mirchoff', 'John C. McGinley', 'Tim Bagley', 'Omar Epps', 'Marny Eng', 'Alison Pill', 'Gabriella Wilde', 'Teri Andrzejewski', 'Ashley Scott', 'Russell G. Jones', 'Zhang Ziyi', 'Jakob Salvati', 'John C. Reilly', \"Jerry O'Connell\", 'Logan Lerman', 'Britney Spears', 'Nakamura ShidÅ II', 'Salma Hayek', 'Oscar Pearce', 'Jeffrey Wright', 'Pam Grier', 'Josh Helman', 'Armie Hammer', 'Mitch Baker', 'Alexis Georgoulis', 'Fred Dalton Thompson', 'Michael Stahl-David', 'Adam Herschman', 'Jeremy Piven', 'Chi Cao', 'Jaime Pressly', 'John Magaro', 'Kevin Nealon', 'Julie Ann Emery', 'Bruce Willis', 'Betsy Russell', 'Meg Ryan', 'Lucas Jade Zumann', 'Sophie Vavasseur', 'D. B. Sweeney', 'Jeff Garlin', 'Lauren Hodges', 'Ned Beatty', 'Jon Foster', 'Gemma Chan', 'Anita Briem', 'Dan Hedaya', 'Jessica Hecht', 'Dennis Miller', 'Scott Dymond', 'Antonio Banderas', 'Saurabh Shukla', 'Michael Landes', 'Jack Black', 'Charles S. Dutton', 'Omari Hardwick', 'Kelly Preston', 'Cate Blanchett', 'Leigh Whannell', 'Jeffrey Dean Morgan', 'Mary Elizabeth Winstead', 'Lee Oakes', 'Andrew Airlie', 'Rosemary Harris', 'Kathryn McCormick', 'Jillian Bell', 'Juliette Lewis', 'Wayne Newton', \"Brian O'Halloran\", 'Jack Kehler', 'Olivia DeJonge', 'Peter Weller', 'Michael MacKenzie', 'Wendell Pierce', 'Khalid Abdalla', 'Nolan Gould', 'Steve Blum', 'Vincent PÃ©rez', 'Matthew Broderick', 'Jason Spevack', 'Emma Hitching', 'Frank Langella', 'Olivier Martinez', 'James Earl Jones', 'Zac Efron', 'Heida Reed', 'Christopher Walken', 'Phil Collins', 'Meryl Streep', 'Sam Jaeger', 'Jason Statham', 'Addison Timlin', 'Andy Buckley', 'Ric Young', 'Paul RodrÃ\\xadguez', 'Michael Sheen', 'Sean Hayes', 'Carrie-Anne Moss', 'Alfred Molina', 'Maurice Godin', 'Chandler Canterbury', 'Kathleen Turner', 'Richard Roundtree', 'Daniel BrÃ¼hl', 'Aidan Gillen', \"Gary 'G. Thang' Johnson\", 'Rie Rasmussen', 'Claudia Christian', 'Craig Ferguson', 'Allen Evangelista', 'Til Schweiger', 'Burn Gorman', \"Eileen O'Higgins\", 'Jenny Slate', 'Annie Corley', 'Archie Panjabi', 'Jake Thomas', 'Elisabeth Harnois', 'Barbara Hershey', 'Tony Kgoroge', 'Loan Chabanol', 'Josh Gad', 'Justin Long', 'Samy Naceri', 'Paris Hilton', 'Rosie Perez', 'Richard Gant', 'Ed Oxenbould', 'Geoff Pierson', 'Robert John Burke', 'Toby Stephens', 'Rihanna', 'Gong Li', 'Skye McCole Bartusiak', 'Ryan Sheckler', 'Angus Sampson', 'Gerard Butler', 'Jodelle Ferland', 'Sung Kang', 'Saffron Burrows', 'David Spade', 'Harry Lennix', 'Allison Janney', 'Omar Metwally', 'Joseph Morgan', 'Zoie Palmer', 'Jackie Earle Haley', 'Dan Futterman', 'Ashanti', 'Marilyn Burns', \"Peter O'Brien\", 'Robbie Coltrane', 'William H. Macy', 'Elizabeth Banks', 'Chris Sanders', 'Cory Hodges', 'Thomas Mann', 'Kerry Washington', 'Cary Elwes', 'Bill Goldberg', 'Kim Basinger', 'Chris Pratt', 'Theo James', 'Matt Bomer', 'Alec Wilson', 'Karl Urban', 'Hal Williams', 'Vanessa Redgrave', 'David Hyde Pierce', 'Sarah Snook', 'Matt Bush', 'Donnie Yen', 'James Hong', 'James Badge Dale', 'Tia Carrere', 'Ryan Merriman', 'Jim Caviezel', 'Brittany Snow', 'Val Kilmer', 'Marin Hinkle', 'James Corden', 'Susie Essman', 'Joey Lauren Adams', 'David Denman', 'Pierfrancesco Favino', 'Amy Adams', 'Jennifer Lawrence', 'Heidi Hawkins', 'Benjamin Bratt', 'Anna Maria Horsford', 'Scottie Thompson', 'John Billingsley', 'Dave Sheridan', 'Christo Jivkov', 'Stephen Fry', 'Miguel Castro', 'Robin Thomas', \"Matt O'Leary\", 'Jonathan Keltz', 'Jennifer Beals', 'Rick Yune', 'Jennifer Schwalbach Smith', 'Gerry Bednob', 'GÃ©rard Depardieu', 'Amila Terzimehic', 'David Krumholtz', 'Jason Earles', 'Joel Gretsch', 'Tom Cruise', 'Roxanne McKee', 'Tyler Hoechlin', 'Tim McGraw', 'Gonzalo Menendez', 'Rufus Sewell', 'Miles Teller', 'Mads Mikkelsen', 'Sean Faris', 'Heidi Hayes', 'Cam Gigandet', 'Jessica Guadix', 'Josh Holloway', 'David Hasselhoff', 'Scott G. Anderson', 'Jennifer Carpenter', 'George Dzundza', 'Dennis Farina', 'Helmut Bakaitis', 'Franka Potente', \"John D'Leo\", 'Cameron Bright', 'Sophia Bush', 'Sean Patrick Thomas', 'J.B. Smoove', 'Kate Beahan', 'Halston Sage', 'Jacqueline MacInnes Wood', 'Betsy Rue', 'Ray Winstone', 'Ken Jeong', 'Carice van Houten', 'Lance Reddick', 'Adam Scott', 'Allison Tolman', 'Hugh Jackman', 'Erica Gluck', 'Edison Chen', 'Eric Ladin', 'Russell Peters', 'Ernie Reyes, Jr.', 'Lyndon Smith', 'Sela Ward', 'Mike Epps', 'Bernie Casey', 'Katharine McPhee', 'Tyron Leitso', 'Emily Watson', 'Aaron Wolff', 'Paula GarcÃ©s', 'Katie Holmes', 'Greg Kinnear', '50 Cent', 'Gwyneth Paltrow', 'Chris Massoglia', 'Cary-Hiroyuki Tagawa', 'Alex Pettyfer', 'Johnny A. Sanchez', 'Chazz Palminteri', 'Frank Whaley', 'Simon Pegg', 'Enrico Colantoni', 'Gary Lewis', 'Emory Cohen', 'Kevin Durand', 'Anil Kapoor', 'Kevin Connolly', 'Jacqueline Obradors', 'Luke Treadaway', 'Katarina Cas', 'Harold Gould', 'Karin Konoval', 'QuvenzhanÃ© Wallis', 'David Oyelowo', 'Vanessa Lachey', 'Alec Baldwin', 'Callum Keith Rennie', 'Selma Blair', 'Paul Walker', 'Tony Amendola', 'Felicity Jones', 'Ashley Greene', 'Oona Laurence', 'Lucy Lawless', 'Diego Luna', 'Tiya Sircar', 'Katharine Isabelle', 'Benedict Cumberbatch', 'AndrÃ© Holland', 'William Fichtner', 'Sophia Myles', 'Sarah Shahi', 'Patrick Wilson', 'Tim McInnerny', 'Denis Leary', 'Mary Beth Hurt', 'Demi Moore', 'Courtney B. Vance', 'Anna Popplewell', 'Ben Miller', 'Brittany Daniel', 'Rita Wilson', 'Peter Carey', 'Stephen Dorff', 'Colin Hanks', 'Mark Feuerstein', 'William Mapother', 'Candice Bergen', 'Mako', 'Adrienne Shaw', 'Anson Mount', 'Daniella Alonso', 'Bud Luckey', 'Mario', 'James Karen', 'William Converse-Roberts', 'Steve Howey', 'Aurora Perrineau', 'Nick Zano', 'Matt Lauer', 'David Duchovny', 'Sean Maguire', 'Randy Quaid', 'Alex Thomas', 'Jensen Ackles', 'Romeo Miller', 'Elyes Gabel', 'Michelle Rodriguez', 'Max Records', 'Eric Nenninger', 'Billy Crudup', 'Kevin Conway', 'Allen Covert', 'Michael Nyqvist', 'Megan Dodds', 'Boyd Holbrook', 'Gautam Belur', 'Portia de Rossi', 'Sharlto Copley', 'Lee Majors', 'Rose McGowan', 'Carmen Ejogo', 'Tracy Morgan', \"Ser'Darius Blain\", 'Gregor Fisher', 'Donald Sumpter', 'Julie Walters', 'Justin Theroux', 'Karen Allen', 'Albert Brooks', 'MÃ©lanie Laurent', 'David Banner', 'Taissa Farmiga', 'George Lopez', 'Skandar Keynes', 'Carolyn Lawrence', 'MÃ©lanie Thierry', 'Frankie Muniz', 'Phoebe Tonkin', 'Philippe Reinhardt', 'Ana Gasteyer', 'Rebecca Ferguson', 'Mike Myers', 'Viola Davis', 'Eddie Redmayne', 'Benjamin Hollingsworth', 'Michiel Huisman', 'Max Irons', 'Tim Roth', 'Christopher Nicholas Smith', 'Brian Tee', 'Nathanael Baring', 'Vinnie Jones', 'Jon Heder', 'Bill Melendez', 'Rainn Wilson', 'Hugh Dancy', 'Rick Gonzalez', 'Ashley Judd', 'Amy Schumer', 'Jere Burns', 'Madisyn Shipman', 'Anthony Mackie', 'M.C. Gainey', 'Peter Berg', 'Chase Wright Vanek', 'Cheech Marin', 'David Belle', 'Kelly Carlson', 'Steve Toussaint', \"Robert Ri'chard\", 'Mekhi Phifer', 'Rachel Hurd-Wood', 'Burt Reynolds', 'Rose Leslie', 'Alex Jennings', 'Damon Wayans Jr.', 'Morgan Freeman', 'Callan Mulvey', 'MoisÃ©s Arias', 'Wilson Jermaine Heredia', 'Arthur Angel', 'Sharon Small', 'Lucas Black', 'Jeff Daniels', 'Zeljko Ivanek', 'Zach Gilford', 'Simon McBurney', 'Clive Owen', 'Megan Charpentier', 'Meagan Good', 'Chris Miller', 'Dr. Dre', 'William Moseley', 'Mark Ruffalo', 'Rob Lowe', 'Paul Soles', 'Ray Romano', 'Dania Ramirez', 'Nathan Bexton', 'Charlie Cox', 'Christopher Lambert', 'Monica Potter', 'Dolph Lundgren', 'Oscar Isaac', 'Nicole Sullivan', 'Olivia Williams', 'Liza Lapira', 'Jane Alexander', 'Elden Henson', 'Dylan Baker', 'Joel Edgerton', 'Paul Giamatti', 'Ben Foster', 'Diane Lane', 'Beth Grant', 'Channing Tatum', 'Charlie Day', 'Uma Thurman', 'Gina Carano', 'Debra Messing', 'Liam Cunningham', 'Juliette Binoche', 'Katrina Bowden', 'Ian McNeice', 'Bipasha Basu', 'Ashley Bell', 'Donna Murphy', 'Sanoe Lake', 'Terry Crews', 'Robert Maillet', 'Diedrich Bader', 'Mark Brady', 'Elvis Polanski', 'Lisa Roberts Gillan', 'Olivia Munn', 'Joan Cusack', 'Matt Cross', 'Jennifer Aniston', 'Bruce Greenwood', 'RenÃ©e Zellweger', 'Timothy Spall', 'Ellie Kemper', 'Nathan Kress', 'Holly Valance', 'Damaine Radcliff', 'Phylicia RashÄd', 'Michael Irvin', 'Rhys Ifans', 'Dakota Blue Richards', 'Dane DeHaan', 'Bruce Bruce', 'Richard Harris', 'Crispin Glover', 'Jessica Szohr', 'Alisa Khazanova', 'Eloise Mumford', 'Sandra Bullock', 'Aly Michalka', 'Jay Baruchel', 'Daniel Olbrychski', 'Dan Castellaneta', 'Anjelica Huston', 'Steve Harvey', 'Jay O. Sanders', 'Joseph Gilgun', 'Rupert Evans', 'Matthew Goode', 'Michael Roof', 'Linda Cardellini', 'Rebecca Hall', 'Matthew Settle', 'Denzel Whitaker', 'Drea de Matteo', 'Anthony Anderson', 'Colm Feore', 'Brian Geraghty', 'John Leguizamo', 'James Lafferty', 'Ryan Kwanten', 'Holliday Grainger', 'Tom Skerritt', 'Amber Valletta', 'Jesse Eisenberg', 'Robert Capron', 'Bob Odenkirk', 'Fionnula Flanagan', 'Jai Courtney', 'Jude Law', 'Ian Somerhalder', 'Erica Ash', 'Michael Rapaport', 'Cameron Boyce', 'Joe Slaughter', 'John Travolta', 'Patrick Fischler', 'Sheri Moon Zombie', 'Luke Evans', 'Eddie Deezen', 'Robert Downey Jr.', 'Katee Sackhoff', 'Glenn Howerton', 'John Robinson', 'Edward Herrmann', 'Robert Sheehan', 'Pink', 'Albert Finney', 'Amanda Detmer', 'Thomas Curtis', 'Felicity Huffman', 'Geraldine Somerville', 'Conrad Vernon', 'Ryan Robbins', 'Spencer Locke', 'Kirsten Dunst', 'Tang Wei', 'Jesse James', 'Keri Russell', \"James D'Arcy\", 'Aitana SÃ¡nchez-GijÃ³n', 'Kathryn Morris', 'Jason Cope', 'Adam Campbell', 'Adam Sandler', 'Angus Macfadyen', 'Emma Thompson', 'Bob Peterson', 'E.G. Daily', 'Kelly Clarkson', 'Timyra-Joi Beatty', 'Vincent Cassel', 'T.I.', 'Mathieu Kassovitz', 'Russell Brand', 'Rachel Korine', 'Faune A. Chambers', 'Michael B. Jordan', 'Nick Rotteveel', 'Kagiso Kuypers', 'Vicky Krieps', 'Asia Argento', 'Queen Latifah', 'Cung Le', 'Abigail Hargrove', 'James Hetfield', 'Jason Sudeikis', 'Paul Johansson', 'Ryan McCluskey', 'Ella Rae Peck', 'Joanna Gleason', 'Jim Cummings', 'Agnes Bruckner', 'Iben Hjejle', 'Tommy Lee Jones', 'Briana Evigan', 'Chris Diamantopoulos', 'John Broadwater', 'Treat Williams', 'Denise Richards', 'Sam Shepard', 'Alexander SkarsgÃ¥rd', 'Cicely Tyson', 'Riley Keough', 'Nestor Serrano', 'Myleene Klass', 'Dan Fogler', 'Laura Linney', 'Stephen Baldwin', 'Dominique Louis', 'Eddie Murphy', 'Marc Anthony', 'Michael Ironside', 'Anton Yelchin', 'Mary-Kate Olsen', 'Scoot McNairy', 'Kareena Kapoor', 'Jeff Bennett', 'David Lyons', 'Aimee Teegarden', 'Britt Robertson', 'Eve Hewson', 'Tyler Hilton', 'Jason Patric', 'Pihla Viitala', 'Jeremy Renner', 'Samuel L. Jackson', 'Richard Goteri', 'Zooey Deschanel', 'Jake T. Austin', 'Ulrich Tukur', 'James Kidnie', 'Timothy Olyphant', 'Geraldine Hughes', 'Bill Paterson', 'John Hurt', 'Tom Courtenay', 'Randall Park', 'Moran Atias', 'Abigail Bianca', 'Andrei Dementiev', 'Jessica Lucas', 'Doris Roberts', 'Powers Boothe', 'Adewale Akinnuoye-Agbaje', 'Rachelle Lefevre', 'Ann Harada', 'Camilla Belle', 'Aishwarya Rai Bachchan', 'Aksel Hennie', 'Cassidy Gifford', 'Chris J. Murray', 'Jonathan Cherry', 'Tatiana Maslany', 'Frank Welker', 'Jim Parsons', 'Matt Long', 'Patrick Warburton', 'William Lee Scott', 'Finnegan Williams', 'Timothy Hutton', 'Yolandi Visser', 'Nina Dobrev', 'Cynthia Nixon', 'Barry Watson', 'Sienna Guillory', 'Taryn Manning', 'Michael Imperioli', 'John Lone', 'Brian J. White', 'DeRay Davis', 'Peter Coyote', 'Ving Rhames', 'John Ortiz', 'Jeremy Marinas', 'Mackenzie Davis', 'Debra Winger', 'Agata Buzek', 'Taylor Schilling', 'Gregory Itzin', 'Charles Dance', 'Steve Whitmire', \"Alex O'Loughlin\", 'Tom Felton', 'Bree Turner', 'Steve Zahn', 'Ed Speleers', 'Logan White', 'Jack McElhone', 'Daniel Gillies', 'Jorge Garcia', 'Angus T. Jones', 'Monica Keena', 'Omar J. Dorsey', 'Michael Lonsdale', 'Brandy Norwood', 'Jennifer Garner', 'Daniela Ruah', 'James Franco', 'Heath Ledger', 'Nicolas Cage', 'Matt Damon', 'Max Ryan', 'Jay Villiers', 'Nicholas Tse', 'Adam RodrÃ\\xadguez', 'Kelan Pannell', 'Clint Howard', 'Kate Hudson', 'Mike Pniewski', 'Sean Connery', 'Leon Rippy', 'Cliff Curtis', 'Tom Welling', 'Bianca A. Santos', 'Brad Dourif', 'Neve Campbell', 'Dave Franco', 'Alice Braga', 'Allison Mackie', 'Orlando Bloom', 'Clint Eastwood', 'Luke Wilson', 'Mia Moretti', 'Ian McDiarmid', 'Kim Coates', 'Philip Seymour Hoffman', 'Gabriel Mann', 'Liev Schreiber', 'Neha Dhupia', 'Beau Knapp', 'Noah Taylor', 'Juan Carlos HernÃ¡ndez', 'Amanda Crew', 'Adriana Barraza', 'Collette Wolfe', 'Jenny McCarthy', 'Cillian Murphy', 'Lena Olin', 'Shannyn Sossamon', 'Clifton Powell', 'Odette Annable', 'DMX', 'John Ashton', 'Ice Cube', 'Charlie Saxton', 'Max Baker', 'Eric Bana', 'Dianne Wiest', 'Mandy Moore', 'Orlando Jones', 'Michael Kelly', 'Katherine Waterston', 'Zuleikha Robinson', 'Ron Leibman', 'Stacy Keach', 'Iain Glen', 'Lily Collins', 'Bradley Cooper', 'Stuart Townsend', 'Eddie J. Fernandez', \"Mo'Nique\", 'Kenan Thompson', 'Tamala Jones', 'Rohan Chand', 'Leelee Sobieski', 'Peter Mullan', 'Dianne Reeves', 'Nathan Phillips', 'Allen Leech', 'Francesca Neri', 'Bruno Ganz', 'Kelly Macdonald', 'Edward James Olmos', 'Karyn Parsons', 'Jim Beaver', 'Redman', 'Alexander Gould', 'Bill Irwin', 'Virginia Gardner', 'Sarah Murdoch', 'Jenny Wade', 'Arielle Kebbel', 'Glenne Headly', 'Anika Noni Rose', 'Rafe Spall', 'Erica Leerhsen', 'John Shrapnel', 'Jake Lacy', 'Geraldine James', 'Mia Wasikowska', 'Billy Bob Thornton', 'Ben Shenkman', 'John Hawkes', 'Kane Hodder', 'Billy Connolly', 'Julia Ormond', 'Benno FÃ¼rmann', 'Maitland Ward', 'CiarÃ¡n Hinds', 'Simon Woods', 'Max Minghella', 'Ahney Her', 'Ayelet Zurer', 'Shannon Cochran', 'Jay Mohr', 'Billy Burke', 'Will Patton', \"Michael O'Keefe\", 'Joe Anderson', 'Jasmine Trinca', 'Dan Aykroyd', 'Charlie Hewson', 'Megan Cavanagh', 'Eduardo VerÃ¡stegui', 'SÃ´nia Braga', 'Alex D. Linz', 'Ike Barinholtz', 'Julia Stiles', 'Monica Raymund', 'Lombardo Boyar', 'Robert Carlyle', 'Nicholas Art', 'Grant Bowler', 'Martin Sheen', 'Tyrese Gibson', 'Charlie Yeung', 'Leland Orser', 'Larry Miller', 'Dax Flame', 'Kenny Wormald', 'James Francis Kelly III', 'James Marsden', 'Mamie Gummer', 'Terry Kinney', 'Brady Allen', 'Tanja Reichert', 'Michael Keaton', 'Deniz Akdeniz', 'Jake McDorman', 'Amanda Seyfried', 'Joe Viterelli', 'Ron Glass', 'Paul Anderson', 'Madeleine West', 'Nash Edgerton', 'Ashley Tisdale', 'Maureen Lipman', 'Caroline Goodall', 'Michael Vartan', 'Dylan Minnette', 'Aaron Yoo', 'Louis Gossett, Jr.', 'Ed Helms', 'Jimmy Bennett', 'Angie Harmon', 'Christopher Eccleston', 'Christopher Evan Welch', 'Richard Madden', 'Colin Ford', 'Robin Wright', 'Connor Corum', 'Djimon Hounsou', 'Sam Neill', 'Shuler Hensley', 'Jennifer Coolidge', 'Phaldut Sharma', 'Debbie Reynolds', 'Janeane Garofalo', 'Ioan Gruffudd', 'Sherri Shepherd', 'Natalie Portman', 'Walton Goggins', 'Gene Hackman', 'Jay Chandrasekhar', 'Izabella Scorupco', 'Lisa Ann Walter', 'Kevin McKidd', 'Lonny Ross', 'Jose Pablo Cantillo', 'David Hayman', 'Jacinda Barrett', 'Jennifer Esposito', 'Mark Strong', 'Liam Neeson', 'Amir K', 'Alistair McGowan', 'Ivana MiliÄeviÄ‡', 'Victor Rasuk', 'Rupert Friend', 'Leonardo DiCaprio', 'Liane Balaban', 'Christopher Carley', 'Eric Lloyd', 'Ulrich Thomsen', 'Tate Ellington', 'Gemma Jones', 'Craig T. Nelson', 'Bernie Mac', 'Brian Howe', 'Travis Wester', 'Andy Serkis', 'CÃ©cile De France', 'Jana Hrabetova', 'Jerry Stiller', 'Reese Witherspoon', 'Gabriel Macht', 'Anne Bancroft', 'Emilia Fox', 'Simon Helberg', 'Robert Amaya ', 'Betty White', 'Jamie Blackley', 'Arnold Vosloo', 'Kevin Zegers', 'Shantel VanSanten', 'Mickey Rourke', 'Bokeem Woodbine', 'JoJo Kushner', 'Audra McDonald', 'Kevin Rahm', 'Fred Ward', 'Robert Carradine', 'Bryce Dallas Howard', 'Laura Johnson', 'Ellen Wroe', 'Breckin Meyer', 'Jeff LeBeau', 'Tsuyoshi Ihara', 'Ben Kingsley', 'Tony Todd', 'Stephen Lang', 'Karel Roden', 'Aziz Ansari', 'Max Martini', 'Bill Smitrovich', 'Kenneth Welsh', 'Jack Davenport', 'J.K. Simmons', 'Sylvaine Strike', 'Estella Warren', 'Jerry Seinfeld', 'Andrew Ginsburg', 'Dylan Moran', 'Wen Yann Shih', 'Jean Heywood', 'Abigail Breslin', 'Justin Bieber', 'June Squibb', 'Sarah Drew', 'David Henrie', 'Sean Penn', 'Scott Bakula', 'Jeremy Sisto', 'Hanns Zischler', 'Eva Longoria', 'Evan Peters', 'Jessica Alba', 'Peter Dinklage', 'Rene Russo', 'Nick Nolte', 'Bruce Altman', 'Glenn Close', 'Madeline Carroll', 'Fran Kranz', 'Catherine Sutherland', 'Holly Hunter', 'Costas Mandylor', 'Keith David', 'Mary Birdsong', 'Rhys Darby', 'Lou Romano', 'Mike Colter', 'Julie Kavner', 'David Zayas', 'Luis GuzmÃ¡n', 'Imogen Poots', 'Anders Holm', 'Larenz Tate', 'Rachel McAdams', 'Curtis Armstrong', 'Christian McKay', 'Zachary Knighton', 'Julia Garner', 'AdriÃ¡n Alonso Barona', 'Bronwen Coleman', 'Nate Parker', 'Madison Davenport', 'Eileen Brennan', 'Fernanda Romero', 'Amy Brenneman', 'Tom Sizemore', 'Brooke Shields', 'Obba BabatundÃ©', 'Tyler Perry', 'Danneel Ackles', 'Sean Bridgers', 'Dermot Mulroney', 'James Buckley', 'Ellen Burstyn', 'Gaelan Connell', 'Clea DuVall', 'Andy Davoli', 'Jackson Nicoll', 'Kristin Scott Thomas', 'Yvan Attal', 'Ashraf Barhom', 'Dustin Hoffman', 'Jack Nicholson', 'Sean Astin', 'Bridget Moynahan', 'Eric Jacobson', 'Anna Wood', 'Kristin Chenoweth', 'Chris Cooper', 'Rick Malambri', 'Katie Chang', 'Scott Adkins', 'Aimee Garcia', 'Sheila Kelley', 'James Coburn', 'Don Cheadle', 'Richard Felix', 'Helen McCrory', 'Abhishek Bachchan', 'Lacey Chabert', 'Brian Dennehy', 'Joel Courtney', 'Evan Arnold', 'Philip Bolden', 'Lennie James', 'Ludivine Sagnier', 'Edwin Hodge', 'James Spader', 'Tony Cox', 'Alicia Vikander', 'Steele Stebbins', 'Raoul Max Trujillo', 'Chuck Campbell', 'Danny Sapani', 'Steven Dasz', 'Thomas Jane', 'Amelia Curtis', 'Andrew Scott', \"Chris O'Dowd\", 'Sienna Miller', 'Ashley Williams', 'Skyler Samuels', 'Maura Tierney', 'Forest Whitaker', 'Anthony Hopkins', 'SinÃ©ad Cusack', 'George Clooney', 'Amy Sedaris', 'Fan Bingbing', 'Jane Horrocks', 'Joel Kinnaman', 'Jordan Nagai', 'Michael Cera', 'Lily Tomlin', 'Chris Sarandon', 'Michael Rainey Jr.', 'Nick Lashaway', 'Brandon Routh', 'Damon Herriman', 'Brenton Thwaites', 'Aasif Mandvi', 'Aidan McArdle', 'Harry Connick Jr.', 'Robert De Niro', 'Craig Archibald', 'Lena Headey', \"Lupita Nyong'o\", 'Michael-Leon Wooley', 'Gina Gershon', 'Sam Elliott', 'Seth MacFarlane', 'Travis Oates', 'Shane Brolly', 'Daveigh Chase', 'Anne Heche', 'Christian Kane', 'Diana Bang', 'Ben Chaplin', 'Danny Glover', 'Analeigh Tipton', 'Bijou Phillips', 'Wendy Raquel Robinson', 'Jimmy Fallon', 'David Morse', 'Kevin Sussman', 'Jonny Weston', 'Michael Stuhlbarg', 'Cassie Ventura', 'Peyton List', 'John Cena', 'Lindsay Lohan', 'Nicholas King', 'Jean Dujardin', 'Hunter McCracken', 'Lois Smith', 'John Rhys-Davies', 'Adil Hussain', 'Samantha Mathis', 'Alyson Stoner', 'Michael Ealy', 'Mac McDonald', \"Nicholas D'Agosto\", 'Armin Rohde', 'Michelle Yeoh', 'Lili Taylor', 'Scott Eastwood', 'Paula Abdul', 'Sarita Choudhury', 'Nick Robinson', 'Jessica Biel', 'Dina Meyer', 'Gillian Anderson', 'Ron Eldard', 'Jacob Latimore', 'Arnold Schwarzenegger', 'Rutina Wesley', 'Andy Samberg', 'Bibi Naceri', 'Rhiana Griffith', 'Radha Mitchell', 'Jamie Chung', 'Lizzy Caplan', 'Jermaine Williams', 'Sean Bean', 'Rory Cochrane', 'Michael Angarano', 'Andy Dick', 'Fergus Riordan', 'January Jones', 'Dee Bradley Baker', 'Sarah Wayne Callies', 'Kerry Condon', 'Benjamin Kanes', 'George W. Bush', 'Paddy Considine', 'Alexandra Maria Lara', 'Zach Braff', 'Rudy Youngblood', 'Miranda Richardson', 'Tsai Chin', 'Isabel Lucas', 'Michael Caine', 'Ben Affleck', 'T.J. Miller', 'Peter Sarsgaard', 'Mari Morrow', 'Martin Starr', 'Russell Crowe', 'Bruce Campbell', 'Adrian Paul', 'Dave England', 'Debra Jo Rupp', 'Brian Blessed', 'Alex Fisher', 'Brad Loree', 'Jennifer Jason Leigh', 'Robert Belushi', 'Chadwick Boseman', 'Josh Duhamel', 'Edie Falco', 'Maggie Smith', 'Hakeem Kae-Kazim', 'Hilary Duff', 'Youki Kudoh', 'Lauren Graham', 'Mark Duplass', 'Deobia Oparei', 'Jessica Simpson', 'Rodrigo Santoro', 'Moa Khouas', 'Jack Thompson', 'Ed Skrein', 'Alan Alda', 'Emilio Rivera', \"Jodi Lyn O'Keefe\", 'Rosamund Pike', 'Jake La Botz', 'Naveen Andrews', 'Jim Carrey', 'Alex Russell', 'Faizon Love', 'Matthew Perry', 'Chad Lindberg', 'Russ Fega', 'Sarah Silverman', 'Gerard Plunkett', 'Michael Fassbender', 'Paul Rudd', 'Noah Segan', 'Brian Dietzen', 'Sherry Miller', 'Bob Balaban', 'Gordon Liu Chia-Hui', 'Lester Speight', 'Gregory Smith', 'Craig Bierko', 'Tom Selleck', 'Jemaine Clement', 'Adam Garcia', 'Carrie Underwood', 'Simon Baker', 'Annie Parisse', 'Johnny Strong', 'Emily Blunt', 'Zoe Saldana', 'Kathryn Hahn', 'Jodie Foster', 'Tessa Thompson', 'Steven Berkoff', 'Eric Balfour', 'Will.i.am', 'Noah Emmerich', 'Joey King', 'Danny DeVito', 'Lisa Kudrow', 'Taylor Swift', 'Busy Philipps', \"Peter O'Toole\", 'Amaury Nolasco', 'Benicio del Toro', 'Krysten Ritter', 'L. Scott Caldwell', 'Edward Furlong', 'Kelly Lynch', 'Gabriel Byrne', 'Vicky McClure', 'Daniel Wyllie', 'Joanna Lumley', 'Erin Daniels', 'Eddie Griffin', 'Jackie Chan', 'Trish Gates', 'Elizabeth Reaser', 'Kate Shindle', 'Peter Sohn', 'Blake Cooper', 'Stephen Tobolowsky', 'John Lithgow', 'Alexander Asefa', 'Sam Trammell', 'Brittany Murphy', 'Jonathan Frakes', \"Carroll O'Connor\", 'Roger Bart', 'Tim Allen', 'LaJessie Smith', 'Nicole Beharie', 'Heike Makatsch', 'Ethan Suplee', 'AnnaSophia Robb', 'Violante Placido', 'Malcolm David Kelley', 'Amy Ryan', 'Danny Huston', 'Julianna Margulies', 'Carmen Electra', 'Brian H. Dierker', 'Melissa McCarthy', 'Sydney Pollack', 'Kerr Smith', 'Jessica Barth', 'Adam Alexi-Malle', 'Portia Dawson', 'Jorge Diaz', 'Wallace Wolodarsky', 'George Takei', 'Astro', 'Diane Keaton', 'Aleisha Allen', 'Kristanna Loken', 'Sean McCann', 'Derek Mears', 'Matthias Schoenaerts', 'Ren Quan', 'Jennifer Hudson', 'Lisa Gay Hamilton', 'Dominique McElligott', 'Ricky Gervais', 'Steve Buscemi', 'Columbus Short', 'Christopher Kirby', 'Yuan Wenkang', 'Kristy Swanson', 'Sydney Tamiia Poitier', 'Robbie Amell', 'Jordi MollÃ\\xa0', 'Douglas Booth', 'Thomas Brodie-Sangster', 'Jeremy Strong', 'Mary Steenburgen', 'Matt Lanter', 'Lenny Venito', 'Douglas Hodge', 'Gemmenne de la PeÃ±a', 'Paul Dano', 'Andy Lau', 'David Wenham', 'Laurie Metcalf', 'Cara Delevingne', 'Chris Evans', 'Gates McFadden', 'Roger Ashton-Griffiths', \"Joanna 'JoJo' Levesque\", \"Dylan O'Brien\", 'Alice Parkinson', 'Penelope Ann Miller', 'Elizabeth Mitchell', 'Yousuf Azami', 'Penelope Wilton', 'Thomas McDonell', 'Jason Behr', 'Malin Ã…kerman', 'Mika Boorem', 'Aidan Quinn', 'Tom Holland', 'Dylan Brown', 'Paul Soter', 'Todd Louiso', 'Danila Kozlovskiy', 'Chris Zylka', 'Diana Scarwid', 'Wen Bin Huang', 'Devon Sawa', 'Bonnie Perlman', 'Kerry Fox', 'Madeleine Stowe', 'Jean-Luc Bilodeau', 'Elissa Knight', 'Art Parkinson', 'Catalina Sandino Moreno', 'Dean Collins', 'Laz Alonso', 'Desmond Harrington', 'Danny Strong', 'Jessica Chastain', 'John Carroll Lynch', 'Saxon Sharbino', 'Daniel Day-Lewis', 'America Ferrera', 'Natalya Rudakova', 'Ron Rifkin', 'Chris Pine', 'Leighton Meester', 'Adam Lamberg', 'Leslie Nielsen', 'Perdita Weeks', 'Christopher Lee', 'Mila Kunis', 'Marc Fayolle', 'Jamie Bell', 'Dean Cain', 'Riley Griffiths', 'Marcia Gay Harden', 'Eamonn Walker', 'Jonathan Rhys Meyers', 'Steven Culp', 'Sean Pertwee', 'Tina Lifford', 'Josh Hammond', 'Jet Li', 'Catherine Kresge', 'Mia Xitlali', 'Seth Green', 'Shawn Roberts', 'Corey Stoll', 'Charlie Sheen', 'Giancarlo Esposito', 'Resse Hartwig', 'Henry Thomas', 'Patricia Belcher', 'Anthony Ruivivar', 'Cole Hauser', 'Martin Henderson', 'Dick Van Dyke', 'Chad Michael Murray', 'Michael Kopsa', 'Mary Alice', 'Sam Riley', 'Gerald McRaney', 'Jason Mewes', 'Kazunari Ninomiya', 'Constantino Romero', 'Jennifer Love Hewitt', 'Gemma Ward', 'Olga Kurylenko', 'Dejan Angelov', 'Stan Collymore', 'Shirley MacLaine', 'Flaminia Cinque', 'Michael Jai White', 'Cozi Zuehlsdorff', 'Anthony Ray Parker', 'Hope Davis', 'Peter Gallagher', 'Gary Sinise', 'Oliver Reed', 'Nicole Kidman', 'Diego Boneta', 'Andrew McCarthy', 'Alexander Siddig', 'Dash Mihok', 'Martin Landau', 'Sally Field', 'Vanessa Ferlito', 'Wes Bentley', 'Eddie Marsan', 'Hallie Todd', 'Tim Daly', 'Ryan Phillippe', 'Mark Rylance', 'Christoph Waltz', 'Johnny Depp', 'Ken Medlock', 'Anthony Rapp', \"O'Shea Jackson Jr.\", 'Ben Schwartz', 'ClÃ©mence PoÃ©sy', 'Kimberly Elise', 'Jesse Bradford', 'Jesper Christensen', 'Kevin Chapman', 'FranÃ§ois BerlÃ©and', 'Jared Gilman', 'Jordan Garrett', 'Thomas Dekker', 'Georgina Cates', 'Dave Bautista', 'Robert Hoffman', 'Julia Roberts', 'Daniel E. Smith', 'Hrithik Roshan', 'Kevin Dunn', 'Madhavan', 'James McAvoy', 'David Koechner', 'Olivia Cooke', 'James Cameron', 'Emmanuelle Chriqui', 'Kyra Sedgwick', 'Heather Locklear', 'Tony Shalhoub', 'Ginnifer Goodwin', 'Bailee Madison', 'Sarah Polley', 'Alex Borstein', 'Jared Leto', 'Frankie Faison', 'Paul Whitehouse', 'Viggo Mortensen', 'Lymari Nadal', 'Stephen Dillane', 'Annabelle Wallis', 'Thomas Robinson', 'Leah Pipes', 'Carlos Alazraqui', 'Ashley Benson', 'Freddie Prinze Jr.', 'Sophie Okonedo', 'Patricia Clarkson', 'Julian Christopher', 'Andrea Martin', 'Matthew Gray Gubler', 'Aaron Eckhart', 'Cyndi Mayo Davis', 'Raffey Cassidy', 'Miranda Otto', 'Thora Birch', 'Ann Dowd', 'Billy Crystal', 'Ana Coto', 'Bitsie Tulloch', 'Elizabeth Blackmore', 'Cameron Richardson', 'John Patrick Amedori', 'Bill Murray', 'Callan McAuliffe', 'Bernard Blancan', 'Steve Coogan', 'Aaron Paul', 'Javier Bardem', 'Joel McHale', 'Ari Graynor', 'Ewen Bremner', 'Christine Taylor', 'Melissa Benoist', 'Spencer Treat Clark', 'Robert Englund', 'Zoe McLellan', 'Suraj Sharma', 'Quinton Aaron', 'Simon Rex', 'Jemima West', 'Lea Thompson', 'Bonnie Hunt', 'Christopher Knights', 'Ron Perlman', 'Marshall Bell', 'Tim Robbins', 'Virginie Ledoyen', 'Kate Upton', 'Dominic West', 'Becca Gardner', 'Robert Joy', 'Virginia Madsen', 'Mindy Sterling', 'Jim Broadbent', 'Edward Norton', 'Woody Harrelson', 'Colin Egglesfield', 'Daren Kagasoff', 'Robert Duvall', 'Michael Moore', 'Patrick Dempsey', 'Michael Pitt', 'Paul Sanchez', 'Aaliyah', 'Justin Chon', 'Sami Bouajila', 'Amara Miller', 'Richard Roxburgh', 'Tom Hardy', 'Henry Winkler', 'Leonor Varela', 'Sarah Burns', 'Sean Patrick Flanery', 'Audrey Tautou', 'James DeBello', 'Dean Norris', 'Herman Osorio', 'Richard Cabral', 'Rowan Atkinson', 'Kevin Spacey', 'Chyler Leigh', 'Dylan Walsh', 'Sami Gayle', 'Giovanni Ribisi', 'Rebecca Romijn', 'David Paymer', 'Bryan Cranston', 'Jamie Elman', 'Rachael Harris', 'Whoopi Goldberg', 'Michael Biehn', 'Emilie de Ravin', 'Jennifer Ehle', 'Asa Butterfield', 'Ryan Lee', 'Pauline Collins', 'Tom Arnold', 'Joss Ackland', 'Noel Fisher', 'Clark Duke', 'Kath Soucie', 'Atossa Leoni', 'Gary Sweet', 'John Goodman', 'Lauren Bittner', 'Guillaume Canet', 'Ben Garant', 'Lauren German', 'Bobby Cannavale', 'Alan Arkin', 'Rae Dawn Chong', 'Nicola Peltz', 'Maureen Keiller', 'Elisha Cuthbert', 'Matt Shively', 'Ã“lafur Darri Ã“lafsson', 'Maya Rudolph', 'Jimmi Simpson', 'Marshall Chapman', 'Ajay Naidu', 'Kevin Pollak', 'DJ Qualls', 'Erik Stolhanske', 'Anna Paquin', 'Bob Tracey', 'Kate del Castillo', 'Haley Bennett', 'Tom Hiddleston', 'Mena Suvari', 'Shannon Woodward', 'Janet Jackson', 'Bridget Fonda', 'Clark Gregg', 'Eliza Bennett', 'Danielle Campbell', 'Jack McBrayer', 'Brooklyn Decker', 'Mary Kay Place', 'Shane Harper', 'George McLaren', 'Lake Bell', 'Jeffrey Donovan', 'Daran Norris', 'Pascale Hutton', 'Ebon Moss-Bachrach', 'Morris Birdyellowhead', 'Jessica Brown Findlay', 'Catherine Zeta-Jones', 'Michael York', 'Matthew McConaughey', 'Dominic Cooper', 'DJ Pooh', 'Melissa Leo', 'Svetlana Khodchenkova', 'Collin Chou', 'Jasmine Jessica Anthony', 'Rob Morrow', 'Nicky Whelan', 'Odeya Rush', 'Tess Liu', 'Cayden Boyd', 'Zachary Levi', 'Piper Perabo', 'Jonathan Brewer', 'Sylvester Stallone', 'Neil Patrick Harris', \"Mickey O'Keefe\", 'Joaquin Phoenix', 'Jason Flemyng', 'Yanina Studilina', 'Eartha Kitt', 'Russell Means', 'Tim Meadows', 'Xzibit', 'Snoop Dogg', 'Goran Visnjic', 'Emily Ratajkowski', 'Nancy Cartwright', 'Jenna Boyd', 'Gina Torres', 'Wesley Snipes', 'Jackson Bond', 'Alice Drummond', 'Joe Pantoliano', 'Fred Melamed', 'Deirdre Blades', 'Suzuka Ohgo', 'Anne Hathaway', 'Bai Ling', 'Kathleen Quinlan', 'Mr. T', 'Andie MacDowell', 'Christopher Dunne', 'Joan Chen', 'Chris Brown', 'Amanda Peet', 'Eddie Kaye Thomas', \"Bobb'e J. Thompson\", 'Lisa Barbuscia', 'Jason Isaacs', 'Michael Chiklis', 'Sasha Alexander', 'RZA', 'Sophie Marceau', 'Sally Hawkins', 'Cobie Smulders', 'Justice Smith', 'Jason London', 'Fairuza Balk', 'Taylor Lautner', 'Courtney Love', 'Lenny Kravitz', 'Adrian Grenier', 'John Slattery', 'Julia Louis-Dreyfus', 'Angourie Rice', 'Haley Hudson', 'Chelsea Handler', 'Ossie Davis', 'Peter Clayton-Luce', 'Choi Min-sik', 'Kevin Smith', 'Tasha Smith', 'Nick Krause', 'Miranda Hart', 'Laura Fraser', 'Norah Jones', 'Amy Poehler', 'Noomi Rapace', 'Elizabeth Perkins', 'Ayush Tandon', 'Maria Bello', 'Charlie Tahan', 'Omar Sharif', 'Diane Kruger', 'Jonathan Lipnicki', 'Courteney Cox', 'Kennedi Clements', 'Aaran Thomas', 'Jessica Lowndes', 'Catherine Deneuve', 'Nirattisai Kaljaruek', 'Carmen Chaplin', 'Isabelle NÃ©lisse', 'Will Poulter', 'Michael Mosley', 'Liz Smith', 'Raven-SymonÃ©', 'Claudia Karvan', 'Ezra Miller', 'Lee Tergesen', 'Rob Corddry', 'Drake Bell', 'Jack Conley', 'Angela Kinsey', 'Clancy Brown', 'Oliver Cooper', 'Dileep Rao', 'Rory Kinnear', 'Eric Christian Olsen', 'Cedric the Entertainer', 'Andy GarcÃ\\xada', 'Gemma Arterton', 'Kristen Connolly', 'Joseph Gordon-Levitt', 'Craig Berry', 'Octavia Spencer', 'Lochlyn Munro', 'Richard Gere', 'Judd Lormand', 'Tony Goldwyn', 'Selena Gomez', 'Joshua Jackson', 'Cindy Cheung', 'Cee Lo Green', 'Michael Carman', 'Adam Arkin', 'Charlie Rowe', 'Lucas Till', 'Al Gore', 'Keira Knightley', 'Gia Mantegna', 'Sam Easton', 'Chris Warren, Jr.', 'Alicia Keys', 'Zachary Gordon', 'Henry Cavill', 'Anne Archer', 'Masasa Moyo', 'Brit Shaw', 'Allan Corduner', 'Emma Roberts', 'Stephanie Szostak', 'Kyla Pratt', 'Sayed Badreya', 'Luenell', 'Kyle Gallner', 'Victor Garber', \"Mike O'Brien\", 'Kuno Becker', 'Cole Konis', 'Alicia Silverstone', 'Deborah Rush', 'Mark Hamill', 'India Eisley', 'Jon Favreau', 'Hannah Ware', 'Edi Gathegi', 'DemiÃ¡n Bichir', 'Oliver Platt', 'William Black', 'Jack Reynor', 'Ashley Hinshaw', 'Alexis Bledel', 'Rosario Dawson', 'Maika Monroe', 'WolÃ© Parks', 'Michael Shannon', 'Matt Dillon', 'Jason Mitchell', 'Paulo Costanzo', 'Chris Marquette', 'Rashida Jones', 'Catherine McCormack', 'Anna Hoelck', 'Alan Ritchson', 'Gil McKinney', 'Pruitt Taylor Vince', 'Sarah Michelle Gellar', 'Susanna Thompson', 'Joan Allen', 'Ella Wahlestedt', 'Alice Krige', 'Daniel Baldwin', 'Gillian Jacobs', 'Aldis Hodge', 'Ted Levine', 'Michael Michele', 'Carly Nahon', 'Greg Germann', 'Steve-O', 'Jason Gray-Stanford', 'Alessandro Nivola', 'William Forsythe', 'Alyson Hannigan', 'Gabriella Wright', 'Rupert Everett', 'LÃ©a Seydoux', 'Hayden Panettiere', 'David Fernandez Jr.', \"David O'Hara\", 'Christopher Meloni', 'Jeff Goldblum', 'Natalia Klimas', 'Sarah Wright', 'Gabriel Bateman', 'Sanaa Lathan', 'Caity Lotz', 'Corey Hawkins', 'Leslie Bibb', 'Mos Def', 'Karen Black', 'Ana de la Reguera', 'Patricia VelÃ¡squez', 'Jason Ritter', 'Bob Barr', 'Julie Andrews', 'Josh Lucas', 'Kristen Wiig', 'Paul Hogan', 'StÃ©phanie Lagarde', 'Andre Braugher', 'Tess Harper', \"Sofia Black-D'Elia\", 'Barbara Jefford', 'Justin Chambers', 'Bill Clinton', 'Martha Higareda', 'Rob Brown', 'Christie Lynn Smith', 'Matthew Fox', 'Ritchie Coster', 'Rob LaBelle', 'Paul Bettany', 'Jane Krakowski', 'Dan Levy', 'Sara Foster', 'Thandie Newton', 'Anna Hutchison', 'Nancy McDoniel', 'Emily Browning', 'Charles Grodin', 'John Cusack', 'Darrin Henson', 'Bruce McGill', 'Catherine Chan', 'Emma de Caunes', 'Carlo Rota', 'Ian Richardson', 'Jonathan Jackson', 'Jason Bonham', 'Garry Shandling', 'Daniel Kash', 'Jolie Vanier', 'Hayden Christensen', 'Tabu', 'Jay Tavare', 'Johnny Messner', 'Amber Heard', 'Joe Manganiello', 'Liam McIntyre', 'Jake Busey', 'Malik Yoba', 'Mel Gibson', 'Jon Hamm', 'Levi Miller', 'Jack Bright', 'Jon Voight', 'Edward Burns', 'Jesse Williams', 'Ed Harris', 'Ben Daniels', 'Aryana Engineer', 'Adrien Brody', 'David Arquette', 'Todd Boyce', 'Eva Amurri Martino', 'Brad Garrett', 'Frances Conroy', 'Darius Rose', 'Joel David Moore', 'Meat Loaf', 'Jon Ted Wynne', 'Raymond J. Barry', 'Dave Matthews', 'Kirk Hammett', 'Chris Messina', 'Saoirse Ronan', 'Jennifer Cody', 'Vera Farmiga', 'Tracey Ullman', 'Anna Faris', 'Gaspard Ulliel', 'Min Tanaka', 'Frank Finlay', 'Vincent Pastore', 'Dominic Purcell', 'HÃ©ctor JimÃ©nez', 'Roy Scheider', 'Daniel Radcliffe', 'Lexa Doig', 'Emma Bell', 'Peter Falk', 'Kyle Gass', 'Johnny Knoxville', 'Emma Watson', 'Bernard Hill', 'Tony Curran', 'Harry Lloyd', 'Eric Roberts', 'Katija Pevec', 'Lou Myers', 'Sahira Nair', 'Scott Foley', 'Peter Capaldi', 'Tim Matheson', 'Lari White', 'Bianca Kajlich', 'RamÃ³n RodrÃ\\xadguez', 'Corey Johnson', 'Joan Plowright', 'Don Knotts', 'Ben Reed', 'Yeardley Smith', 'Julia Winter', 'Shawn Doyle', 'Jason Clarke', 'Linda Bassett', 'Leslie Mann', 'Rupert Grint', 'Chris Wedge', 'Carly Schroeder', 'Justin Chatwin', \"Kerry O'Malley\", 'Kate Butler', 'PenÃ©lope Cruz', 'Lyriq Bent', 'Werner Herzog', 'Adrianne Palicki', 'Heather Matarazzo', 'Lusia Strus', 'Jared Padalecki', 'Hayley Atwell', 'Maggie Grace', 'Katie Cassidy', 'Joan Collins', 'Eva Mendes', 'Method Man', 'Alexa Davalos', 'Johnny Simmons', 'Siobhan Fallon', 'Nicole Ari Parker', 'James Remar', 'Kat Dennings', 'Beverly Todd', 'Kerris Dorsey', 'Ona Grauer', 'Bruce Payne', 'Robert Mammone', 'Stuart Stone', 'Emily Osment', 'Emilio EchevarrÃ\\xada', 'Will Smith', 'Dylan McDermott', 'Jack Huston', 'Oanh Nguyen', 'Patrick Fugit', 'Joely Richardson', 'Kevin Kline', 'Adam Pascal', 'Kristen Cloke', 'Chris Lowell', 'Phyllis Smith', 'Eli Wallach', 'Larry Bryggman', 'Emily Bett Rickards', 'Eliza Dushku', 'Skyler Gisondo', 'Chris Potter', 'Rory Culkin', 'Deanna Dunagan', 'Teresa Palmer', 'Elizabeth Olsen', 'Dakota Fanning', 'Michael Rispoli', 'Sam Rockwell', 'Paula Patton', 'Emma Stone', 'Billie Whitelaw', 'Julie Benz', 'Rachael Leigh Cook', 'Laura Prepon', 'Whitney Houston', 'Lydia Hull', 'John Witherspoon', 'Jamie Dornan', 'Amr Waked', 'Parker Posey', 'Alfre Woodard', 'Udo Kier', 'Bob Gunton', 'Thomas Haden Church', 'William Shatner', 'Tucker Albrizzi', 'Kara Hayward', 'Izabela Vidovic', 'Joseph Cross', 'Cloris Leachman', 'Noah Ringer', 'Bruce Dern', 'Jason Segel', 'Vin Diesel', 'Warren Christie', 'Susan Sarandon', 'Kodi Smit-McPhee', 'Justin Timberlake', 'Ian McKellen', 'Eleanor Tomlinson', 'Jim Carter', 'Priyanka Xi', 'Ali Suliman', 'Ming-Na Wen', 'Timothy Dalton', 'Garikayi Mutambirwa', 'Jadie-Rose Hobson', 'Kate Bosworth', 'Sarah Bolger', 'Kevin Hart', 'Dwight Yoakam', 'Jada Pinkett Smith', 'Susan Brown', 'Jeff Bridges', 'Kristen Stewart', 'Jonathan Tucker', 'James Woods', 'Matt McKenna', 'VerÃ³nica Echegui', 'Kevin Nash', 'Avery Brooks', 'Jim Sturgess', 'Danny McCarthy', 'Terrence Howard', 'Michelle Trachtenberg', 'Teo Halm', 'Raad Rawi', 'Sharon Osbourne', 'Tia Texada', 'Sam Huntington', 'Billy Dee Williams', 'Paul Adelstein', 'Jascha Washington', 'Hillary Clinton', 'Mark Moses', 'Kelly Hu', 'Stephen Rea', 'Aamir Khan', 'F. Murray Abraham', 'CCH Pounder', 'Nick Cannon', 'Topher Grace', 'Steven Seagal', 'Rolf Kanies', 'Joe Morton', 'Edie Martin', 'Dakota Goyo', 'Jesse L. Martin', 'Doug Jones', 'Cody Horn', 'Shad Moss', 'Tilda Swinton', 'Fred Williamson', 'Jim Parrack', 'Justin Bartha', 'Cheryl Hines', 'Benedict Wong', 'Andrew Sensenig', 'Hayley Kiyoko', 'Bill Moseley', 'Toby Huss', 'Mare Winningham', 'Eva Green', 'Spencer Breslin', 'Carter Jenkins', 'Vivica A. Fox', 'Rachel Dratch', 'Taylor Momsen', 'Hilary Swank', 'Gordon Pinsent', 'Shannon Elizabeth', 'Christopher Cousins', 'Samuel Joslin', 'Fann Wong', 'Wu Jing', 'Alessandro Lindblad', 'Jake Johnson', 'Christina Ricci', 'David Strathairn', 'Nick Stahl', 'Julie Bowen', 'Teri Polo', 'Len Cariou', 'Nelly', 'Amanda Bynes', 'Danny Trejo', 'Billy Ray Cyrus', 'Alakina Mann', 'Matt Stern', 'Rooney Mara', 'Toby Jones', 'Shawn Wayans', 'Carey Mulligan', 'Shyann McClure', 'Nelsan Ellis', 'Sharni Vinson', 'Barnaby Carpenter', 'Maggie Siff', 'Nathan Gamble', 'Liv Tyler', 'Ariel Winter', 'Bob Hoskins', 'Kris Lemche', 'Rachel Covey', 'Jean Michel ParÃ©', 'Gary Dourdan', 'Jonathan Bennett', 'Alexander Ludwig', 'Mackenzie Crook', 'Laura Ramsey', 'Tyra Banks', 'Steven Mackintosh', 'Kristen Johnston', 'Heiner Lauterbach', 'David Keith', 'Marcel IureÈ™', 'John Ales', 'Emily Procter', 'Julian Rhind-Tutt', 'Kristen Schaal', 'Roma Downey', 'Jeffrey DeMunn', 'Paz Vega', 'Nick Searcy', 'Margot Robbie', 'Yaya DaCosta', 'Ryan Hurst', 'Martin Short', 'Dina Spybey-Waters', 'Rutger Hauer', 'Peter Fonda', 'Erik Per Sullivan', 'Jayma Mays', 'Marley Shelton', 'Vanessa Hudgens', 'Ryan Dunn', 'Jill Scott', 'Natasha Henstridge', 'John Corbett', 'David Dorfman', 'Dan Byrd', 'Chandra West', 'Wentworth Miller', 'Willem Dafoe', 'Abbie Cornish', 'Douglas Smith', 'LL Cool J', 'Fana Mokoena', 'Leven Rambin', \"Colin O'Donoghue\", 'Elizabeth Hurley', 'Mary McCormack', 'Riaad Moosa', 'Charlie Hunnam', 'Jaden Smith', 'Philip Baker Hall', 'Skeet Ulrich', 'Nick Chinlund', 'Stephen Spinella', 'Mark Walton', 'Sterling Jerins', 'Crista Flanagan', 'FranÃ§ois Civil', 'Katie Featherston', 'Dalia HernÃ¡ndez', 'Christa Nicola', \"Chris O'Donnell\", \"Catherine O'Hara\", 'Larry the Cable Guy', 'MÃ\\xada Maestro', 'Campbell Scott', 'Shohreh Aghdashloo', 'Stephen Merchant', 'Ben Mendelsohn', 'Kip Pardue', 'Stanley Tucci', 'Linda Emond', 'Angela Bassett', 'Barry Pepper', 'Paul McGann', 'Cara Seymour', 'Nona Gaye', 'Maximilian Dirr', 'Marsha Thomason', 'Peter Sallis', 'Sandra Oh', 'Miriam Margolyes', 'Alfie Allen', 'Christopher Plummer', 'Sam Lerner', 'Alec Mapa', 'Takamasa Ishihara', 'Charlotte Gainsbourg', 'Garry Marshall', 'Rachel Nichols', 'Wendi McLendon-Covey', 'Keke Palmer', 'Nat Wolff', 'Scott Hazell', 'Adam Brody', \"Ed O'Neill\", 'Chris Coppola', 'Steve Valentine', 'Jason Alexander', 'Mireille Enos', 'Dennis Quaid', 'Essie Davis', 'Derek Jacobi', 'Mark Rolston', 'Robert Sean Leonard', 'Usher Raymond', 'Chris Penn', 'Allison Miller', 'Johanna Braddy', 'Kevin Corrigan', 'Anna Camp', 'TomÃ¡s MiliÃ¡n', 'S. Epatha Merkerson', 'Mo Zinal', 'Ben Feldman', 'Reynaldo Gallegos', 'John Alderton', 'Taylor Kinney', 'Matthew Walker', 'Roscoe Lee Browne', 'Stacey Dash', 'Rosanna Arquette', 'Rachael Taylor', 'Kit Harington', 'Phyllida Law', 'Jenna Elfman', 'Regina Hall', 'Noah Schnapp', 'Scott Glenn', 'Efren Ramirez', 'Rumer Willis', 'Max Lewis', 'HÃ©ctor Elizondo', 'Jeffrey Garcia', 'Randhir Kapoor', 'Sean Combs', 'Bryan Greenberg', 'Melissa George', 'Mischa Barton', 'Taye Diggs', 'Ahmad Khan Mahmoodzada', 'Leonard Roberts', 'Mel Brooks', 'Eduardo Noriega', 'Marguerite Moreau', 'Willie Nelson', 'Kyle Chandler', 'Ryan Guzman', 'Giancarlo Giannini', 'Nikki Reed', 'Justine Waddell', 'Rose Abdoo', 'Griffin Gluck', 'Hank Azaria', 'Ellia English', 'Jason Bateman', 'Jay Chou', 'Alison Brie', 'Luke Pasqualino', 'Gary Oldman', 'Luke Bracey', 'Clifton Collins, Jr.', 'James Cromwell', 'Adam Levine', 'Zach Galifianakis', 'Eric Mabius', 'Dan Yeager', 'David Schwimmer', 'Jason Momoa', 'Brady Corbet', 'Rinko Kikuchi', 'Tika Sumpter', 'Martin Freeman', 'Johnathon Schaech', 'Thomas Horn', 'Dane Cook', 'Keegan Connor Tracy', 'Michael Douglas', 'John Finn', 'Freddie Highmore', 'Rob Schneider', 'Ninja', 'Sam Claflin', 'Chevy Chase', 'Maia Morgenstern', 'Pete Postlethwaite', 'Marlon Brando', 'Scott Caan', 'Brian Haley', 'Yvonne Strahovski', 'Aleksa Palladino', 'Jon Bon Jovi', 'Doug Hutchison', 'Rami Malek', 'Denzel Washington', 'Kristin Davis', 'Lucy Liu', 'Lea Michele', 'Evan Rachel Wood', 'David Cronenberg', 'Steve Burton', 'Robert Forster', 'Chris Kattan', 'Alexandra Daddario', 'Kate Walsh', 'Isabelle Fuhrman', 'Dakota Johnson', 'Robert Redford', 'Paul Brannigan', 'Alan Rickman', 'Bill Paxton', 'Justin Michael Brandt', 'Mike White', 'Steve Harris', 'Rosemarie DeWitt', 'Nikolaj Coster-Waldau', 'Idina Menzel', 'Hiroyuki Sanada', 'Augustus Prew', 'Sharman Joshi', 'Robin Walsh', 'Frances McDormand', 'Santino Fontana', 'Geno Silva', 'Marylouise Burke', 'Randall Duk Kim', 'Michael Bunin', 'Saul Rubinek', 'Allison Cratchley', 'Teri Hatcher', 'Richard Armitage', 'Robert Pattinson', 'Armand Assante', 'Blake Woodruff', 'Emmy Rossum', 'Meredith Droeger', 'Mackenzie Gray', 'Emi Ikehata', 'Sebastian Stan', 'Elle Fanning', 'Dev Patel', 'Mary Stockley', 'Sari Lennick', 'Corey Burton', 'Portia Doubleday', 'Randy Couture', 'Patton Oswalt', 'Stephen Boss', 'Megan Fox', 'David Cross', 'Jeremy Davies', 'Missi Pyle', 'Robert Patrick', 'Shahkrit Yamnarm', 'Mike Vogel', 'Beau Bridges', 'Luke Grimes', 'Frank Collison', 'Julianne Moore', 'Rachel Griffiths', 'Anna Kendrick', 'Ray Liotta', 'Jim Belushi', 'Brad Pitt', 'Ben Levin', 'Kenneth Branagh', 'Jason Biggs', 'Bam Margera', 'Caroline Chikezie', 'Emily Mortimer', 'Wood Harris', 'Richard Jenkins', 'Josh Brolin', 'David Harbour', 'Jae Head', 'Patricia Heaton', 'Harvey Keitel', 'Fernanda Dorogi', 'Pamela Anderson', 'Karen Gillan', \"Kevin J. O'Connor\", 'Daniel Tay', 'Josh Hutcherson', 'Robert Schwartzman', 'Charlotte Rampling', 'Ellen Page', 'Wendie Malick', 'Bahar Soomekh', 'Kate Winslet', 'Richard Portnow', 'Devon Aoki', 'Bojana NovakoviÄ‡', 'Delroy Lindo', 'Simone Spinazze', 'Brandon Henschel', 'Emma Rigby', 'Justin Guarini ', 'Laura Regan', 'Chrysta Olson', 'Kevin McNally', 'Stefanie Scott', 'Bruno Campos', 'Vinessa Shaw', 'Simon Chandler', 'John Krasinski', 'Aman Johal', 'Affion Crockett', 'Mark Boone Junior', 'Christopher Kovaleski', 'Kelsey Grammer', 'Diogo Morgado', 'Tom Wilkinson', 'Michael Wincott', 'Tammy Blanchard', 'Chris Tucker', 'Adam Goldberg', 'Lee Asquith-Coe', 'Rachael Markarian', 'Nia Long', 'Willow Smith', 'Charles Malik Whitfield', 'Shane Baumel', 'Catherine Bell', 'Benjamin Walker', 'Maggie Q', 'Ray Wise', 'Rila Fukushima', 'Justin Whalin', 'Eve', 'Ken Kirzinger', 'Paul Wilson', 'Shalom Harlow', 'Mary Gibbs', 'James Garner', 'Janette Scott', 'James Caan', 'Michelle Dockery', 'Hill Harper', 'Jill Talley', 'Lewis Fitz-Gerald', 'Ian McShane', 'Mitchel Musso', 'Kathy Bates', 'Harris Yulin', 'Bruce Davison', 'Michael Jeter', 'Jeremy Howard', 'Skylar Astin', 'Jennifer Saunders', 'David Atrakchi', 'Ne-Yo', 'Staffan Kihlbom', 'Jesse Metcalfe', 'Austin Crim', 'Lewis Black', 'Jesse Spencer', 'Sophie Kennedy Clark', 'Christina Milian', 'Shawnee Smith', 'Ken Stott', 'Ali Larter', 'Cuba Gooding Jr.', 'Kou Shibasaki', 'Tiger Hu Chen', 'Loren Dean', 'William Atherton', 'Catherine Keener', 'Rachel Blanchard', 'Patrick Mofokeng', 'Carlos Pratts', 'Matthew Lillard', \"Jaran 'See Tao' Petcharoen\", 'Thomas Ian Nicholas', 'Nadia Townsend', 'Lars Ulrich', 'Willie Garson', 'Josh Hartnett', 'John Boyega', 'Julie Christie', 'Ryan Newman', 'Barbra Streisand', 'Philip Quast', 'Michael Irby', 'Fredro Starr', 'Jon Abrahams', 'Donnie Wahlberg', 'David McCullough', 'Garrett Hedlund', 'Dany Verissimo-Petit', 'Michelle Horn', 'Jeremy Sheffield', 'Jane Levy', 'Bryan Brown', 'Harish Patel', 'RubÃ©n Blades', 'Marla Sokoloff', 'Mark Addy', 'Jason Lee', 'Peta Wilson', 'Sidney Johnston', 'LeVar Burton', 'Mark DeCarlo', 'Zekeria Ebrahimi', 'Emily Deschanel', 'Neil Brown Jr.', 'Mae Whitman', 'Martin Klebba', 'Roger Barclay', 'Eugenio Derbez', 'Edgar RamÃ\\xadrez', 'Matt Schulze', 'Nathaniel Parker', 'Bruce Boxleitner', 'Adam G. Sevani', 'Tom Berenger', 'Kal Penn', 'Taylor Dooley', 'Jonathan Breck', 'Robert Klein', 'Dax Shepard', 'Seymour Cassel', 'Marlon Wayans', 'Rhona Mitra', 'Gary Cole', 'Mark Margolis', 'Alexander Pollock', 'Mike Cameron', 'Jake Cherry', 'Natalie Dormer', 'Paul Freeman', 'Pierce Brosnan', 'John Cho', 'Troy Garity', 'Kaley Cuoco', 'Joy Bryant', 'Paul Newman', 'Kiele Sanchez', 'Karen Mok', 'Max von Sydow', 'Jon Bernthal', 'David Morrissey', 'Regina King', 'Izabella Miko', 'Victor Gojcaj', 'Colleen Haskell', 'Dennis Hopper', 'Graham McTavish', 'Callum Blue', 'Don Curry', 'Jared Harris', 'Annette Crosbie', 'Jacob Vargas', 'Boman Irani', 'Lynn Collins', 'June Diane Raphael', 'Om Puri', 'Ed Asner', 'Judah Friedlander', 'Kyle Davis', 'Chris Noth', 'Bette Midler', 'Israel Broussard', 'Kaya Scodelario', 'Jordana Spiro', 'Daryl Hannah', 'Tasha de Vasconcelos', 'Gio Perez', 'Sophie Monk', 'Vanessa Williams', 'Morris Chestnut', 'Ronnie James Dio', 'Alison Lohman', 'Shaun Toub', 'Mary-Louise Parker', 'Lauren Hutton', 'Naomie Harris', 'Debi Derryberry', 'Julian McMahon', 'John Pyper-Ferguson', 'Josh Flitter', 'Lisa Bonet', 'Tommy Flanagan', 'Ellen DeGeneres', 'Gena Rowlands', 'Seamus Davey-Fitzpatrick', 'Michael Kenneth Williams', 'Zachary Quinto', 'Michael Arden', 'Greg Siff', 'Ron Silver', 'Nia Vardalos', 'Tim Blake Nelson', 'Chopper Bernet', 'Joel Murray', 'Krista Allen', 'Olivia Wilde', 'Judi Dench', 'Mariah Carey', 'Elle Peterson', 'Jerry Ferrara', 'Sacha Baron Cohen', 'Scott Porter', 'Nicholas Smith', 'Vincent Regan', 'Andrew Garfield', 'Sid Haig', 'Claire Julien', 'Lou Diamond Phillips', 'Colin Firth', 'Winona Ryder', 'James Bentley', 'Tao Okamoto', 'Carla Gugino', 'Lauren Ambrose', 'Eric Winter', 'Eugene Hutz', 'RenÃ©e Taylor', 'Luca Calvani', 'Kelly Reilly', 'JoBeth Williams', 'Sam Worthington', 'Rob Riggle', 'Michelle Williams', 'Rodger Bumpass', 'Ken Watanabe', 'Mark Critch', 'Yuliya Snigir', 'Fausto Callegarini', 'Margaret Avery', 'Tyler Posey', 'Aml Ameen', 'David A.R. White', 'Linda Kozlowski', 'Charlize Theron', 'Casey Affleck', 'Frances Fisher', 'Madison Pettis', 'Christina Aguilera', 'Miley Cyrus', 'Samantha Morton', 'T.R. Knight', 'Hannibal Buress', 'Idris Elba', 'Gabourey Sidibe', 'Michael Moreland', 'Tom Everett Scott', 'Olivia Thirlby', 'Bill Pullman', 'Isaiah Washington', 'Shirley Knight', 'Lou Taylor Pucci', 'Brendan Gleeson', 'Allie Mickelson', 'Chengwu Guo', 'Natascha McElhone', 'French Stewart', 'Jackson Rathbone', 'Kyle Catlett', 'Julie Delpy', 'Hadley Belle Miller', 'Ki Hong Lee', 'ZoÃ« Kravitz', 'Jena Malone', 'Omar Gooding', 'Paul Rae', 'Brie Larson', 'Jorma Taccone', 'Peter Firth', 'KaDee Strickland', 'Marion Lambert', 'David Moscow', 'Shawn Driscoll', 'Romany Malco', 'Peter Stormare', 'Jamie Foxx', 'Sullivan Stapleton', 'Andrew Hampton', 'Tyler Craig', 'Alexis Dziena', 'Gregg Henry', 'Damian Lewis', 'Colin Farrell', 'Wanda Sykes', 'Geoffrey Arend', 'David Tennant', 'Marion Cotillard', 'David Costabile', 'Danny McBride', 'Ben Whishaw', 'Judith Scott', 'Juno Temple', 'Opal Alladin', 'Kate Mara', 'Colin Salmon', 'Evangeline Lilly', 'Blake Lively', 'Olympia Dukakis', 'Colin Quinn', 'Armin Mueller-Stahl', 'Jeremy Irvine', 'Eva Marie Saint', 'Angelina Jolie', 'Travis Van Winkle', 'Julianna Guill', 'Will Kemp', 'Tatjana PajkoviÄ‡', 'Birgit Minichmayr', 'Lorraine Nicholson', 'Rip Torn', 'Leah Remini', 'Makenzie Vega', 'Will Arnett', 'Anthony Stewart Head', 'Ben Burtt', 'BjÃ¶rk', 'Margarita Levieva', 'Gugu Mbatha-Raw', 'Richard E. Grant', 'Sarah Paulson', 'Paul Herman', 'TÃ©a Leoni', 'Aaron Stanford', 'Ken Davitian', 'Steve Carell', 'Jason Dohring', 'Kellan Lutz', 'Kris Kristofferson', 'Jane Fonda', 'Guy Torry', 'Brady Bluhm', 'Michael T. Weiss', 'Ivy George', 'David Calder', 'Maury Chaykin', 'GQ', 'Kim Cattrall', 'BeyoncÃ© Knowles', 'Sage Ryan', 'Liam Aiken', 'Isla Fisher', 'Vince Vaughn', 'Natalie Martinez', 'Chris Pontius', 'Tatum Etheridge', 'Connor Funk', 'Famke Janssen', 'Jason Schwartzman', 'Thierry Neuvic', 'Sharon Leal', 'Samantha Mumba', 'Nick Frost', 'Imelda Staunton', 'Yu Rong-Guang', 'Lara Flynn Boyle', 'Marg Helgenberger', 'Eugene Levy', 'Ann Miller', 'Derek Luke', 'Tom Kenny', 'Brenda Blethyn', 'Roselyn SÃ¡nchez', 'Sarah Gadon', 'Dustin Milligan', 'Robert Knepper', 'Moon Bloodgood', 'Angell Conwell', 'Christian Bale', 'Philip Winchester', 'Ryan Potter', 'Nicholas Hoult', 'Alex Veadov', 'Ryan Cartwright', 'Jacob Pitts', 'Raini Rodriguez', 'Jamie Campbell Bower', 'Trevor Morgan', 'Rachel Bilson', 'Eddie Cibrian', 'Liana Liberato', 'Marisa Tomei', 'Jonathan Groff', 'Steven R. McQueen', 'Milo Ventimiglia', 'Nick Offerman', 'Kathy Baker', 'Stella Maeve', 'Lori Heuring', 'Julianne Hough', 'Shawn Hatosy', 'Jean-Marie Lamour', 'Darwin Shaw', 'Deborah Kara Unger', \"Vincent D'Onofrio\", 'Tadanobu Asano', 'Burt Young', 'Deborra-Lee Furness', 'Lily James', 'Jonas Armstrong', 'Chris Carmack', 'Emily Barclay', 'Harriet Owen', 'Malcolm McDowell', 'Max Casella', 'Naomi Watts', 'Jeffrey Tambor', 'Jennifer Connelly', 'Rachel Weisz', 'Judd Hirsch', 'Martin Donovan', 'Hanyu Zhang', 'Alice Evans', 'Cameron Diaz', 'Jeremy Sumpter', 'Alicia Witt', 'Eric Dane', 'Christina Cox', 'Daniel Studi', 'Uday Chopra', 'Dana Ivey', 'Riz Ahmed', 'Rebecca De Mornay', 'Louise Delamere', 'Matthew Willig', 'Aditya Roy Kapoor', 'Louis C.K.', 'Richard T. Jones', 'Tessa Allen', 'Polly Adams', 'Taylor Kitsch', 'Laurence Fishburne', 'Kim Dickens', 'Kevin Heffernan', 'Donald Faison', 'Sarah Dubrovsky', 'Haley Joel Osment', 'Minka Kelly', 'Elisabeth Shue', 'Kiefer Sutherland', 'Lisa Ryder', 'David Burrows', 'Isaac Hempstead Wright', 'Eriq La Salle', 'Ashton Kutcher', 'Geoffrey Rush', 'Michael Eklund', 'Megan Boone', 'Stellan SkarsgÃ¥rd', 'Teddy Geiger', 'Toby Kebbell', 'C. Thomas Howell', 'Melissa Sagemiller', 'Robin Tunney', 'Claire Forlani', 'Orto Ignatiussen', 'Tory Kittles', 'Kim Staunton', 'Zena Grey', 'Mark Harmon', 'Tim Curry', 'Anthony Edwards', 'John Hannah', 'Brooke Smith', 'Frances de la Tour', 'Noah Huntley', 'Jacob Tremblay', 'R. H. Thomson', 'MaÃ¯ Anh Le', 'Blythe Danner', 'Aunjanue Ellis', 'Charlotte Le Bon', 'Melora Walters', 'Wang Baoqiang', 'Rachel Melvin', 'Nonso Anozie', 'Richard Dreyfuss', 'James Gandolfini', 'Richard Briers', 'John Cleese', 'Carrie Coon', 'Neal McDonough', 'Glenn Morshower', 'Ralph Fiennes', 'Kevin Dillon', 'Alan Cumming', 'Henry Simmons', 'Vanessa Bayer', 'Seth Meyers', 'Maggie Elizabeth Jones', 'Jenna Dewan', 'Will Ferrell', 'Liam Hemsworth', 'Bill Nighy', 'Raoul Bova', 'John Cothran, Jr.', 'Claire Danes', 'James Rebhorn', 'Max Baldry', 'Michelle Monaghan', 'John Malkovich', 'Mini Anden', 'Faith Ford', 'Mimi Rogers', 'Amy Irving', 'Peter Outerbridge', 'ZoÃ« Borde', 'Unax Ugalde', 'Helen Mirren', 'Laurie Holden', 'Michelle Pfeiffer', 'Horatio Sanz', 'Elijah Cummings', 'Leslie Stefanson', 'Nick Swardson', 'Jeremy Northam', 'Kristen Wilson', 'A.J. Cook', 'John Michael Higgins', 'Amber Tamblyn', 'Milla Jovovich', 'Kieran Culkin', 'Sigourney Weaver', 'Will Sasso', 'Charles Edwards', 'Matthew Macfadyen', 'Jordana Brewster', 'Ashton Holmes', 'Martin Lawrence', 'Zaid Farid', 'Kevin Chamberlin', 'Peter Facinelli', 'Kirby Bliss Blanton', 'Alexz Johnson', 'Hugo Weaving', 'Tania Raymonde', 'KryÅ¡tof HÃ¡dek', 'Zoe Kazan', 'Richard Kind', 'Tom Hanks', 'Leehom Wang', 'James Ransone', 'Bella Thorne', 'Holt McCallany', 'Kristin Kreuk', \"Frances O'Connor\", 'Walter Matthau', 'Helena Bonham Carter', 'Chace Crawford', 'Nathan Lane', 'Raymond Ochoa', 'Harold Perrineau', 'Dwayne Johnson', 'Michael Zegen', 'Alessandro Gassman', 'Dean Winters', 'Chris Riggi', 'Donal Logue', 'David Andrews', 'Louise Lombard', 'Sarah Wynter', 'Norman Reedus', 'Daisy Ridley', 'Miles Fisher', 'Ray Stevenson', 'Nathalie Kelley', 'David Carradine', 'Michael PeÃ±a', 'Michael Rooker', 'Terence Stamp', 'Jonny Lee Miller', 'Tom McGrath', 'John Forsythe', 'Tara Reid', 'Colin Stinton', 'Tobey Maguire', 'Freida Pinto', 'Robert Fyfe', 'Kevin Costner', 'Paul Schneider', 'John Benjamin Hickey', 'Thekla Reuten', 'Shelbie Bruce', 'Josh Wiggins', 'Geena Davis', 'DragoÈ™ Bucur', 'Alexa PenaVega', 'Elias Koteas', 'Diora Baird', 'John Ratzenberger', 'Ruth Wilson', 'Chris Hemsworth', 'Ken Marschall', 'Julio Oscar Mechoso', 'Matt Walsh', 'Francesco De Vito', 'Jonah Hill', 'Joel Grey', 'Logan Marshall-Green', 'Devon Bostick', 'Robert Loggia', 'Seann William Scott', 'Michael J. Fox', 'Romola Garai', 'Billy Boyd', 'Maleah Nipay-Padilla', 'Rose Byrne', 'Hugh Grant', 'SofÃ\\xada Vergara', 'Heather Graham', 'Linh Äan Pháº¡m', 'Jamie Lee Curtis', 'Mario Van Peebles', 'Marton Csokas', 'Connie Nielsen', 'Spike Jonze', 'Max Thieriot', 'Chi McBride', 'Craig Robinson', 'Austin Butler', 'Boris Leskin', 'Gaia Weiss', 'Will Forte', 'Chloe Csengery', 'Ludacris', 'Tony Revolori', 'Pat Healy', 'Adam David Thompson', 'Ryo Kase', 'Greg Bryk', 'Sarah Jane Morris', 'Richard Burgi', 'Christian Slater', 'Harrison Ford', 'Al Pacino', 'Nicholas Braun', 'Jake Gyllenhaal', 'Jake Abel', 'Christopher Mintz-Plasse', 'Eddie Izzard', 'Common', \"Jack O'Connell\", 'Carol Burnett', 'J.J. Johnson', 'Laura Harring', 'Hal Holbrook', 'Aubrey Peeples', 'Amber Rose Revah', 'Jay Hernandez', 'Dillon Freasier', 'Samaire Armstrong', 'Lolita Davidovich', 'John Turturro', 'Richmond Arquette', 'Michael Madsen', 'Kevin McDonald', 'Blayne Weaver', 'Seth Rogen', 'Deng Chao', 'Megan Park', 'Mark Wahlberg', 'Toni Collette', 'Melanie Lynskey', 'Salli Richardson-Whitfield', 'Leonard Nimoy', 'Maria Smolnikova', 'AndrÃ© Benjamin', 'Chris Klein', 'Sasha Barrese', 'Trey Parker', 'Chris Mulkey', 'Hugh Keays-Byrne', 'Shu Qi', 'Jacob Lofland', 'Frank C. Turner', 'Akshay Kumar', 'Emile Hirsch', 'Jeff Anderson', 'Patrick Stewart', 'Yul Vazquez', 'Omar Benson Miller', 'Kevin Bacon', 'Joel Garland', 'Aaron Taylor-Johnson', 'Michael C. Hall', 'Andrea Riseborough', 'Jessica Lange', 'Bill Hader', 'Lin Shaye', 'Bill Burr', 'Robert Taylor', 'Thomas Kretschmann', 'Manish Dayal', 'Devon Gearhart', 'Ron Livingston', \"Tony D'Amario\", 'Amanda Righetti', 'William Hurt', 'Eminem', 'Jennifer Tilly', 'Anthony Hayes', 'Jennifer Lopez', 'Jake Weber', 'Sylvia Syms', 'Justin Pierce', 'Dawn French', 'Bradley Dodds', 'Sebastian Koch', 'Mia Drake Inderbitzin', 'Susan Ward', 'Alice Eve', 'Jessica Bowman', 'Dallas Roberts', 'TchÃ©ky Karyo', 'Steven Strait', 'Scout Taylor-Compton', 'Luis Tosar', 'J.R. Villarreal', 'Ethan Embry', 'Michael Clarke Duncan', 'Tyler Mane', 'Misha Gabriel', 'Mehmet Ferda', 'Cherry Jones', 'Emilia Clarke', 'Laura Kirk', 'Ben Stiller', 'Sarah Jessica Parker', 'Ellen Pompeo', 'Adam Beach', 'Alan Tudyk', 'Taran Killam', 'Elijah Wood', 'Scarlett Johansson', 'ChloÃ« Grace Moretz', 'Will Rothhaar', 'Antony Starr', 'Bobby Campo', 'Matt Jones', 'Natasha Calis', 'Kevin James', 'Sam Anderson', 'Shari Headley', 'Joseph Ruskin', 'Dondre Whitfield', 'Brennan Brown', 'Greta Gerwig', 'Barbara Flynn', 'Brent Spiner', 'Kate Burton', 'Michael Gambon', 'Caitlin Stasey', 'Josh Charles', 'Elizabeth Debicki', 'Dan Stevens', 'Cat Power', 'Musetta Vander', 'Hannah Spearritt', 'Brendan Fraser', 'Amy Smart', 'Scott Adsit', 'Alex Rocco', 'Nora Dunn', 'Daryl Sabara', 'Lambert Wilson', 'Sam Robards', 'Ben Barnes', 'Betty Buckley', 'Sharon Stone', 'Li Bingbing', 'Natasha Richardson', 'James Newman', 'Cher', 'Gwen Taylor', 'Tina Fey', 'Keanu Reeves', 'Wanda De Jesus', 'Haley Webb', 'Christopher Guest', 'Rebel Wilson', 'Sean Kingston', 'Spencer Garrett', 'Alan Dale', 'Dougray Scott', 'Helen Hunt', 'Emjay Anthony', 'ZoÃ« Bell', 'Barkhad Abdi', 'Wilfried Hochholdinger', 'Gabrielle Union', 'Jonathan Safran Foer', 'Venus Schultheis', 'Andrew Howard', 'Will Yun Lee', 'Sofia Vassilieva', \"De'Shawn Washington\", 'Guy Pearce', 'Tracee Ellis Ross', 'Margo Martindale', 'Kacey Barnfield', 'Oaklee Pendergast', 'Luke Ford', 'Brandon T. Jackson', 'Sylvia Hoeks', 'Lauren Holly', 'Monica Bellucci', 'Daniel Henney', 'Georgie Henley', 'Laurence Fox', 'Eli Roth', 'Elizabeth Mkandawie', 'Lincoln Lewis', 'James Carpinello', 'Tyler Steelman', 'Lauren Frandsen', 'Jonathan Banks', 'Scott Mechlowicz', 'Jonathan Daniel Brown', 'Enzo Cilenti', 'Dianna Agron', 'Natalie Imbruglia', 'BÃ©rÃ©nice Bejo', 'Katherine Heigl', 'Zineb Oukach', 'Alexander Nathan Etel', 'James Purefoy', 'Josh Peck', 'Brit Marling', 'Tye Sheridan', 'Don Johnson', 'Marianne Jean-Baptiste', 'Judy Greer', 'Bee Vang', 'Josh Pence', \"BrÃ\\xadan F. O'Byrne\", 'Cliff Robertson', 'Jaime King', 'Maggie Gyllenhaal', 'Jenna Stern', 'Busta Rhymes', 'Tom Cavanagh', 'Ty Burrell', 'Stephen McHattie', 'Scott Patterson', 'Christine Baranski', 'Rob Reiner', 'Pamela Gidley', 'Tom Sturridge', 'Matthew Marsden', 'Sprague Grayden', 'Cory Hardrict', 'Jodie Whittaker', 'Harry Treadaway', 'Sarah Roemer', 'Brian Cox', 'Ryan Reynolds', 'Matthew Davis', 'Bill Duke', 'Frank Grillo', 'Shiloh Fernandez', 'Elise Neal', \"Keir O'Donnell\", 'Michael Constantine', 'Adelaide Clemens', 'Minnie Driver', 'Domhnall Gleeson', 'Mathieu Amalric']\n",
        "#Я понимаю, что в получить список уникальных имён можно через list(set(cast_list)), но это почему-то не работает\n",
        "data6 = data.copy()\n",
        "#Создаём словарь для записейо прибыльности фильмов с конкретным актёром:\n",
        "cast_revenue = {}\n",
        "#Перебираем всех актёров и считаем сумму сборов для каждого. Результат записываем в словарь.\n",
        "for name in cast_list:\n",
        "    data7 = data6[data6.cast.str.contains(name)]\n",
        "    cast_revenue[name] = data6['revenue'].sum()\n",
        "cast_df = pd.DataFrame(cast_revenue, index=['name', 'sum'])\n",
        "cast_df.head()\n",
        "#Этот код не работает (в отличие от предыдущего решения). Тем не менее, его часть оказалась полезной для решения других вопросов.\n",
        "#По этой причине я не удаляю его из итогового решения."
      ],
      "execution_count": null,
      "outputs": []
    },
    {
      "cell_type": "markdown",
      "metadata": {
        "id": "mWHyyL7QVp_j"
      },
      "source": [
        "# 16. Какой актер снялся в большем количестве высокобюджетных фильмов?"
      ]
    },
    {
      "cell_type": "code",
      "metadata": {
        "id": "qQtmHKTFVp_k",
        "colab": {
          "base_uri": "https://localhost:8080/",
          "height": 80
        },
        "outputId": "aa7c83c3-9782-4ced-c9d1-7cc0112986cf"
      },
      "source": [
        "data8 = data.copy()\n",
        "#Оставляем только высокобюджетные бильмы - фильмы с бюджетом выше среднего по выборке\n",
        "data8 = data8[data8['budget'] > data8['budget'].mean()]\n",
        "#Берём список из предыдущего решения:\n",
        "cast_list = ['Donald Sutherland', 'Kurt Russell', 'Kate Beckinsale', 'Kristen Miller', 'Jean Reno', 'Keith Dallas', 'G. W. Bailey', 'Victoria Justice', 'Jon Seda', 'Lorna Raver', 'Oded Fehr', 'Taron Egerton', 'Katy Perry', 'Kate Nauta', 'Hayley Magnus', 'Gisele BÃ¼ndchen', 'Roschdy Zem', 'Kevin Sorbo', 'Monet Mazur', 'Panward Hemmanee', 'Eileen Atkins', 'Lennie Loftin', 'Danielle Panabaker', 'Kristen Bell', 'Daniel Craig', 'Scott Speedman', 'Taraji P. Henson', 'Johnny Whitworth', 'Gael GarcÃ\\xada Bernal', 'Brett Kelly', 'Marin Ireland', 'Jane Lynch', 'Lloyd Owen', 'Dennis Haysbert', 'Robin Williams', 'Billy Campbell', 'Rade Serbedzija', 'Patricia Reyes SpÃ\\xadndola', 'Gina Philips', 'Jean Smart', 'Christopher McDonald', 'Halle Berry', 'Lainie Kazan', 'Steven Brand', 'Shia LaBeouf', 'Maude Apatow', 'Russell Wong', 'Eric Sykes', 'Sara Paxton', 'Jamel Debbouze', 'Anna Friel', 'Cynthia Stevenson', 'Sonoya Mizuno', 'Cory Monteith', 'Alycia Debnam-Carey', 'Irrfan Khan', 'Percy Daggs III', 'Jeremy Irons', \"Denis O'Hare\", 'Carrie Fisher', 'Courtney Taylor Burness', 'Julanne Chidi Hill', 'Mark Consuelos', 'Tom Hollander', 'Huntley Ritter', 'Laura Dern', 'David Thewlis', 'Nathalie Boltt', 'Stevie Wonder', 'Lucy Punch', 'Finn Wittrock', 'Ethan Hawke', 'Steve Martin', 'Ryan Gosling', 'Austin Abrams', 'Harland Williams', 'Chris Rock', 'Daeg Faerch', 'Ian Holm', 'Colm Meaney', 'Adam Driver', 'Scott MacDonald', 'Fred Willard', 'Mircea Monroe', 'Tory Mussett', 'Christina Hendricks', 'Jamie Draven', 'Bill Fagerbakke', 'Rosie Shaw', 'John Sharian', 'Max Charles', 'Jesse Plemons', 'Brian Van Holt', 'Shailene Woodley', 'Chiwetel Ejiofor', 'Mia Kirshner', 'Ewan McGregor', 'Rain', 'Jacki Weaver', 'Jenn Proske', 'Baron Hill', 'Hailee Steinfeld', 'Cyril Raffaelli', 'Christopher Jordan Wallace', 'Matt Stone', 'Hugh Laurie', 'Antje Traue', 'Tobin Bell', 'Joseph Fiennes', 'Shane West', 'John Mahoney', 'Owen Wilson', 'Miranda Cosgrove', 'David Ogden Stiers', 'Ansel Elgort', 'Rhys Wakefield', 'Isobelle Molloy', 'Kathryn Newton', 'Christina Applegate', 'James Brolin', 'Judy Davis', 'Drew Barrymore', 'Jenna Fischer', 'Beau Mirchoff', 'John C. McGinley', 'Tim Bagley', 'Omar Epps', 'Marny Eng', 'Alison Pill', 'Gabriella Wilde', 'Teri Andrzejewski', 'Ashley Scott', 'Russell G. Jones', 'Zhang Ziyi', 'Jakob Salvati', 'John C. Reilly', \"Jerry O'Connell\", 'Logan Lerman', 'Britney Spears', 'Nakamura ShidÅ II', 'Salma Hayek', 'Oscar Pearce', 'Jeffrey Wright', 'Pam Grier', 'Josh Helman', 'Armie Hammer', 'Mitch Baker', 'Alexis Georgoulis', 'Fred Dalton Thompson', 'Michael Stahl-David', 'Adam Herschman', 'Jeremy Piven', 'Chi Cao', 'Jaime Pressly', 'John Magaro', 'Kevin Nealon', 'Julie Ann Emery', 'Bruce Willis', 'Betsy Russell', 'Meg Ryan', 'Lucas Jade Zumann', 'Sophie Vavasseur', 'D. B. Sweeney', 'Jeff Garlin', 'Lauren Hodges', 'Ned Beatty', 'Jon Foster', 'Gemma Chan', 'Anita Briem', 'Dan Hedaya', 'Jessica Hecht', 'Dennis Miller', 'Scott Dymond', 'Antonio Banderas', 'Saurabh Shukla', 'Michael Landes', 'Jack Black', 'Charles S. Dutton', 'Omari Hardwick', 'Kelly Preston', 'Cate Blanchett', 'Leigh Whannell', 'Jeffrey Dean Morgan', 'Mary Elizabeth Winstead', 'Lee Oakes', 'Andrew Airlie', 'Rosemary Harris', 'Kathryn McCormick', 'Jillian Bell', 'Juliette Lewis', 'Wayne Newton', \"Brian O'Halloran\", 'Jack Kehler', 'Olivia DeJonge', 'Peter Weller', 'Michael MacKenzie', 'Wendell Pierce', 'Khalid Abdalla', 'Nolan Gould', 'Steve Blum', 'Vincent PÃ©rez', 'Matthew Broderick', 'Jason Spevack', 'Emma Hitching', 'Frank Langella', 'Olivier Martinez', 'James Earl Jones', 'Zac Efron', 'Heida Reed', 'Christopher Walken', 'Phil Collins', 'Meryl Streep', 'Sam Jaeger', 'Jason Statham', 'Addison Timlin', 'Andy Buckley', 'Ric Young', 'Paul RodrÃ\\xadguez', 'Michael Sheen', 'Sean Hayes', 'Carrie-Anne Moss', 'Alfred Molina', 'Maurice Godin', 'Chandler Canterbury', 'Kathleen Turner', 'Richard Roundtree', 'Daniel BrÃ¼hl', 'Aidan Gillen', \"Gary 'G. Thang' Johnson\", 'Rie Rasmussen', 'Claudia Christian', 'Craig Ferguson', 'Allen Evangelista', 'Til Schweiger', 'Burn Gorman', \"Eileen O'Higgins\", 'Jenny Slate', 'Annie Corley', 'Archie Panjabi', 'Jake Thomas', 'Elisabeth Harnois', 'Barbara Hershey', 'Tony Kgoroge', 'Loan Chabanol', 'Josh Gad', 'Justin Long', 'Samy Naceri', 'Paris Hilton', 'Rosie Perez', 'Richard Gant', 'Ed Oxenbould', 'Geoff Pierson', 'Robert John Burke', 'Toby Stephens', 'Rihanna', 'Gong Li', 'Skye McCole Bartusiak', 'Ryan Sheckler', 'Angus Sampson', 'Gerard Butler', 'Jodelle Ferland', 'Sung Kang', 'Saffron Burrows', 'David Spade', 'Harry Lennix', 'Allison Janney', 'Omar Metwally', 'Joseph Morgan', 'Zoie Palmer', 'Jackie Earle Haley', 'Dan Futterman', 'Ashanti', 'Marilyn Burns', \"Peter O'Brien\", 'Robbie Coltrane', 'William H. Macy', 'Elizabeth Banks', 'Chris Sanders', 'Cory Hodges', 'Thomas Mann', 'Kerry Washington', 'Cary Elwes', 'Bill Goldberg', 'Kim Basinger', 'Chris Pratt', 'Theo James', 'Matt Bomer', 'Alec Wilson', 'Karl Urban', 'Hal Williams', 'Vanessa Redgrave', 'David Hyde Pierce', 'Sarah Snook', 'Matt Bush', 'Donnie Yen', 'James Hong', 'James Badge Dale', 'Tia Carrere', 'Ryan Merriman', 'Jim Caviezel', 'Brittany Snow', 'Val Kilmer', 'Marin Hinkle', 'James Corden', 'Susie Essman', 'Joey Lauren Adams', 'David Denman', 'Pierfrancesco Favino', 'Amy Adams', 'Jennifer Lawrence', 'Heidi Hawkins', 'Benjamin Bratt', 'Anna Maria Horsford', 'Scottie Thompson', 'John Billingsley', 'Dave Sheridan', 'Christo Jivkov', 'Stephen Fry', 'Miguel Castro', 'Robin Thomas', \"Matt O'Leary\", 'Jonathan Keltz', 'Jennifer Beals', 'Rick Yune', 'Jennifer Schwalbach Smith', 'Gerry Bednob', 'GÃ©rard Depardieu', 'Amila Terzimehic', 'David Krumholtz', 'Jason Earles', 'Joel Gretsch', 'Tom Cruise', 'Roxanne McKee', 'Tyler Hoechlin', 'Tim McGraw', 'Gonzalo Menendez', 'Rufus Sewell', 'Miles Teller', 'Mads Mikkelsen', 'Sean Faris', 'Heidi Hayes', 'Cam Gigandet', 'Jessica Guadix', 'Josh Holloway', 'David Hasselhoff', 'Scott G. Anderson', 'Jennifer Carpenter', 'George Dzundza', 'Dennis Farina', 'Helmut Bakaitis', 'Franka Potente', \"John D'Leo\", 'Cameron Bright', 'Sophia Bush', 'Sean Patrick Thomas', 'J.B. Smoove', 'Kate Beahan', 'Halston Sage', 'Jacqueline MacInnes Wood', 'Betsy Rue', 'Ray Winstone', 'Ken Jeong', 'Carice van Houten', 'Lance Reddick', 'Adam Scott', 'Allison Tolman', 'Hugh Jackman', 'Erica Gluck', 'Edison Chen', 'Eric Ladin', 'Russell Peters', 'Ernie Reyes, Jr.', 'Lyndon Smith', 'Sela Ward', 'Mike Epps', 'Bernie Casey', 'Katharine McPhee', 'Tyron Leitso', 'Emily Watson', 'Aaron Wolff', 'Paula GarcÃ©s', 'Katie Holmes', 'Greg Kinnear', '50 Cent', 'Gwyneth Paltrow', 'Chris Massoglia', 'Cary-Hiroyuki Tagawa', 'Alex Pettyfer', 'Johnny A. Sanchez', 'Chazz Palminteri', 'Frank Whaley', 'Simon Pegg', 'Enrico Colantoni', 'Gary Lewis', 'Emory Cohen', 'Kevin Durand', 'Anil Kapoor', 'Kevin Connolly', 'Jacqueline Obradors', 'Luke Treadaway', 'Katarina Cas', 'Harold Gould', 'Karin Konoval', 'QuvenzhanÃ© Wallis', 'David Oyelowo', 'Vanessa Lachey', 'Alec Baldwin', 'Callum Keith Rennie', 'Selma Blair', 'Paul Walker', 'Tony Amendola', 'Felicity Jones', 'Ashley Greene', 'Oona Laurence', 'Lucy Lawless', 'Diego Luna', 'Tiya Sircar', 'Katharine Isabelle', 'Benedict Cumberbatch', 'AndrÃ© Holland', 'William Fichtner', 'Sophia Myles', 'Sarah Shahi', 'Patrick Wilson', 'Tim McInnerny', 'Denis Leary', 'Mary Beth Hurt', 'Demi Moore', 'Courtney B. Vance', 'Anna Popplewell', 'Ben Miller', 'Brittany Daniel', 'Rita Wilson', 'Peter Carey', 'Stephen Dorff', 'Colin Hanks', 'Mark Feuerstein', 'William Mapother', 'Candice Bergen', 'Mako', 'Adrienne Shaw', 'Anson Mount', 'Daniella Alonso', 'Bud Luckey', 'Mario', 'James Karen', 'William Converse-Roberts', 'Steve Howey', 'Aurora Perrineau', 'Nick Zano', 'Matt Lauer', 'David Duchovny', 'Sean Maguire', 'Randy Quaid', 'Alex Thomas', 'Jensen Ackles', 'Romeo Miller', 'Elyes Gabel', 'Michelle Rodriguez', 'Max Records', 'Eric Nenninger', 'Billy Crudup', 'Kevin Conway', 'Allen Covert', 'Michael Nyqvist', 'Megan Dodds', 'Boyd Holbrook', 'Gautam Belur', 'Portia de Rossi', 'Sharlto Copley', 'Lee Majors', 'Rose McGowan', 'Carmen Ejogo', 'Tracy Morgan', \"Ser'Darius Blain\", 'Gregor Fisher', 'Donald Sumpter', 'Julie Walters', 'Justin Theroux', 'Karen Allen', 'Albert Brooks', 'MÃ©lanie Laurent', 'David Banner', 'Taissa Farmiga', 'George Lopez', 'Skandar Keynes', 'Carolyn Lawrence', 'MÃ©lanie Thierry', 'Frankie Muniz', 'Phoebe Tonkin', 'Philippe Reinhardt', 'Ana Gasteyer', 'Rebecca Ferguson', 'Mike Myers', 'Viola Davis', 'Eddie Redmayne', 'Benjamin Hollingsworth', 'Michiel Huisman', 'Max Irons', 'Tim Roth', 'Christopher Nicholas Smith', 'Brian Tee', 'Nathanael Baring', 'Vinnie Jones', 'Jon Heder', 'Bill Melendez', 'Rainn Wilson', 'Hugh Dancy', 'Rick Gonzalez', 'Ashley Judd', 'Amy Schumer', 'Jere Burns', 'Madisyn Shipman', 'Anthony Mackie', 'M.C. Gainey', 'Peter Berg', 'Chase Wright Vanek', 'Cheech Marin', 'David Belle', 'Kelly Carlson', 'Steve Toussaint', \"Robert Ri'chard\", 'Mekhi Phifer', 'Rachel Hurd-Wood', 'Burt Reynolds', 'Rose Leslie', 'Alex Jennings', 'Damon Wayans Jr.', 'Morgan Freeman', 'Callan Mulvey', 'MoisÃ©s Arias', 'Wilson Jermaine Heredia', 'Arthur Angel', 'Sharon Small', 'Lucas Black', 'Jeff Daniels', 'Zeljko Ivanek', 'Zach Gilford', 'Simon McBurney', 'Clive Owen', 'Megan Charpentier', 'Meagan Good', 'Chris Miller', 'Dr. Dre', 'William Moseley', 'Mark Ruffalo', 'Rob Lowe', 'Paul Soles', 'Ray Romano', 'Dania Ramirez', 'Nathan Bexton', 'Charlie Cox', 'Christopher Lambert', 'Monica Potter', 'Dolph Lundgren', 'Oscar Isaac', 'Nicole Sullivan', 'Olivia Williams', 'Liza Lapira', 'Jane Alexander', 'Elden Henson', 'Dylan Baker', 'Joel Edgerton', 'Paul Giamatti', 'Ben Foster', 'Diane Lane', 'Beth Grant', 'Channing Tatum', 'Charlie Day', 'Uma Thurman', 'Gina Carano', 'Debra Messing', 'Liam Cunningham', 'Juliette Binoche', 'Katrina Bowden', 'Ian McNeice', 'Bipasha Basu', 'Ashley Bell', 'Donna Murphy', 'Sanoe Lake', 'Terry Crews', 'Robert Maillet', 'Diedrich Bader', 'Mark Brady', 'Elvis Polanski', 'Lisa Roberts Gillan', 'Olivia Munn', 'Joan Cusack', 'Matt Cross', 'Jennifer Aniston', 'Bruce Greenwood', 'RenÃ©e Zellweger', 'Timothy Spall', 'Ellie Kemper', 'Nathan Kress', 'Holly Valance', 'Damaine Radcliff', 'Phylicia RashÄd', 'Michael Irvin', 'Rhys Ifans', 'Dakota Blue Richards', 'Dane DeHaan', 'Bruce Bruce', 'Richard Harris', 'Crispin Glover', 'Jessica Szohr', 'Alisa Khazanova', 'Eloise Mumford', 'Sandra Bullock', 'Aly Michalka', 'Jay Baruchel', 'Daniel Olbrychski', 'Dan Castellaneta', 'Anjelica Huston', 'Steve Harvey', 'Jay O. Sanders', 'Joseph Gilgun', 'Rupert Evans', 'Matthew Goode', 'Michael Roof', 'Linda Cardellini', 'Rebecca Hall', 'Matthew Settle', 'Denzel Whitaker', 'Drea de Matteo', 'Anthony Anderson', 'Colm Feore', 'Brian Geraghty', 'John Leguizamo', 'James Lafferty', 'Ryan Kwanten', 'Holliday Grainger', 'Tom Skerritt', 'Amber Valletta', 'Jesse Eisenberg', 'Robert Capron', 'Bob Odenkirk', 'Fionnula Flanagan', 'Jai Courtney', 'Jude Law', 'Ian Somerhalder', 'Erica Ash', 'Michael Rapaport', 'Cameron Boyce', 'Joe Slaughter', 'John Travolta', 'Patrick Fischler', 'Sheri Moon Zombie', 'Luke Evans', 'Eddie Deezen', 'Robert Downey Jr.', 'Katee Sackhoff', 'Glenn Howerton', 'John Robinson', 'Edward Herrmann', 'Robert Sheehan', 'Pink', 'Albert Finney', 'Amanda Detmer', 'Thomas Curtis', 'Felicity Huffman', 'Geraldine Somerville', 'Conrad Vernon', 'Ryan Robbins', 'Spencer Locke', 'Kirsten Dunst', 'Tang Wei', 'Jesse James', 'Keri Russell', \"James D'Arcy\", 'Aitana SÃ¡nchez-GijÃ³n', 'Kathryn Morris', 'Jason Cope', 'Adam Campbell', 'Adam Sandler', 'Angus Macfadyen', 'Emma Thompson', 'Bob Peterson', 'E.G. Daily', 'Kelly Clarkson', 'Timyra-Joi Beatty', 'Vincent Cassel', 'T.I.', 'Mathieu Kassovitz', 'Russell Brand', 'Rachel Korine', 'Faune A. Chambers', 'Michael B. Jordan', 'Nick Rotteveel', 'Kagiso Kuypers', 'Vicky Krieps', 'Asia Argento', 'Queen Latifah', 'Cung Le', 'Abigail Hargrove', 'James Hetfield', 'Jason Sudeikis', 'Paul Johansson', 'Ryan McCluskey', 'Ella Rae Peck', 'Joanna Gleason', 'Jim Cummings', 'Agnes Bruckner', 'Iben Hjejle', 'Tommy Lee Jones', 'Briana Evigan', 'Chris Diamantopoulos', 'John Broadwater', 'Treat Williams', 'Denise Richards', 'Sam Shepard', 'Alexander SkarsgÃ¥rd', 'Cicely Tyson', 'Riley Keough', 'Nestor Serrano', 'Myleene Klass', 'Dan Fogler', 'Laura Linney', 'Stephen Baldwin', 'Dominique Louis', 'Eddie Murphy', 'Marc Anthony', 'Michael Ironside', 'Anton Yelchin', 'Mary-Kate Olsen', 'Scoot McNairy', 'Kareena Kapoor', 'Jeff Bennett', 'David Lyons', 'Aimee Teegarden', 'Britt Robertson', 'Eve Hewson', 'Tyler Hilton', 'Jason Patric', 'Pihla Viitala', 'Jeremy Renner', 'Samuel L. Jackson', 'Richard Goteri', 'Zooey Deschanel', 'Jake T. Austin', 'Ulrich Tukur', 'James Kidnie', 'Timothy Olyphant', 'Geraldine Hughes', 'Bill Paterson', 'John Hurt', 'Tom Courtenay', 'Randall Park', 'Moran Atias', 'Abigail Bianca', 'Andrei Dementiev', 'Jessica Lucas', 'Doris Roberts', 'Powers Boothe', 'Adewale Akinnuoye-Agbaje', 'Rachelle Lefevre', 'Ann Harada', 'Camilla Belle', 'Aishwarya Rai Bachchan', 'Aksel Hennie', 'Cassidy Gifford', 'Chris J. Murray', 'Jonathan Cherry', 'Tatiana Maslany', 'Frank Welker', 'Jim Parsons', 'Matt Long', 'Patrick Warburton', 'William Lee Scott', 'Finnegan Williams', 'Timothy Hutton', 'Yolandi Visser', 'Nina Dobrev', 'Cynthia Nixon', 'Barry Watson', 'Sienna Guillory', 'Taryn Manning', 'Michael Imperioli', 'John Lone', 'Brian J. White', 'DeRay Davis', 'Peter Coyote', 'Ving Rhames', 'John Ortiz', 'Jeremy Marinas', 'Mackenzie Davis', 'Debra Winger', 'Agata Buzek', 'Taylor Schilling', 'Gregory Itzin', 'Charles Dance', 'Steve Whitmire', \"Alex O'Loughlin\", 'Tom Felton', 'Bree Turner', 'Steve Zahn', 'Ed Speleers', 'Logan White', 'Jack McElhone', 'Daniel Gillies', 'Jorge Garcia', 'Angus T. Jones', 'Monica Keena', 'Omar J. Dorsey', 'Michael Lonsdale', 'Brandy Norwood', 'Jennifer Garner', 'Daniela Ruah', 'James Franco', 'Heath Ledger', 'Nicolas Cage', 'Matt Damon', 'Max Ryan', 'Jay Villiers', 'Nicholas Tse', 'Adam RodrÃ\\xadguez', 'Kelan Pannell', 'Clint Howard', 'Kate Hudson', 'Mike Pniewski', 'Sean Connery', 'Leon Rippy', 'Cliff Curtis', 'Tom Welling', 'Bianca A. Santos', 'Brad Dourif', 'Neve Campbell', 'Dave Franco', 'Alice Braga', 'Allison Mackie', 'Orlando Bloom', 'Clint Eastwood', 'Luke Wilson', 'Mia Moretti', 'Ian McDiarmid', 'Kim Coates', 'Philip Seymour Hoffman', 'Gabriel Mann', 'Liev Schreiber', 'Neha Dhupia', 'Beau Knapp', 'Noah Taylor', 'Juan Carlos HernÃ¡ndez', 'Amanda Crew', 'Adriana Barraza', 'Collette Wolfe', 'Jenny McCarthy', 'Cillian Murphy', 'Lena Olin', 'Shannyn Sossamon', 'Clifton Powell', 'Odette Annable', 'DMX', 'John Ashton', 'Ice Cube', 'Charlie Saxton', 'Max Baker', 'Eric Bana', 'Dianne Wiest', 'Mandy Moore', 'Orlando Jones', 'Michael Kelly', 'Katherine Waterston', 'Zuleikha Robinson', 'Ron Leibman', 'Stacy Keach', 'Iain Glen', 'Lily Collins', 'Bradley Cooper', 'Stuart Townsend', 'Eddie J. Fernandez', \"Mo'Nique\", 'Kenan Thompson', 'Tamala Jones', 'Rohan Chand', 'Leelee Sobieski', 'Peter Mullan', 'Dianne Reeves', 'Nathan Phillips', 'Allen Leech', 'Francesca Neri', 'Bruno Ganz', 'Kelly Macdonald', 'Edward James Olmos', 'Karyn Parsons', 'Jim Beaver', 'Redman', 'Alexander Gould', 'Bill Irwin', 'Virginia Gardner', 'Sarah Murdoch', 'Jenny Wade', 'Arielle Kebbel', 'Glenne Headly', 'Anika Noni Rose', 'Rafe Spall', 'Erica Leerhsen', 'John Shrapnel', 'Jake Lacy', 'Geraldine James', 'Mia Wasikowska', 'Billy Bob Thornton', 'Ben Shenkman', 'John Hawkes', 'Kane Hodder', 'Billy Connolly', 'Julia Ormond', 'Benno FÃ¼rmann', 'Maitland Ward', 'CiarÃ¡n Hinds', 'Simon Woods', 'Max Minghella', 'Ahney Her', 'Ayelet Zurer', 'Shannon Cochran', 'Jay Mohr', 'Billy Burke', 'Will Patton', \"Michael O'Keefe\", 'Joe Anderson', 'Jasmine Trinca', 'Dan Aykroyd', 'Charlie Hewson', 'Megan Cavanagh', 'Eduardo VerÃ¡stegui', 'SÃ´nia Braga', 'Alex D. Linz', 'Ike Barinholtz', 'Julia Stiles', 'Monica Raymund', 'Lombardo Boyar', 'Robert Carlyle', 'Nicholas Art', 'Grant Bowler', 'Martin Sheen', 'Tyrese Gibson', 'Charlie Yeung', 'Leland Orser', 'Larry Miller', 'Dax Flame', 'Kenny Wormald', 'James Francis Kelly III', 'James Marsden', 'Mamie Gummer', 'Terry Kinney', 'Brady Allen', 'Tanja Reichert', 'Michael Keaton', 'Deniz Akdeniz', 'Jake McDorman', 'Amanda Seyfried', 'Joe Viterelli', 'Ron Glass', 'Paul Anderson', 'Madeleine West', 'Nash Edgerton', 'Ashley Tisdale', 'Maureen Lipman', 'Caroline Goodall', 'Michael Vartan', 'Dylan Minnette', 'Aaron Yoo', 'Louis Gossett, Jr.', 'Ed Helms', 'Jimmy Bennett', 'Angie Harmon', 'Christopher Eccleston', 'Christopher Evan Welch', 'Richard Madden', 'Colin Ford', 'Robin Wright', 'Connor Corum', 'Djimon Hounsou', 'Sam Neill', 'Shuler Hensley', 'Jennifer Coolidge', 'Phaldut Sharma', 'Debbie Reynolds', 'Janeane Garofalo', 'Ioan Gruffudd', 'Sherri Shepherd', 'Natalie Portman', 'Walton Goggins', 'Gene Hackman', 'Jay Chandrasekhar', 'Izabella Scorupco', 'Lisa Ann Walter', 'Kevin McKidd', 'Lonny Ross', 'Jose Pablo Cantillo', 'David Hayman', 'Jacinda Barrett', 'Jennifer Esposito', 'Mark Strong', 'Liam Neeson', 'Amir K', 'Alistair McGowan', 'Ivana MiliÄeviÄ‡', 'Victor Rasuk', 'Rupert Friend', 'Leonardo DiCaprio', 'Liane Balaban', 'Christopher Carley', 'Eric Lloyd', 'Ulrich Thomsen', 'Tate Ellington', 'Gemma Jones', 'Craig T. Nelson', 'Bernie Mac', 'Brian Howe', 'Travis Wester', 'Andy Serkis', 'CÃ©cile De France', 'Jana Hrabetova', 'Jerry Stiller', 'Reese Witherspoon', 'Gabriel Macht', 'Anne Bancroft', 'Emilia Fox', 'Simon Helberg', 'Robert Amaya ', 'Betty White', 'Jamie Blackley', 'Arnold Vosloo', 'Kevin Zegers', 'Shantel VanSanten', 'Mickey Rourke', 'Bokeem Woodbine', 'JoJo Kushner', 'Audra McDonald', 'Kevin Rahm', 'Fred Ward', 'Robert Carradine', 'Bryce Dallas Howard', 'Laura Johnson', 'Ellen Wroe', 'Breckin Meyer', 'Jeff LeBeau', 'Tsuyoshi Ihara', 'Ben Kingsley', 'Tony Todd', 'Stephen Lang', 'Karel Roden', 'Aziz Ansari', 'Max Martini', 'Bill Smitrovich', 'Kenneth Welsh', 'Jack Davenport', 'J.K. Simmons', 'Sylvaine Strike', 'Estella Warren', 'Jerry Seinfeld', 'Andrew Ginsburg', 'Dylan Moran', 'Wen Yann Shih', 'Jean Heywood', 'Abigail Breslin', 'Justin Bieber', 'June Squibb', 'Sarah Drew', 'David Henrie', 'Sean Penn', 'Scott Bakula', 'Jeremy Sisto', 'Hanns Zischler', 'Eva Longoria', 'Evan Peters', 'Jessica Alba', 'Peter Dinklage', 'Rene Russo', 'Nick Nolte', 'Bruce Altman', 'Glenn Close', 'Madeline Carroll', 'Fran Kranz', 'Catherine Sutherland', 'Holly Hunter', 'Costas Mandylor', 'Keith David', 'Mary Birdsong', 'Rhys Darby', 'Lou Romano', 'Mike Colter', 'Julie Kavner', 'David Zayas', 'Luis GuzmÃ¡n', 'Imogen Poots', 'Anders Holm', 'Larenz Tate', 'Rachel McAdams', 'Curtis Armstrong', 'Christian McKay', 'Zachary Knighton', 'Julia Garner', 'AdriÃ¡n Alonso Barona', 'Bronwen Coleman', 'Nate Parker', 'Madison Davenport', 'Eileen Brennan', 'Fernanda Romero', 'Amy Brenneman', 'Tom Sizemore', 'Brooke Shields', 'Obba BabatundÃ©', 'Tyler Perry', 'Danneel Ackles', 'Sean Bridgers', 'Dermot Mulroney', 'James Buckley', 'Ellen Burstyn', 'Gaelan Connell', 'Clea DuVall', 'Andy Davoli', 'Jackson Nicoll', 'Kristin Scott Thomas', 'Yvan Attal', 'Ashraf Barhom', 'Dustin Hoffman', 'Jack Nicholson', 'Sean Astin', 'Bridget Moynahan', 'Eric Jacobson', 'Anna Wood', 'Kristin Chenoweth', 'Chris Cooper', 'Rick Malambri', 'Katie Chang', 'Scott Adkins', 'Aimee Garcia', 'Sheila Kelley', 'James Coburn', 'Don Cheadle', 'Richard Felix', 'Helen McCrory', 'Abhishek Bachchan', 'Lacey Chabert', 'Brian Dennehy', 'Joel Courtney', 'Evan Arnold', 'Philip Bolden', 'Lennie James', 'Ludivine Sagnier', 'Edwin Hodge', 'James Spader', 'Tony Cox', 'Alicia Vikander', 'Steele Stebbins', 'Raoul Max Trujillo', 'Chuck Campbell', 'Danny Sapani', 'Steven Dasz', 'Thomas Jane', 'Amelia Curtis', 'Andrew Scott', \"Chris O'Dowd\", 'Sienna Miller', 'Ashley Williams', 'Skyler Samuels', 'Maura Tierney', 'Forest Whitaker', 'Anthony Hopkins', 'SinÃ©ad Cusack', 'George Clooney', 'Amy Sedaris', 'Fan Bingbing', 'Jane Horrocks', 'Joel Kinnaman', 'Jordan Nagai', 'Michael Cera', 'Lily Tomlin', 'Chris Sarandon', 'Michael Rainey Jr.', 'Nick Lashaway', 'Brandon Routh', 'Damon Herriman', 'Brenton Thwaites', 'Aasif Mandvi', 'Aidan McArdle', 'Harry Connick Jr.', 'Robert De Niro', 'Craig Archibald', 'Lena Headey', \"Lupita Nyong'o\", 'Michael-Leon Wooley', 'Gina Gershon', 'Sam Elliott', 'Seth MacFarlane', 'Travis Oates', 'Shane Brolly', 'Daveigh Chase', 'Anne Heche', 'Christian Kane', 'Diana Bang', 'Ben Chaplin', 'Danny Glover', 'Analeigh Tipton', 'Bijou Phillips', 'Wendy Raquel Robinson', 'Jimmy Fallon', 'David Morse', 'Kevin Sussman', 'Jonny Weston', 'Michael Stuhlbarg', 'Cassie Ventura', 'Peyton List', 'John Cena', 'Lindsay Lohan', 'Nicholas King', 'Jean Dujardin', 'Hunter McCracken', 'Lois Smith', 'John Rhys-Davies', 'Adil Hussain', 'Samantha Mathis', 'Alyson Stoner', 'Michael Ealy', 'Mac McDonald', \"Nicholas D'Agosto\", 'Armin Rohde', 'Michelle Yeoh', 'Lili Taylor', 'Scott Eastwood', 'Paula Abdul', 'Sarita Choudhury', 'Nick Robinson', 'Jessica Biel', 'Dina Meyer', 'Gillian Anderson', 'Ron Eldard', 'Jacob Latimore', 'Arnold Schwarzenegger', 'Rutina Wesley', 'Andy Samberg', 'Bibi Naceri', 'Rhiana Griffith', 'Radha Mitchell', 'Jamie Chung', 'Lizzy Caplan', 'Jermaine Williams', 'Sean Bean', 'Rory Cochrane', 'Michael Angarano', 'Andy Dick', 'Fergus Riordan', 'January Jones', 'Dee Bradley Baker', 'Sarah Wayne Callies', 'Kerry Condon', 'Benjamin Kanes', 'George W. Bush', 'Paddy Considine', 'Alexandra Maria Lara', 'Zach Braff', 'Rudy Youngblood', 'Miranda Richardson', 'Tsai Chin', 'Isabel Lucas', 'Michael Caine', 'Ben Affleck', 'T.J. Miller', 'Peter Sarsgaard', 'Mari Morrow', 'Martin Starr', 'Russell Crowe', 'Bruce Campbell', 'Adrian Paul', 'Dave England', 'Debra Jo Rupp', 'Brian Blessed', 'Alex Fisher', 'Brad Loree', 'Jennifer Jason Leigh', 'Robert Belushi', 'Chadwick Boseman', 'Josh Duhamel', 'Edie Falco', 'Maggie Smith', 'Hakeem Kae-Kazim', 'Hilary Duff', 'Youki Kudoh', 'Lauren Graham', 'Mark Duplass', 'Deobia Oparei', 'Jessica Simpson', 'Rodrigo Santoro', 'Moa Khouas', 'Jack Thompson', 'Ed Skrein', 'Alan Alda', 'Emilio Rivera', \"Jodi Lyn O'Keefe\", 'Rosamund Pike', 'Jake La Botz', 'Naveen Andrews', 'Jim Carrey', 'Alex Russell', 'Faizon Love', 'Matthew Perry', 'Chad Lindberg', 'Russ Fega', 'Sarah Silverman', 'Gerard Plunkett', 'Michael Fassbender', 'Paul Rudd', 'Noah Segan', 'Brian Dietzen', 'Sherry Miller', 'Bob Balaban', 'Gordon Liu Chia-Hui', 'Lester Speight', 'Gregory Smith', 'Craig Bierko', 'Tom Selleck', 'Jemaine Clement', 'Adam Garcia', 'Carrie Underwood', 'Simon Baker', 'Annie Parisse', 'Johnny Strong', 'Emily Blunt', 'Zoe Saldana', 'Kathryn Hahn', 'Jodie Foster', 'Tessa Thompson', 'Steven Berkoff', 'Eric Balfour', 'Will.i.am', 'Noah Emmerich', 'Joey King', 'Danny DeVito', 'Lisa Kudrow', 'Taylor Swift', 'Busy Philipps', \"Peter O'Toole\", 'Amaury Nolasco', 'Benicio del Toro', 'Krysten Ritter', 'L. Scott Caldwell', 'Edward Furlong', 'Kelly Lynch', 'Gabriel Byrne', 'Vicky McClure', 'Daniel Wyllie', 'Joanna Lumley', 'Erin Daniels', 'Eddie Griffin', 'Jackie Chan', 'Trish Gates', 'Elizabeth Reaser', 'Kate Shindle', 'Peter Sohn', 'Blake Cooper', 'Stephen Tobolowsky', 'John Lithgow', 'Alexander Asefa', 'Sam Trammell', 'Brittany Murphy', 'Jonathan Frakes', \"Carroll O'Connor\", 'Roger Bart', 'Tim Allen', 'LaJessie Smith', 'Nicole Beharie', 'Heike Makatsch', 'Ethan Suplee', 'AnnaSophia Robb', 'Violante Placido', 'Malcolm David Kelley', 'Amy Ryan', 'Danny Huston', 'Julianna Margulies', 'Carmen Electra', 'Brian H. Dierker', 'Melissa McCarthy', 'Sydney Pollack', 'Kerr Smith', 'Jessica Barth', 'Adam Alexi-Malle', 'Portia Dawson', 'Jorge Diaz', 'Wallace Wolodarsky', 'George Takei', 'Astro', 'Diane Keaton', 'Aleisha Allen', 'Kristanna Loken', 'Sean McCann', 'Derek Mears', 'Matthias Schoenaerts', 'Ren Quan', 'Jennifer Hudson', 'Lisa Gay Hamilton', 'Dominique McElligott', 'Ricky Gervais', 'Steve Buscemi', 'Columbus Short', 'Christopher Kirby', 'Yuan Wenkang', 'Kristy Swanson', 'Sydney Tamiia Poitier', 'Robbie Amell', 'Jordi MollÃ\\xa0', 'Douglas Booth', 'Thomas Brodie-Sangster', 'Jeremy Strong', 'Mary Steenburgen', 'Matt Lanter', 'Lenny Venito', 'Douglas Hodge', 'Gemmenne de la PeÃ±a', 'Paul Dano', 'Andy Lau', 'David Wenham', 'Laurie Metcalf', 'Cara Delevingne', 'Chris Evans', 'Gates McFadden', 'Roger Ashton-Griffiths', \"Joanna 'JoJo' Levesque\", \"Dylan O'Brien\", 'Alice Parkinson', 'Penelope Ann Miller', 'Elizabeth Mitchell', 'Yousuf Azami', 'Penelope Wilton', 'Thomas McDonell', 'Jason Behr', 'Malin Ã…kerman', 'Mika Boorem', 'Aidan Quinn', 'Tom Holland', 'Dylan Brown', 'Paul Soter', 'Todd Louiso', 'Danila Kozlovskiy', 'Chris Zylka', 'Diana Scarwid', 'Wen Bin Huang', 'Devon Sawa', 'Bonnie Perlman', 'Kerry Fox', 'Madeleine Stowe', 'Jean-Luc Bilodeau', 'Elissa Knight', 'Art Parkinson', 'Catalina Sandino Moreno', 'Dean Collins', 'Laz Alonso', 'Desmond Harrington', 'Danny Strong', 'Jessica Chastain', 'John Carroll Lynch', 'Saxon Sharbino', 'Daniel Day-Lewis', 'America Ferrera', 'Natalya Rudakova', 'Ron Rifkin', 'Chris Pine', 'Leighton Meester', 'Adam Lamberg', 'Leslie Nielsen', 'Perdita Weeks', 'Christopher Lee', 'Mila Kunis', 'Marc Fayolle', 'Jamie Bell', 'Dean Cain', 'Riley Griffiths', 'Marcia Gay Harden', 'Eamonn Walker', 'Jonathan Rhys Meyers', 'Steven Culp', 'Sean Pertwee', 'Tina Lifford', 'Josh Hammond', 'Jet Li', 'Catherine Kresge', 'Mia Xitlali', 'Seth Green', 'Shawn Roberts', 'Corey Stoll', 'Charlie Sheen', 'Giancarlo Esposito', 'Resse Hartwig', 'Henry Thomas', 'Patricia Belcher', 'Anthony Ruivivar', 'Cole Hauser', 'Martin Henderson', 'Dick Van Dyke', 'Chad Michael Murray', 'Michael Kopsa', 'Mary Alice', 'Sam Riley', 'Gerald McRaney', 'Jason Mewes', 'Kazunari Ninomiya', 'Constantino Romero', 'Jennifer Love Hewitt', 'Gemma Ward', 'Olga Kurylenko', 'Dejan Angelov', 'Stan Collymore', 'Shirley MacLaine', 'Flaminia Cinque', 'Michael Jai White', 'Cozi Zuehlsdorff', 'Anthony Ray Parker', 'Hope Davis', 'Peter Gallagher', 'Gary Sinise', 'Oliver Reed', 'Nicole Kidman', 'Diego Boneta', 'Andrew McCarthy', 'Alexander Siddig', 'Dash Mihok', 'Martin Landau', 'Sally Field', 'Vanessa Ferlito', 'Wes Bentley', 'Eddie Marsan', 'Hallie Todd', 'Tim Daly', 'Ryan Phillippe', 'Mark Rylance', 'Christoph Waltz', 'Johnny Depp', 'Ken Medlock', 'Anthony Rapp', \"O'Shea Jackson Jr.\", 'Ben Schwartz', 'ClÃ©mence PoÃ©sy', 'Kimberly Elise', 'Jesse Bradford', 'Jesper Christensen', 'Kevin Chapman', 'FranÃ§ois BerlÃ©and', 'Jared Gilman', 'Jordan Garrett', 'Thomas Dekker', 'Georgina Cates', 'Dave Bautista', 'Robert Hoffman', 'Julia Roberts', 'Daniel E. Smith', 'Hrithik Roshan', 'Kevin Dunn', 'Madhavan', 'James McAvoy', 'David Koechner', 'Olivia Cooke', 'James Cameron', 'Emmanuelle Chriqui', 'Kyra Sedgwick', 'Heather Locklear', 'Tony Shalhoub', 'Ginnifer Goodwin', 'Bailee Madison', 'Sarah Polley', 'Alex Borstein', 'Jared Leto', 'Frankie Faison', 'Paul Whitehouse', 'Viggo Mortensen', 'Lymari Nadal', 'Stephen Dillane', 'Annabelle Wallis', 'Thomas Robinson', 'Leah Pipes', 'Carlos Alazraqui', 'Ashley Benson', 'Freddie Prinze Jr.', 'Sophie Okonedo', 'Patricia Clarkson', 'Julian Christopher', 'Andrea Martin', 'Matthew Gray Gubler', 'Aaron Eckhart', 'Cyndi Mayo Davis', 'Raffey Cassidy', 'Miranda Otto', 'Thora Birch', 'Ann Dowd', 'Billy Crystal', 'Ana Coto', 'Bitsie Tulloch', 'Elizabeth Blackmore', 'Cameron Richardson', 'John Patrick Amedori', 'Bill Murray', 'Callan McAuliffe', 'Bernard Blancan', 'Steve Coogan', 'Aaron Paul', 'Javier Bardem', 'Joel McHale', 'Ari Graynor', 'Ewen Bremner', 'Christine Taylor', 'Melissa Benoist', 'Spencer Treat Clark', 'Robert Englund', 'Zoe McLellan', 'Suraj Sharma', 'Quinton Aaron', 'Simon Rex', 'Jemima West', 'Lea Thompson', 'Bonnie Hunt', 'Christopher Knights', 'Ron Perlman', 'Marshall Bell', 'Tim Robbins', 'Virginie Ledoyen', 'Kate Upton', 'Dominic West', 'Becca Gardner', 'Robert Joy', 'Virginia Madsen', 'Mindy Sterling', 'Jim Broadbent', 'Edward Norton', 'Woody Harrelson', 'Colin Egglesfield', 'Daren Kagasoff', 'Robert Duvall', 'Michael Moore', 'Patrick Dempsey', 'Michael Pitt', 'Paul Sanchez', 'Aaliyah', 'Justin Chon', 'Sami Bouajila', 'Amara Miller', 'Richard Roxburgh', 'Tom Hardy', 'Henry Winkler', 'Leonor Varela', 'Sarah Burns', 'Sean Patrick Flanery', 'Audrey Tautou', 'James DeBello', 'Dean Norris', 'Herman Osorio', 'Richard Cabral', 'Rowan Atkinson', 'Kevin Spacey', 'Chyler Leigh', 'Dylan Walsh', 'Sami Gayle', 'Giovanni Ribisi', 'Rebecca Romijn', 'David Paymer', 'Bryan Cranston', 'Jamie Elman', 'Rachael Harris', 'Whoopi Goldberg', 'Michael Biehn', 'Emilie de Ravin', 'Jennifer Ehle', 'Asa Butterfield', 'Ryan Lee', 'Pauline Collins', 'Tom Arnold', 'Joss Ackland', 'Noel Fisher', 'Clark Duke', 'Kath Soucie', 'Atossa Leoni', 'Gary Sweet', 'John Goodman', 'Lauren Bittner', 'Guillaume Canet', 'Ben Garant', 'Lauren German', 'Bobby Cannavale', 'Alan Arkin', 'Rae Dawn Chong', 'Nicola Peltz', 'Maureen Keiller', 'Elisha Cuthbert', 'Matt Shively', 'Ã“lafur Darri Ã“lafsson', 'Maya Rudolph', 'Jimmi Simpson', 'Marshall Chapman', 'Ajay Naidu', 'Kevin Pollak', 'DJ Qualls', 'Erik Stolhanske', 'Anna Paquin', 'Bob Tracey', 'Kate del Castillo', 'Haley Bennett', 'Tom Hiddleston', 'Mena Suvari', 'Shannon Woodward', 'Janet Jackson', 'Bridget Fonda', 'Clark Gregg', 'Eliza Bennett', 'Danielle Campbell', 'Jack McBrayer', 'Brooklyn Decker', 'Mary Kay Place', 'Shane Harper', 'George McLaren', 'Lake Bell', 'Jeffrey Donovan', 'Daran Norris', 'Pascale Hutton', 'Ebon Moss-Bachrach', 'Morris Birdyellowhead', 'Jessica Brown Findlay', 'Catherine Zeta-Jones', 'Michael York', 'Matthew McConaughey', 'Dominic Cooper', 'DJ Pooh', 'Melissa Leo', 'Svetlana Khodchenkova', 'Collin Chou', 'Jasmine Jessica Anthony', 'Rob Morrow', 'Nicky Whelan', 'Odeya Rush', 'Tess Liu', 'Cayden Boyd', 'Zachary Levi', 'Piper Perabo', 'Jonathan Brewer', 'Sylvester Stallone', 'Neil Patrick Harris', \"Mickey O'Keefe\", 'Joaquin Phoenix', 'Jason Flemyng', 'Yanina Studilina', 'Eartha Kitt', 'Russell Means', 'Tim Meadows', 'Xzibit', 'Snoop Dogg', 'Goran Visnjic', 'Emily Ratajkowski', 'Nancy Cartwright', 'Jenna Boyd', 'Gina Torres', 'Wesley Snipes', 'Jackson Bond', 'Alice Drummond', 'Joe Pantoliano', 'Fred Melamed', 'Deirdre Blades', 'Suzuka Ohgo', 'Anne Hathaway', 'Bai Ling', 'Kathleen Quinlan', 'Mr. T', 'Andie MacDowell', 'Christopher Dunne', 'Joan Chen', 'Chris Brown', 'Amanda Peet', 'Eddie Kaye Thomas', \"Bobb'e J. Thompson\", 'Lisa Barbuscia', 'Jason Isaacs', 'Michael Chiklis', 'Sasha Alexander', 'RZA', 'Sophie Marceau', 'Sally Hawkins', 'Cobie Smulders', 'Justice Smith', 'Jason London', 'Fairuza Balk', 'Taylor Lautner', 'Courtney Love', 'Lenny Kravitz', 'Adrian Grenier', 'John Slattery', 'Julia Louis-Dreyfus', 'Angourie Rice', 'Haley Hudson', 'Chelsea Handler', 'Ossie Davis', 'Peter Clayton-Luce', 'Choi Min-sik', 'Kevin Smith', 'Tasha Smith', 'Nick Krause', 'Miranda Hart', 'Laura Fraser', 'Norah Jones', 'Amy Poehler', 'Noomi Rapace', 'Elizabeth Perkins', 'Ayush Tandon', 'Maria Bello', 'Charlie Tahan', 'Omar Sharif', 'Diane Kruger', 'Jonathan Lipnicki', 'Courteney Cox', 'Kennedi Clements', 'Aaran Thomas', 'Jessica Lowndes', 'Catherine Deneuve', 'Nirattisai Kaljaruek', 'Carmen Chaplin', 'Isabelle NÃ©lisse', 'Will Poulter', 'Michael Mosley', 'Liz Smith', 'Raven-SymonÃ©', 'Claudia Karvan', 'Ezra Miller', 'Lee Tergesen', 'Rob Corddry', 'Drake Bell', 'Jack Conley', 'Angela Kinsey', 'Clancy Brown', 'Oliver Cooper', 'Dileep Rao', 'Rory Kinnear', 'Eric Christian Olsen', 'Cedric the Entertainer', 'Andy GarcÃ\\xada', 'Gemma Arterton', 'Kristen Connolly', 'Joseph Gordon-Levitt', 'Craig Berry', 'Octavia Spencer', 'Lochlyn Munro', 'Richard Gere', 'Judd Lormand', 'Tony Goldwyn', 'Selena Gomez', 'Joshua Jackson', 'Cindy Cheung', 'Cee Lo Green', 'Michael Carman', 'Adam Arkin', 'Charlie Rowe', 'Lucas Till', 'Al Gore', 'Keira Knightley', 'Gia Mantegna', 'Sam Easton', 'Chris Warren, Jr.', 'Alicia Keys', 'Zachary Gordon', 'Henry Cavill', 'Anne Archer', 'Masasa Moyo', 'Brit Shaw', 'Allan Corduner', 'Emma Roberts', 'Stephanie Szostak', 'Kyla Pratt', 'Sayed Badreya', 'Luenell', 'Kyle Gallner', 'Victor Garber', \"Mike O'Brien\", 'Kuno Becker', 'Cole Konis', 'Alicia Silverstone', 'Deborah Rush', 'Mark Hamill', 'India Eisley', 'Jon Favreau', 'Hannah Ware', 'Edi Gathegi', 'DemiÃ¡n Bichir', 'Oliver Platt', 'William Black', 'Jack Reynor', 'Ashley Hinshaw', 'Alexis Bledel', 'Rosario Dawson', 'Maika Monroe', 'WolÃ© Parks', 'Michael Shannon', 'Matt Dillon', 'Jason Mitchell', 'Paulo Costanzo', 'Chris Marquette', 'Rashida Jones', 'Catherine McCormack', 'Anna Hoelck', 'Alan Ritchson', 'Gil McKinney', 'Pruitt Taylor Vince', 'Sarah Michelle Gellar', 'Susanna Thompson', 'Joan Allen', 'Ella Wahlestedt', 'Alice Krige', 'Daniel Baldwin', 'Gillian Jacobs', 'Aldis Hodge', 'Ted Levine', 'Michael Michele', 'Carly Nahon', 'Greg Germann', 'Steve-O', 'Jason Gray-Stanford', 'Alessandro Nivola', 'William Forsythe', 'Alyson Hannigan', 'Gabriella Wright', 'Rupert Everett', 'LÃ©a Seydoux', 'Hayden Panettiere', 'David Fernandez Jr.', \"David O'Hara\", 'Christopher Meloni', 'Jeff Goldblum', 'Natalia Klimas', 'Sarah Wright', 'Gabriel Bateman', 'Sanaa Lathan', 'Caity Lotz', 'Corey Hawkins', 'Leslie Bibb', 'Mos Def', 'Karen Black', 'Ana de la Reguera', 'Patricia VelÃ¡squez', 'Jason Ritter', 'Bob Barr', 'Julie Andrews', 'Josh Lucas', 'Kristen Wiig', 'Paul Hogan', 'StÃ©phanie Lagarde', 'Andre Braugher', 'Tess Harper', \"Sofia Black-D'Elia\", 'Barbara Jefford', 'Justin Chambers', 'Bill Clinton', 'Martha Higareda', 'Rob Brown', 'Christie Lynn Smith', 'Matthew Fox', 'Ritchie Coster', 'Rob LaBelle', 'Paul Bettany', 'Jane Krakowski', 'Dan Levy', 'Sara Foster', 'Thandie Newton', 'Anna Hutchison', 'Nancy McDoniel', 'Emily Browning', 'Charles Grodin', 'John Cusack', 'Darrin Henson', 'Bruce McGill', 'Catherine Chan', 'Emma de Caunes', 'Carlo Rota', 'Ian Richardson', 'Jonathan Jackson', 'Jason Bonham', 'Garry Shandling', 'Daniel Kash', 'Jolie Vanier', 'Hayden Christensen', 'Tabu', 'Jay Tavare', 'Johnny Messner', 'Amber Heard', 'Joe Manganiello', 'Liam McIntyre', 'Jake Busey', 'Malik Yoba', 'Mel Gibson', 'Jon Hamm', 'Levi Miller', 'Jack Bright', 'Jon Voight', 'Edward Burns', 'Jesse Williams', 'Ed Harris', 'Ben Daniels', 'Aryana Engineer', 'Adrien Brody', 'David Arquette', 'Todd Boyce', 'Eva Amurri Martino', 'Brad Garrett', 'Frances Conroy', 'Darius Rose', 'Joel David Moore', 'Meat Loaf', 'Jon Ted Wynne', 'Raymond J. Barry', 'Dave Matthews', 'Kirk Hammett', 'Chris Messina', 'Saoirse Ronan', 'Jennifer Cody', 'Vera Farmiga', 'Tracey Ullman', 'Anna Faris', 'Gaspard Ulliel', 'Min Tanaka', 'Frank Finlay', 'Vincent Pastore', 'Dominic Purcell', 'HÃ©ctor JimÃ©nez', 'Roy Scheider', 'Daniel Radcliffe', 'Lexa Doig', 'Emma Bell', 'Peter Falk', 'Kyle Gass', 'Johnny Knoxville', 'Emma Watson', 'Bernard Hill', 'Tony Curran', 'Harry Lloyd', 'Eric Roberts', 'Katija Pevec', 'Lou Myers', 'Sahira Nair', 'Scott Foley', 'Peter Capaldi', 'Tim Matheson', 'Lari White', 'Bianca Kajlich', 'RamÃ³n RodrÃ\\xadguez', 'Corey Johnson', 'Joan Plowright', 'Don Knotts', 'Ben Reed', 'Yeardley Smith', 'Julia Winter', 'Shawn Doyle', 'Jason Clarke', 'Linda Bassett', 'Leslie Mann', 'Rupert Grint', 'Chris Wedge', 'Carly Schroeder', 'Justin Chatwin', \"Kerry O'Malley\", 'Kate Butler', 'PenÃ©lope Cruz', 'Lyriq Bent', 'Werner Herzog', 'Adrianne Palicki', 'Heather Matarazzo', 'Lusia Strus', 'Jared Padalecki', 'Hayley Atwell', 'Maggie Grace', 'Katie Cassidy', 'Joan Collins', 'Eva Mendes', 'Method Man', 'Alexa Davalos', 'Johnny Simmons', 'Siobhan Fallon', 'Nicole Ari Parker', 'James Remar', 'Kat Dennings', 'Beverly Todd', 'Kerris Dorsey', 'Ona Grauer', 'Bruce Payne', 'Robert Mammone', 'Stuart Stone', 'Emily Osment', 'Emilio EchevarrÃ\\xada', 'Will Smith', 'Dylan McDermott', 'Jack Huston', 'Oanh Nguyen', 'Patrick Fugit', 'Joely Richardson', 'Kevin Kline', 'Adam Pascal', 'Kristen Cloke', 'Chris Lowell', 'Phyllis Smith', 'Eli Wallach', 'Larry Bryggman', 'Emily Bett Rickards', 'Eliza Dushku', 'Skyler Gisondo', 'Chris Potter', 'Rory Culkin', 'Deanna Dunagan', 'Teresa Palmer', 'Elizabeth Olsen', 'Dakota Fanning', 'Michael Rispoli', 'Sam Rockwell', 'Paula Patton', 'Emma Stone', 'Billie Whitelaw', 'Julie Benz', 'Rachael Leigh Cook', 'Laura Prepon', 'Whitney Houston', 'Lydia Hull', 'John Witherspoon', 'Jamie Dornan', 'Amr Waked', 'Parker Posey', 'Alfre Woodard', 'Udo Kier', 'Bob Gunton', 'Thomas Haden Church', 'William Shatner', 'Tucker Albrizzi', 'Kara Hayward', 'Izabela Vidovic', 'Joseph Cross', 'Cloris Leachman', 'Noah Ringer', 'Bruce Dern', 'Jason Segel', 'Vin Diesel', 'Warren Christie', 'Susan Sarandon', 'Kodi Smit-McPhee', 'Justin Timberlake', 'Ian McKellen', 'Eleanor Tomlinson', 'Jim Carter', 'Priyanka Xi', 'Ali Suliman', 'Ming-Na Wen', 'Timothy Dalton', 'Garikayi Mutambirwa', 'Jadie-Rose Hobson', 'Kate Bosworth', 'Sarah Bolger', 'Kevin Hart', 'Dwight Yoakam', 'Jada Pinkett Smith', 'Susan Brown', 'Jeff Bridges', 'Kristen Stewart', 'Jonathan Tucker', 'James Woods', 'Matt McKenna', 'VerÃ³nica Echegui', 'Kevin Nash', 'Avery Brooks', 'Jim Sturgess', 'Danny McCarthy', 'Terrence Howard', 'Michelle Trachtenberg', 'Teo Halm', 'Raad Rawi', 'Sharon Osbourne', 'Tia Texada', 'Sam Huntington', 'Billy Dee Williams', 'Paul Adelstein', 'Jascha Washington', 'Hillary Clinton', 'Mark Moses', 'Kelly Hu', 'Stephen Rea', 'Aamir Khan', 'F. Murray Abraham', 'CCH Pounder', 'Nick Cannon', 'Topher Grace', 'Steven Seagal', 'Rolf Kanies', 'Joe Morton', 'Edie Martin', 'Dakota Goyo', 'Jesse L. Martin', 'Doug Jones', 'Cody Horn', 'Shad Moss', 'Tilda Swinton', 'Fred Williamson', 'Jim Parrack', 'Justin Bartha', 'Cheryl Hines', 'Benedict Wong', 'Andrew Sensenig', 'Hayley Kiyoko', 'Bill Moseley', 'Toby Huss', 'Mare Winningham', 'Eva Green', 'Spencer Breslin', 'Carter Jenkins', 'Vivica A. Fox', 'Rachel Dratch', 'Taylor Momsen', 'Hilary Swank', 'Gordon Pinsent', 'Shannon Elizabeth', 'Christopher Cousins', 'Samuel Joslin', 'Fann Wong', 'Wu Jing', 'Alessandro Lindblad', 'Jake Johnson', 'Christina Ricci', 'David Strathairn', 'Nick Stahl', 'Julie Bowen', 'Teri Polo', 'Len Cariou', 'Nelly', 'Amanda Bynes', 'Danny Trejo', 'Billy Ray Cyrus', 'Alakina Mann', 'Matt Stern', 'Rooney Mara', 'Toby Jones', 'Shawn Wayans', 'Carey Mulligan', 'Shyann McClure', 'Nelsan Ellis', 'Sharni Vinson', 'Barnaby Carpenter', 'Maggie Siff', 'Nathan Gamble', 'Liv Tyler', 'Ariel Winter', 'Bob Hoskins', 'Kris Lemche', 'Rachel Covey', 'Jean Michel ParÃ©', 'Gary Dourdan', 'Jonathan Bennett', 'Alexander Ludwig', 'Mackenzie Crook', 'Laura Ramsey', 'Tyra Banks', 'Steven Mackintosh', 'Kristen Johnston', 'Heiner Lauterbach', 'David Keith', 'Marcel IureÈ™', 'John Ales', 'Emily Procter', 'Julian Rhind-Tutt', 'Kristen Schaal', 'Roma Downey', 'Jeffrey DeMunn', 'Paz Vega', 'Nick Searcy', 'Margot Robbie', 'Yaya DaCosta', 'Ryan Hurst', 'Martin Short', 'Dina Spybey-Waters', 'Rutger Hauer', 'Peter Fonda', 'Erik Per Sullivan', 'Jayma Mays', 'Marley Shelton', 'Vanessa Hudgens', 'Ryan Dunn', 'Jill Scott', 'Natasha Henstridge', 'John Corbett', 'David Dorfman', 'Dan Byrd', 'Chandra West', 'Wentworth Miller', 'Willem Dafoe', 'Abbie Cornish', 'Douglas Smith', 'LL Cool J', 'Fana Mokoena', 'Leven Rambin', \"Colin O'Donoghue\", 'Elizabeth Hurley', 'Mary McCormack', 'Riaad Moosa', 'Charlie Hunnam', 'Jaden Smith', 'Philip Baker Hall', 'Skeet Ulrich', 'Nick Chinlund', 'Stephen Spinella', 'Mark Walton', 'Sterling Jerins', 'Crista Flanagan', 'FranÃ§ois Civil', 'Katie Featherston', 'Dalia HernÃ¡ndez', 'Christa Nicola', \"Chris O'Donnell\", \"Catherine O'Hara\", 'Larry the Cable Guy', 'MÃ\\xada Maestro', 'Campbell Scott', 'Shohreh Aghdashloo', 'Stephen Merchant', 'Ben Mendelsohn', 'Kip Pardue', 'Stanley Tucci', 'Linda Emond', 'Angela Bassett', 'Barry Pepper', 'Paul McGann', 'Cara Seymour', 'Nona Gaye', 'Maximilian Dirr', 'Marsha Thomason', 'Peter Sallis', 'Sandra Oh', 'Miriam Margolyes', 'Alfie Allen', 'Christopher Plummer', 'Sam Lerner', 'Alec Mapa', 'Takamasa Ishihara', 'Charlotte Gainsbourg', 'Garry Marshall', 'Rachel Nichols', 'Wendi McLendon-Covey', 'Keke Palmer', 'Nat Wolff', 'Scott Hazell', 'Adam Brody', \"Ed O'Neill\", 'Chris Coppola', 'Steve Valentine', 'Jason Alexander', 'Mireille Enos', 'Dennis Quaid', 'Essie Davis', 'Derek Jacobi', 'Mark Rolston', 'Robert Sean Leonard', 'Usher Raymond', 'Chris Penn', 'Allison Miller', 'Johanna Braddy', 'Kevin Corrigan', 'Anna Camp', 'TomÃ¡s MiliÃ¡n', 'S. Epatha Merkerson', 'Mo Zinal', 'Ben Feldman', 'Reynaldo Gallegos', 'John Alderton', 'Taylor Kinney', 'Matthew Walker', 'Roscoe Lee Browne', 'Stacey Dash', 'Rosanna Arquette', 'Rachael Taylor', 'Kit Harington', 'Phyllida Law', 'Jenna Elfman', 'Regina Hall', 'Noah Schnapp', 'Scott Glenn', 'Efren Ramirez', 'Rumer Willis', 'Max Lewis', 'HÃ©ctor Elizondo', 'Jeffrey Garcia', 'Randhir Kapoor', 'Sean Combs', 'Bryan Greenberg', 'Melissa George', 'Mischa Barton', 'Taye Diggs', 'Ahmad Khan Mahmoodzada', 'Leonard Roberts', 'Mel Brooks', 'Eduardo Noriega', 'Marguerite Moreau', 'Willie Nelson', 'Kyle Chandler', 'Ryan Guzman', 'Giancarlo Giannini', 'Nikki Reed', 'Justine Waddell', 'Rose Abdoo', 'Griffin Gluck', 'Hank Azaria', 'Ellia English', 'Jason Bateman', 'Jay Chou', 'Alison Brie', 'Luke Pasqualino', 'Gary Oldman', 'Luke Bracey', 'Clifton Collins, Jr.', 'James Cromwell', 'Adam Levine', 'Zach Galifianakis', 'Eric Mabius', 'Dan Yeager', 'David Schwimmer', 'Jason Momoa', 'Brady Corbet', 'Rinko Kikuchi', 'Tika Sumpter', 'Martin Freeman', 'Johnathon Schaech', 'Thomas Horn', 'Dane Cook', 'Keegan Connor Tracy', 'Michael Douglas', 'John Finn', 'Freddie Highmore', 'Rob Schneider', 'Ninja', 'Sam Claflin', 'Chevy Chase', 'Maia Morgenstern', 'Pete Postlethwaite', 'Marlon Brando', 'Scott Caan', 'Brian Haley', 'Yvonne Strahovski', 'Aleksa Palladino', 'Jon Bon Jovi', 'Doug Hutchison', 'Rami Malek', 'Denzel Washington', 'Kristin Davis', 'Lucy Liu', 'Lea Michele', 'Evan Rachel Wood', 'David Cronenberg', 'Steve Burton', 'Robert Forster', 'Chris Kattan', 'Alexandra Daddario', 'Kate Walsh', 'Isabelle Fuhrman', 'Dakota Johnson', 'Robert Redford', 'Paul Brannigan', 'Alan Rickman', 'Bill Paxton', 'Justin Michael Brandt', 'Mike White', 'Steve Harris', 'Rosemarie DeWitt', 'Nikolaj Coster-Waldau', 'Idina Menzel', 'Hiroyuki Sanada', 'Augustus Prew', 'Sharman Joshi', 'Robin Walsh', 'Frances McDormand', 'Santino Fontana', 'Geno Silva', 'Marylouise Burke', 'Randall Duk Kim', 'Michael Bunin', 'Saul Rubinek', 'Allison Cratchley', 'Teri Hatcher', 'Richard Armitage', 'Robert Pattinson', 'Armand Assante', 'Blake Woodruff', 'Emmy Rossum', 'Meredith Droeger', 'Mackenzie Gray', 'Emi Ikehata', 'Sebastian Stan', 'Elle Fanning', 'Dev Patel', 'Mary Stockley', 'Sari Lennick', 'Corey Burton', 'Portia Doubleday', 'Randy Couture', 'Patton Oswalt', 'Stephen Boss', 'Megan Fox', 'David Cross', 'Jeremy Davies', 'Missi Pyle', 'Robert Patrick', 'Shahkrit Yamnarm', 'Mike Vogel', 'Beau Bridges', 'Luke Grimes', 'Frank Collison', 'Julianne Moore', 'Rachel Griffiths', 'Anna Kendrick', 'Ray Liotta', 'Jim Belushi', 'Brad Pitt', 'Ben Levin', 'Kenneth Branagh', 'Jason Biggs', 'Bam Margera', 'Caroline Chikezie', 'Emily Mortimer', 'Wood Harris', 'Richard Jenkins', 'Josh Brolin', 'David Harbour', 'Jae Head', 'Patricia Heaton', 'Harvey Keitel', 'Fernanda Dorogi', 'Pamela Anderson', 'Karen Gillan', \"Kevin J. O'Connor\", 'Daniel Tay', 'Josh Hutcherson', 'Robert Schwartzman', 'Charlotte Rampling', 'Ellen Page', 'Wendie Malick', 'Bahar Soomekh', 'Kate Winslet', 'Richard Portnow', 'Devon Aoki', 'Bojana NovakoviÄ‡', 'Delroy Lindo', 'Simone Spinazze', 'Brandon Henschel', 'Emma Rigby', 'Justin Guarini ', 'Laura Regan', 'Chrysta Olson', 'Kevin McNally', 'Stefanie Scott', 'Bruno Campos', 'Vinessa Shaw', 'Simon Chandler', 'John Krasinski', 'Aman Johal', 'Affion Crockett', 'Mark Boone Junior', 'Christopher Kovaleski', 'Kelsey Grammer', 'Diogo Morgado', 'Tom Wilkinson', 'Michael Wincott', 'Tammy Blanchard', 'Chris Tucker', 'Adam Goldberg', 'Lee Asquith-Coe', 'Rachael Markarian', 'Nia Long', 'Willow Smith', 'Charles Malik Whitfield', 'Shane Baumel', 'Catherine Bell', 'Benjamin Walker', 'Maggie Q', 'Ray Wise', 'Rila Fukushima', 'Justin Whalin', 'Eve', 'Ken Kirzinger', 'Paul Wilson', 'Shalom Harlow', 'Mary Gibbs', 'James Garner', 'Janette Scott', 'James Caan', 'Michelle Dockery', 'Hill Harper', 'Jill Talley', 'Lewis Fitz-Gerald', 'Ian McShane', 'Mitchel Musso', 'Kathy Bates', 'Harris Yulin', 'Bruce Davison', 'Michael Jeter', 'Jeremy Howard', 'Skylar Astin', 'Jennifer Saunders', 'David Atrakchi', 'Ne-Yo', 'Staffan Kihlbom', 'Jesse Metcalfe', 'Austin Crim', 'Lewis Black', 'Jesse Spencer', 'Sophie Kennedy Clark', 'Christina Milian', 'Shawnee Smith', 'Ken Stott', 'Ali Larter', 'Cuba Gooding Jr.', 'Kou Shibasaki', 'Tiger Hu Chen', 'Loren Dean', 'William Atherton', 'Catherine Keener', 'Rachel Blanchard', 'Patrick Mofokeng', 'Carlos Pratts', 'Matthew Lillard', \"Jaran 'See Tao' Petcharoen\", 'Thomas Ian Nicholas', 'Nadia Townsend', 'Lars Ulrich', 'Willie Garson', 'Josh Hartnett', 'John Boyega', 'Julie Christie', 'Ryan Newman', 'Barbra Streisand', 'Philip Quast', 'Michael Irby', 'Fredro Starr', 'Jon Abrahams', 'Donnie Wahlberg', 'David McCullough', 'Garrett Hedlund', 'Dany Verissimo-Petit', 'Michelle Horn', 'Jeremy Sheffield', 'Jane Levy', 'Bryan Brown', 'Harish Patel', 'RubÃ©n Blades', 'Marla Sokoloff', 'Mark Addy', 'Jason Lee', 'Peta Wilson', 'Sidney Johnston', 'LeVar Burton', 'Mark DeCarlo', 'Zekeria Ebrahimi', 'Emily Deschanel', 'Neil Brown Jr.', 'Mae Whitman', 'Martin Klebba', 'Roger Barclay', 'Eugenio Derbez', 'Edgar RamÃ\\xadrez', 'Matt Schulze', 'Nathaniel Parker', 'Bruce Boxleitner', 'Adam G. Sevani', 'Tom Berenger', 'Kal Penn', 'Taylor Dooley', 'Jonathan Breck', 'Robert Klein', 'Dax Shepard', 'Seymour Cassel', 'Marlon Wayans', 'Rhona Mitra', 'Gary Cole', 'Mark Margolis', 'Alexander Pollock', 'Mike Cameron', 'Jake Cherry', 'Natalie Dormer', 'Paul Freeman', 'Pierce Brosnan', 'John Cho', 'Troy Garity', 'Kaley Cuoco', 'Joy Bryant', 'Paul Newman', 'Kiele Sanchez', 'Karen Mok', 'Max von Sydow', 'Jon Bernthal', 'David Morrissey', 'Regina King', 'Izabella Miko', 'Victor Gojcaj', 'Colleen Haskell', 'Dennis Hopper', 'Graham McTavish', 'Callum Blue', 'Don Curry', 'Jared Harris', 'Annette Crosbie', 'Jacob Vargas', 'Boman Irani', 'Lynn Collins', 'June Diane Raphael', 'Om Puri', 'Ed Asner', 'Judah Friedlander', 'Kyle Davis', 'Chris Noth', 'Bette Midler', 'Israel Broussard', 'Kaya Scodelario', 'Jordana Spiro', 'Daryl Hannah', 'Tasha de Vasconcelos', 'Gio Perez', 'Sophie Monk', 'Vanessa Williams', 'Morris Chestnut', 'Ronnie James Dio', 'Alison Lohman', 'Shaun Toub', 'Mary-Louise Parker', 'Lauren Hutton', 'Naomie Harris', 'Debi Derryberry', 'Julian McMahon', 'John Pyper-Ferguson', 'Josh Flitter', 'Lisa Bonet', 'Tommy Flanagan', 'Ellen DeGeneres', 'Gena Rowlands', 'Seamus Davey-Fitzpatrick', 'Michael Kenneth Williams', 'Zachary Quinto', 'Michael Arden', 'Greg Siff', 'Ron Silver', 'Nia Vardalos', 'Tim Blake Nelson', 'Chopper Bernet', 'Joel Murray', 'Krista Allen', 'Olivia Wilde', 'Judi Dench', 'Mariah Carey', 'Elle Peterson', 'Jerry Ferrara', 'Sacha Baron Cohen', 'Scott Porter', 'Nicholas Smith', 'Vincent Regan', 'Andrew Garfield', 'Sid Haig', 'Claire Julien', 'Lou Diamond Phillips', 'Colin Firth', 'Winona Ryder', 'James Bentley', 'Tao Okamoto', 'Carla Gugino', 'Lauren Ambrose', 'Eric Winter', 'Eugene Hutz', 'RenÃ©e Taylor', 'Luca Calvani', 'Kelly Reilly', 'JoBeth Williams', 'Sam Worthington', 'Rob Riggle', 'Michelle Williams', 'Rodger Bumpass', 'Ken Watanabe', 'Mark Critch', 'Yuliya Snigir', 'Fausto Callegarini', 'Margaret Avery', 'Tyler Posey', 'Aml Ameen', 'David A.R. White', 'Linda Kozlowski', 'Charlize Theron', 'Casey Affleck', 'Frances Fisher', 'Madison Pettis', 'Christina Aguilera', 'Miley Cyrus', 'Samantha Morton', 'T.R. Knight', 'Hannibal Buress', 'Idris Elba', 'Gabourey Sidibe', 'Michael Moreland', 'Tom Everett Scott', 'Olivia Thirlby', 'Bill Pullman', 'Isaiah Washington', 'Shirley Knight', 'Lou Taylor Pucci', 'Brendan Gleeson', 'Allie Mickelson', 'Chengwu Guo', 'Natascha McElhone', 'French Stewart', 'Jackson Rathbone', 'Kyle Catlett', 'Julie Delpy', 'Hadley Belle Miller', 'Ki Hong Lee', 'ZoÃ« Kravitz', 'Jena Malone', 'Omar Gooding', 'Paul Rae', 'Brie Larson', 'Jorma Taccone', 'Peter Firth', 'KaDee Strickland', 'Marion Lambert', 'David Moscow', 'Shawn Driscoll', 'Romany Malco', 'Peter Stormare', 'Jamie Foxx', 'Sullivan Stapleton', 'Andrew Hampton', 'Tyler Craig', 'Alexis Dziena', 'Gregg Henry', 'Damian Lewis', 'Colin Farrell', 'Wanda Sykes', 'Geoffrey Arend', 'David Tennant', 'Marion Cotillard', 'David Costabile', 'Danny McBride', 'Ben Whishaw', 'Judith Scott', 'Juno Temple', 'Opal Alladin', 'Kate Mara', 'Colin Salmon', 'Evangeline Lilly', 'Blake Lively', 'Olympia Dukakis', 'Colin Quinn', 'Armin Mueller-Stahl', 'Jeremy Irvine', 'Eva Marie Saint', 'Angelina Jolie', 'Travis Van Winkle', 'Julianna Guill', 'Will Kemp', 'Tatjana PajkoviÄ‡', 'Birgit Minichmayr', 'Lorraine Nicholson', 'Rip Torn', 'Leah Remini', 'Makenzie Vega', 'Will Arnett', 'Anthony Stewart Head', 'Ben Burtt', 'BjÃ¶rk', 'Margarita Levieva', 'Gugu Mbatha-Raw', 'Richard E. Grant', 'Sarah Paulson', 'Paul Herman', 'TÃ©a Leoni', 'Aaron Stanford', 'Ken Davitian', 'Steve Carell', 'Jason Dohring', 'Kellan Lutz', 'Kris Kristofferson', 'Jane Fonda', 'Guy Torry', 'Brady Bluhm', 'Michael T. Weiss', 'Ivy George', 'David Calder', 'Maury Chaykin', 'GQ', 'Kim Cattrall', 'BeyoncÃ© Knowles', 'Sage Ryan', 'Liam Aiken', 'Isla Fisher', 'Vince Vaughn', 'Natalie Martinez', 'Chris Pontius', 'Tatum Etheridge', 'Connor Funk', 'Famke Janssen', 'Jason Schwartzman', 'Thierry Neuvic', 'Sharon Leal', 'Samantha Mumba', 'Nick Frost', 'Imelda Staunton', 'Yu Rong-Guang', 'Lara Flynn Boyle', 'Marg Helgenberger', 'Eugene Levy', 'Ann Miller', 'Derek Luke', 'Tom Kenny', 'Brenda Blethyn', 'Roselyn SÃ¡nchez', 'Sarah Gadon', 'Dustin Milligan', 'Robert Knepper', 'Moon Bloodgood', 'Angell Conwell', 'Christian Bale', 'Philip Winchester', 'Ryan Potter', 'Nicholas Hoult', 'Alex Veadov', 'Ryan Cartwright', 'Jacob Pitts', 'Raini Rodriguez', 'Jamie Campbell Bower', 'Trevor Morgan', 'Rachel Bilson', 'Eddie Cibrian', 'Liana Liberato', 'Marisa Tomei', 'Jonathan Groff', 'Steven R. McQueen', 'Milo Ventimiglia', 'Nick Offerman', 'Kathy Baker', 'Stella Maeve', 'Lori Heuring', 'Julianne Hough', 'Shawn Hatosy', 'Jean-Marie Lamour', 'Darwin Shaw', 'Deborah Kara Unger', \"Vincent D'Onofrio\", 'Tadanobu Asano', 'Burt Young', 'Deborra-Lee Furness', 'Lily James', 'Jonas Armstrong', 'Chris Carmack', 'Emily Barclay', 'Harriet Owen', 'Malcolm McDowell', 'Max Casella', 'Naomi Watts', 'Jeffrey Tambor', 'Jennifer Connelly', 'Rachel Weisz', 'Judd Hirsch', 'Martin Donovan', 'Hanyu Zhang', 'Alice Evans', 'Cameron Diaz', 'Jeremy Sumpter', 'Alicia Witt', 'Eric Dane', 'Christina Cox', 'Daniel Studi', 'Uday Chopra', 'Dana Ivey', 'Riz Ahmed', 'Rebecca De Mornay', 'Louise Delamere', 'Matthew Willig', 'Aditya Roy Kapoor', 'Louis C.K.', 'Richard T. Jones', 'Tessa Allen', 'Polly Adams', 'Taylor Kitsch', 'Laurence Fishburne', 'Kim Dickens', 'Kevin Heffernan', 'Donald Faison', 'Sarah Dubrovsky', 'Haley Joel Osment', 'Minka Kelly', 'Elisabeth Shue', 'Kiefer Sutherland', 'Lisa Ryder', 'David Burrows', 'Isaac Hempstead Wright', 'Eriq La Salle', 'Ashton Kutcher', 'Geoffrey Rush', 'Michael Eklund', 'Megan Boone', 'Stellan SkarsgÃ¥rd', 'Teddy Geiger', 'Toby Kebbell', 'C. Thomas Howell', 'Melissa Sagemiller', 'Robin Tunney', 'Claire Forlani', 'Orto Ignatiussen', 'Tory Kittles', 'Kim Staunton', 'Zena Grey', 'Mark Harmon', 'Tim Curry', 'Anthony Edwards', 'John Hannah', 'Brooke Smith', 'Frances de la Tour', 'Noah Huntley', 'Jacob Tremblay', 'R. H. Thomson', 'MaÃ¯ Anh Le', 'Blythe Danner', 'Aunjanue Ellis', 'Charlotte Le Bon', 'Melora Walters', 'Wang Baoqiang', 'Rachel Melvin', 'Nonso Anozie', 'Richard Dreyfuss', 'James Gandolfini', 'Richard Briers', 'John Cleese', 'Carrie Coon', 'Neal McDonough', 'Glenn Morshower', 'Ralph Fiennes', 'Kevin Dillon', 'Alan Cumming', 'Henry Simmons', 'Vanessa Bayer', 'Seth Meyers', 'Maggie Elizabeth Jones', 'Jenna Dewan', 'Will Ferrell', 'Liam Hemsworth', 'Bill Nighy', 'Raoul Bova', 'John Cothran, Jr.', 'Claire Danes', 'James Rebhorn', 'Max Baldry', 'Michelle Monaghan', 'John Malkovich', 'Mini Anden', 'Faith Ford', 'Mimi Rogers', 'Amy Irving', 'Peter Outerbridge', 'ZoÃ« Borde', 'Unax Ugalde', 'Helen Mirren', 'Laurie Holden', 'Michelle Pfeiffer', 'Horatio Sanz', 'Elijah Cummings', 'Leslie Stefanson', 'Nick Swardson', 'Jeremy Northam', 'Kristen Wilson', 'A.J. Cook', 'John Michael Higgins', 'Amber Tamblyn', 'Milla Jovovich', 'Kieran Culkin', 'Sigourney Weaver', 'Will Sasso', 'Charles Edwards', 'Matthew Macfadyen', 'Jordana Brewster', 'Ashton Holmes', 'Martin Lawrence', 'Zaid Farid', 'Kevin Chamberlin', 'Peter Facinelli', 'Kirby Bliss Blanton', 'Alexz Johnson', 'Hugo Weaving', 'Tania Raymonde', 'KryÅ¡tof HÃ¡dek', 'Zoe Kazan', 'Richard Kind', 'Tom Hanks', 'Leehom Wang', 'James Ransone', 'Bella Thorne', 'Holt McCallany', 'Kristin Kreuk', \"Frances O'Connor\", 'Walter Matthau', 'Helena Bonham Carter', 'Chace Crawford', 'Nathan Lane', 'Raymond Ochoa', 'Harold Perrineau', 'Dwayne Johnson', 'Michael Zegen', 'Alessandro Gassman', 'Dean Winters', 'Chris Riggi', 'Donal Logue', 'David Andrews', 'Louise Lombard', 'Sarah Wynter', 'Norman Reedus', 'Daisy Ridley', 'Miles Fisher', 'Ray Stevenson', 'Nathalie Kelley', 'David Carradine', 'Michael PeÃ±a', 'Michael Rooker', 'Terence Stamp', 'Jonny Lee Miller', 'Tom McGrath', 'John Forsythe', 'Tara Reid', 'Colin Stinton', 'Tobey Maguire', 'Freida Pinto', 'Robert Fyfe', 'Kevin Costner', 'Paul Schneider', 'John Benjamin Hickey', 'Thekla Reuten', 'Shelbie Bruce', 'Josh Wiggins', 'Geena Davis', 'DragoÈ™ Bucur', 'Alexa PenaVega', 'Elias Koteas', 'Diora Baird', 'John Ratzenberger', 'Ruth Wilson', 'Chris Hemsworth', 'Ken Marschall', 'Julio Oscar Mechoso', 'Matt Walsh', 'Francesco De Vito', 'Jonah Hill', 'Joel Grey', 'Logan Marshall-Green', 'Devon Bostick', 'Robert Loggia', 'Seann William Scott', 'Michael J. Fox', 'Romola Garai', 'Billy Boyd', 'Maleah Nipay-Padilla', 'Rose Byrne', 'Hugh Grant', 'SofÃ\\xada Vergara', 'Heather Graham', 'Linh Äan Pháº¡m', 'Jamie Lee Curtis', 'Mario Van Peebles', 'Marton Csokas', 'Connie Nielsen', 'Spike Jonze', 'Max Thieriot', 'Chi McBride', 'Craig Robinson', 'Austin Butler', 'Boris Leskin', 'Gaia Weiss', 'Will Forte', 'Chloe Csengery', 'Ludacris', 'Tony Revolori', 'Pat Healy', 'Adam David Thompson', 'Ryo Kase', 'Greg Bryk', 'Sarah Jane Morris', 'Richard Burgi', 'Christian Slater', 'Harrison Ford', 'Al Pacino', 'Nicholas Braun', 'Jake Gyllenhaal', 'Jake Abel', 'Christopher Mintz-Plasse', 'Eddie Izzard', 'Common', \"Jack O'Connell\", 'Carol Burnett', 'J.J. Johnson', 'Laura Harring', 'Hal Holbrook', 'Aubrey Peeples', 'Amber Rose Revah', 'Jay Hernandez', 'Dillon Freasier', 'Samaire Armstrong', 'Lolita Davidovich', 'John Turturro', 'Richmond Arquette', 'Michael Madsen', 'Kevin McDonald', 'Blayne Weaver', 'Seth Rogen', 'Deng Chao', 'Megan Park', 'Mark Wahlberg', 'Toni Collette', 'Melanie Lynskey', 'Salli Richardson-Whitfield', 'Leonard Nimoy', 'Maria Smolnikova', 'AndrÃ© Benjamin', 'Chris Klein', 'Sasha Barrese', 'Trey Parker', 'Chris Mulkey', 'Hugh Keays-Byrne', 'Shu Qi', 'Jacob Lofland', 'Frank C. Turner', 'Akshay Kumar', 'Emile Hirsch', 'Jeff Anderson', 'Patrick Stewart', 'Yul Vazquez', 'Omar Benson Miller', 'Kevin Bacon', 'Joel Garland', 'Aaron Taylor-Johnson', 'Michael C. Hall', 'Andrea Riseborough', 'Jessica Lange', 'Bill Hader', 'Lin Shaye', 'Bill Burr', 'Robert Taylor', 'Thomas Kretschmann', 'Manish Dayal', 'Devon Gearhart', 'Ron Livingston', \"Tony D'Amario\", 'Amanda Righetti', 'William Hurt', 'Eminem', 'Jennifer Tilly', 'Anthony Hayes', 'Jennifer Lopez', 'Jake Weber', 'Sylvia Syms', 'Justin Pierce', 'Dawn French', 'Bradley Dodds', 'Sebastian Koch', 'Mia Drake Inderbitzin', 'Susan Ward', 'Alice Eve', 'Jessica Bowman', 'Dallas Roberts', 'TchÃ©ky Karyo', 'Steven Strait', 'Scout Taylor-Compton', 'Luis Tosar', 'J.R. Villarreal', 'Ethan Embry', 'Michael Clarke Duncan', 'Tyler Mane', 'Misha Gabriel', 'Mehmet Ferda', 'Cherry Jones', 'Emilia Clarke', 'Laura Kirk', 'Ben Stiller', 'Sarah Jessica Parker', 'Ellen Pompeo', 'Adam Beach', 'Alan Tudyk', 'Taran Killam', 'Elijah Wood', 'Scarlett Johansson', 'ChloÃ« Grace Moretz', 'Will Rothhaar', 'Antony Starr', 'Bobby Campo', 'Matt Jones', 'Natasha Calis', 'Kevin James', 'Sam Anderson', 'Shari Headley', 'Joseph Ruskin', 'Dondre Whitfield', 'Brennan Brown', 'Greta Gerwig', 'Barbara Flynn', 'Brent Spiner', 'Kate Burton', 'Michael Gambon', 'Caitlin Stasey', 'Josh Charles', 'Elizabeth Debicki', 'Dan Stevens', 'Cat Power', 'Musetta Vander', 'Hannah Spearritt', 'Brendan Fraser', 'Amy Smart', 'Scott Adsit', 'Alex Rocco', 'Nora Dunn', 'Daryl Sabara', 'Lambert Wilson', 'Sam Robards', 'Ben Barnes', 'Betty Buckley', 'Sharon Stone', 'Li Bingbing', 'Natasha Richardson', 'James Newman', 'Cher', 'Gwen Taylor', 'Tina Fey', 'Keanu Reeves', 'Wanda De Jesus', 'Haley Webb', 'Christopher Guest', 'Rebel Wilson', 'Sean Kingston', 'Spencer Garrett', 'Alan Dale', 'Dougray Scott', 'Helen Hunt', 'Emjay Anthony', 'ZoÃ« Bell', 'Barkhad Abdi', 'Wilfried Hochholdinger', 'Gabrielle Union', 'Jonathan Safran Foer', 'Venus Schultheis', 'Andrew Howard', 'Will Yun Lee', 'Sofia Vassilieva', \"De'Shawn Washington\", 'Guy Pearce', 'Tracee Ellis Ross', 'Margo Martindale', 'Kacey Barnfield', 'Oaklee Pendergast', 'Luke Ford', 'Brandon T. Jackson', 'Sylvia Hoeks', 'Lauren Holly', 'Monica Bellucci', 'Daniel Henney', 'Georgie Henley', 'Laurence Fox', 'Eli Roth', 'Elizabeth Mkandawie', 'Lincoln Lewis', 'James Carpinello', 'Tyler Steelman', 'Lauren Frandsen', 'Jonathan Banks', 'Scott Mechlowicz', 'Jonathan Daniel Brown', 'Enzo Cilenti', 'Dianna Agron', 'Natalie Imbruglia', 'BÃ©rÃ©nice Bejo', 'Katherine Heigl', 'Zineb Oukach', 'Alexander Nathan Etel', 'James Purefoy', 'Josh Peck', 'Brit Marling', 'Tye Sheridan', 'Don Johnson', 'Marianne Jean-Baptiste', 'Judy Greer', 'Bee Vang', 'Josh Pence', \"BrÃ\\xadan F. O'Byrne\", 'Cliff Robertson', 'Jaime King', 'Maggie Gyllenhaal', 'Jenna Stern', 'Busta Rhymes', 'Tom Cavanagh', 'Ty Burrell', 'Stephen McHattie', 'Scott Patterson', 'Christine Baranski', 'Rob Reiner', 'Pamela Gidley', 'Tom Sturridge', 'Matthew Marsden', 'Sprague Grayden', 'Cory Hardrict', 'Jodie Whittaker', 'Harry Treadaway', 'Sarah Roemer', 'Brian Cox', 'Ryan Reynolds', 'Matthew Davis', 'Bill Duke', 'Frank Grillo', 'Shiloh Fernandez', 'Elise Neal', \"Keir O'Donnell\", 'Michael Constantine', 'Adelaide Clemens', 'Minnie Driver', 'Domhnall Gleeson', 'Mathieu Amalric']\n",
        "#Создадим пустой словарь для записей данных о длине списка фильмов с каждым актёром\n",
        "cast = {}\n",
        "#Для каждого имени в списке считаем, сколько строк с фильмами есть в таблице\n",
        "for name in cast_list:\n",
        "    data9 = data8.copy()\n",
        "    data9 = data9[data9.cast.str.contains(name, na=False)]\n",
        "    cast[name] = len(data9)\n",
        "#Создадим таблицу с результатами наших расчётов:\n",
        "cast_df = pd.DataFrame(cast, index=['count'])\n",
        "#Находим того, кто имеет самое большое значение:\n",
        "cast_df.T.sort_values(by=['count']).tail(1)"
      ],
      "execution_count": null,
      "outputs": [
        {
          "output_type": "execute_result",
          "data": {
            "text/html": [
              "<div>\n",
              "<style scoped>\n",
              "    .dataframe tbody tr th:only-of-type {\n",
              "        vertical-align: middle;\n",
              "    }\n",
              "\n",
              "    .dataframe tbody tr th {\n",
              "        vertical-align: top;\n",
              "    }\n",
              "\n",
              "    .dataframe thead th {\n",
              "        text-align: right;\n",
              "    }\n",
              "</style>\n",
              "<table border=\"1\" class=\"dataframe\">\n",
              "  <thead>\n",
              "    <tr style=\"text-align: right;\">\n",
              "      <th></th>\n",
              "      <th>count</th>\n",
              "    </tr>\n",
              "  </thead>\n",
              "  <tbody>\n",
              "    <tr>\n",
              "      <th>Matt Damon</th>\n",
              "      <td>18</td>\n",
              "    </tr>\n",
              "  </tbody>\n",
              "</table>\n",
              "</div>"
            ],
            "text/plain": [
              "            count\n",
              "Matt Damon     18"
            ]
          },
          "metadata": {
            "tags": []
          },
          "execution_count": 20
        }
      ]
    },
    {
      "cell_type": "code",
      "metadata": {
        "colab": {
          "base_uri": "https://localhost:8080/"
        },
        "id": "94ofPqSFOVQK",
        "outputId": "69341b6d-b5ac-4cfc-8549-50b2d44e373e"
      },
      "source": [
        "#Находим высокобюджетные фильмы\n",
        "data43 = data.copy()\n",
        "data43 = data43[data43['budget'] > data43['budget'].mean()]\n",
        "#Теперь разбиваем строку в список имён, а список имён разбиваем на отдельные ячейки\n",
        "data43['cast'] = data43['cast'].str.split('|')\n",
        "data43 = data43.explode('cast')\n",
        "#Группируем таблицу по именам актёров и считаем, сколько уникальных фильмов соответсвует каждому актёру\n",
        "data43.groupby(['cast'])['imdb_id'].nunique().sort_values().tail(1)"
      ],
      "execution_count": null,
      "outputs": [
        {
          "output_type": "execute_result",
          "data": {
            "text/plain": [
              "cast\n",
              "Matt Damon    18\n",
              "Name: imdb_id, dtype: int64"
            ]
          },
          "metadata": {
            "tags": []
          },
          "execution_count": 66
        }
      ]
    },
    {
      "cell_type": "code",
      "metadata": {
        "id": "BD22c-7OqzRg"
      },
      "source": [
        "answers['16'] = 'Matt Damon'#+"
      ],
      "execution_count": 49,
      "outputs": []
    },
    {
      "cell_type": "markdown",
      "metadata": {
        "id": "NIh6AaW5Vp_n"
      },
      "source": [
        "# 17. В фильмах какого жанра больше всего снимался Nicolas Cage? "
      ]
    },
    {
      "cell_type": "code",
      "metadata": {
        "id": "H74SJDIBVp_n",
        "colab": {
          "base_uri": "https://localhost:8080/"
        },
        "outputId": "3c60ab7c-c874-4178-ad59-86790137d8af"
      },
      "source": [
        "#Разобьём строку с жанрами на список\n",
        "data10 = data.copy()\n",
        "data10['genres'] = data10['genres'].str.split('|')\n",
        "#Отфильтруем те записи, в которых есть нужный актёр:\n",
        "data10 = data10[data10.cast.str.contains('Nicolas Cage')]\n",
        "#Создадим пустой список для жанров:\n",
        "Cage_list = []\n",
        "#Используем созданную ранее (в предобработке) функцию для генерации списка всех жанров фильмов, где снимался Николас Кейдж:\n",
        "for list in data10['genres']:\n",
        "    list_creator(list, Cage_list)\n",
        "#Находим жанр, который встречается наиболее часто:\n",
        "Counter(Cage_list).most_common(1)"
      ],
      "execution_count": null,
      "outputs": [
        {
          "output_type": "execute_result",
          "data": {
            "text/plain": [
              "[('Action', 17)]"
            ]
          },
          "metadata": {
            "tags": []
          },
          "execution_count": 27
        }
      ]
    },
    {
      "cell_type": "code",
      "metadata": {
        "id": "UOWHvwB9tnK8"
      },
      "source": [
        "answers['17'] = 'Action'#+"
      ],
      "execution_count": 50,
      "outputs": []
    },
    {
      "cell_type": "markdown",
      "metadata": {
        "id": "RqOmPRfWVp_q"
      },
      "source": [
        "# 18. Самый убыточный фильм от Paramount Pictures"
      ]
    },
    {
      "cell_type": "code",
      "metadata": {
        "id": "9E_B0Y96Vp_r",
        "colab": {
          "base_uri": "https://localhost:8080/"
        },
        "outputId": "b3b50b23-831d-4235-abf2-029534ce1262"
      },
      "source": [
        "data11 = data.copy()\n",
        "#Оставляем в таблице только те записи, которые содержат 'Paramount Pictures' в списке производителей\n",
        "data11 = data11[data11.production_companies.str.contains('Paramount Pictures')]\n",
        "#Сортируем полученную табличку по размеру прибыли. Т.к. сортировка идёт от меньшего к большему, фильм с самой маленькой прибылью окажется наверху.\n",
        "data11.sort_values(by=['profit'])['original_title'].head(1)"
      ],
      "execution_count": null,
      "outputs": [
        {
          "output_type": "execute_result",
          "data": {
            "text/plain": [
              "925    K-19: The Widowmaker\n",
              "Name: original_title, dtype: object"
            ]
          },
          "metadata": {
            "tags": []
          },
          "execution_count": 68
        }
      ]
    },
    {
      "cell_type": "code",
      "metadata": {
        "id": "0aRCWkYkutja"
      },
      "source": [
        "answers['18'] = 'K-19: The Widowmaker'#+"
      ],
      "execution_count": 51,
      "outputs": []
    },
    {
      "cell_type": "markdown",
      "metadata": {
        "id": "vS8Ur6ddVp_u"
      },
      "source": [
        "# 19. Какой год стал самым успешным по суммарным кассовым сборам?"
      ]
    },
    {
      "cell_type": "code",
      "metadata": {
        "id": "Dnbt4GdIVp_v",
        "colab": {
          "base_uri": "https://localhost:8080/"
        },
        "outputId": "6e0ea013-516d-4384-b1eb-3a092272a962"
      },
      "source": [
        "#Группируем таблицу по году выпуска фильма\n",
        "data12 = data.groupby(['release_year'])\n",
        "#Теперь суммируем сборы для каждого года и сортируем их. Т.к. сортировка по умолчанию идёт в порядке возрастания, ответ находится в последней записи\n",
        "data12['revenue'].sum().sort_values().tail(1)"
      ],
      "execution_count": null,
      "outputs": [
        {
          "output_type": "execute_result",
          "data": {
            "text/plain": [
              "release_year\n",
              "2015    25449202382\n",
              "Name: revenue, dtype: int64"
            ]
          },
          "metadata": {
            "tags": []
          },
          "execution_count": 36
        }
      ]
    },
    {
      "cell_type": "code",
      "metadata": {
        "id": "KG5Xz0C0wSku"
      },
      "source": [
        "answers['19'] = '2015'#+"
      ],
      "execution_count": 52,
      "outputs": []
    },
    {
      "cell_type": "markdown",
      "metadata": {
        "id": "JAzJh4QAVp_z"
      },
      "source": [
        "# 20. Какой самый прибыльный год для студии Warner Bros?"
      ]
    },
    {
      "cell_type": "code",
      "metadata": {
        "id": "wgVu02DEVp_0",
        "colab": {
          "base_uri": "https://localhost:8080/"
        },
        "outputId": "2ae497c8-ddde-48cd-d656-5ea779b7afb9"
      },
      "source": [
        "data13 = data.copy()\n",
        "#Отфильтровываем таблицу так, чтобы остались только записи фильмов, которые снимали Warner Bros\n",
        "data13 = data13[data13.production_companies.str.contains('Warner Bros')]\n",
        "#Группируем по году выпуска\n",
        "data14 = data13.groupby(['release_year'])\n",
        "#Суммируем для каждого года доход и сортируем его\n",
        "data14['profit'].sum().sort_values().tail(1)"
      ],
      "execution_count": null,
      "outputs": [
        {
          "output_type": "execute_result",
          "data": {
            "text/plain": [
              "release_year\n",
              "2014    2295464519\n",
              "Name: profit, dtype: int64"
            ]
          },
          "metadata": {
            "tags": []
          },
          "execution_count": 37
        }
      ]
    },
    {
      "cell_type": "code",
      "metadata": {
        "id": "5A0Xqx8iwzGF"
      },
      "source": [
        "answers['20'] = '2014'#+"
      ],
      "execution_count": 53,
      "outputs": []
    },
    {
      "cell_type": "markdown",
      "metadata": {
        "id": "8Im1S2HRVp_4"
      },
      "source": [
        "# 21. В каком месяце за все годы суммарно вышло больше всего фильмов?"
      ]
    },
    {
      "cell_type": "code",
      "metadata": {
        "id": "lev6TH7gVp_4",
        "colab": {
          "base_uri": "https://localhost:8080/"
        },
        "outputId": "67c0f336-c719-41a7-cef5-d48e260e6969"
      },
      "source": [
        "data15 = data.copy()\n",
        "#Разбиваем строку с записью даты на список\n",
        "data15['release_date'] = data15['release_date'].str.split('/')\n",
        "#Нас интересует только первый элемент списка - он несёт информацию о месяце. Смотрим, какой месяц встречается в записях чаще всего\n",
        "data15['release_date'].apply(pd.Series)[0]\n",
        "Counter(data15['release_date'].apply(pd.Series)[0]).most_common(1)"
      ],
      "execution_count": null,
      "outputs": [
        {
          "output_type": "execute_result",
          "data": {
            "text/plain": [
              "[('9', 227)]"
            ]
          },
          "metadata": {
            "tags": []
          },
          "execution_count": 46
        }
      ]
    },
    {
      "cell_type": "code",
      "metadata": {
        "id": "t9ixaac250Wy"
      },
      "source": [
        "answers['21'] = '9'#+"
      ],
      "execution_count": 54,
      "outputs": []
    },
    {
      "cell_type": "markdown",
      "metadata": {
        "id": "uAJsZ_NeVp_7"
      },
      "source": [
        "# 22. Сколько суммарно вышло фильмов летом? (за июнь, июль, август)"
      ]
    },
    {
      "cell_type": "code",
      "metadata": {
        "id": "Aa-hEREoVp_8",
        "colab": {
          "base_uri": "https://localhost:8080/"
        },
        "outputId": "975b637d-5aeb-4fe7-9a31-4816c5296511"
      },
      "source": [
        "data16 = data.copy()\n",
        "#Разбиваем дату на список, создаём Series\n",
        "data16['release_date'] = data16['release_date'].str.split('/')\n",
        "data16['release_date'].apply(pd.Series)\n",
        "#Группируем по первому элементу Series (это месяц):\n",
        "data17 = data16.groupby(data16['release_date'].apply(pd.Series)[0])\n",
        "#Находим количество записей о фильмах для каждого месяца:\n",
        "data18 = data17.size()\n",
        "#Суммируем количество фильмов, вышедших в летние месяцы:\n",
        "summer_sum = data18[8] + data18[9] + data18[10]#индексы не совпадают с номерами месяцев\n",
        "summer_sum"
      ],
      "execution_count": null,
      "outputs": [
        {
          "output_type": "execute_result",
          "data": {
            "text/plain": [
              "450"
            ]
          },
          "metadata": {
            "tags": []
          },
          "execution_count": 22
        }
      ]
    },
    {
      "cell_type": "code",
      "metadata": {
        "id": "S9z9SW1Gaiab"
      },
      "source": [
        "answers['22'] = '450'#+"
      ],
      "execution_count": 55,
      "outputs": []
    },
    {
      "cell_type": "markdown",
      "metadata": {
        "id": "G94ppOY1VqAA"
      },
      "source": [
        "# 23. Для какого режиссера зима – самое продуктивное время года? "
      ]
    },
    {
      "cell_type": "code",
      "metadata": {
        "id": "RhNTsamuVqAB",
        "colab": {
          "base_uri": "https://localhost:8080/"
        },
        "outputId": "a7dc802c-ac38-481e-b459-688bfe6b6593"
      },
      "source": [
        "data44 = data.copy()\n",
        "#Используем созданную во время предобработки колонку \"месяц выпуска\" отберём фильмы, созданные зимой\n",
        "data44 = data44[(data44['release_month'] == '12') | (data44['release_month'] == '1') | (data44['release_month'] == '2')]\n",
        "#Разобьём в список строки с именами режиссёров и выделим каждое имя в отдельную строку:\n",
        "data44['director'] = data44['director'].str.split('|')\n",
        "data44 = data44.explode('director')\n",
        "#Сгруппируем получившуюся таблицу по именами режиссёров и считаем, сколько уникальных идентификаторов фильма есть для каждого.\n",
        "#При сортировке по возрастанию самое большое значение оказывается внизу таблицы:\n",
        "data44.groupby(['director'])['imdb_id'].nunique().sort_values().tail(1)"
      ],
      "execution_count": null,
      "outputs": [
        {
          "output_type": "execute_result",
          "data": {
            "text/plain": [
              "director\n",
              "Peter Jackson    7\n",
              "Name: imdb_id, dtype: int64"
            ]
          },
          "metadata": {
            "tags": []
          },
          "execution_count": 88
        }
      ]
    },
    {
      "cell_type": "code",
      "metadata": {
        "id": "kSJ_Q06NaxY-"
      },
      "source": [
        "answers['23'] = 'Peter Jackson'#+"
      ],
      "execution_count": 56,
      "outputs": []
    },
    {
      "cell_type": "markdown",
      "metadata": {
        "id": "RBo0JVjVVqAF"
      },
      "source": [
        "# 24. Какая студия дает самые длинные названия своим фильмам по количеству символов?"
      ]
    },
    {
      "cell_type": "code",
      "metadata": {
        "id": "QRGS8L0iVqAG",
        "colab": {
          "base_uri": "https://localhost:8080/"
        },
        "outputId": "8caffec9-dcb7-4ddf-d07b-12a38003f3c9"
      },
      "source": [
        "data45 = data.copy()\n",
        "#Разбиваем названия студий и выносим каждое в отдельную строку таблицы:\n",
        "data45['production_companies'] = data45['production_companies'].str.split('|')\n",
        "data45 = data45.explode('production_companies')\n",
        "#Создаём в тыблице столбец с информацией о длине названия:\n",
        "data45['title_len'] = data45['original_title'].str.len()\n",
        "#Группируем таблицу по названием производителя и находим для каждой группы среднее значение длины названия.\n",
        "#Сортируем полученные данные, наибольшее среднее по оказывается внизу.\n",
        "data45.groupby(['production_companies'])['title_len'].mean().sort_values().tail(1)"
      ],
      "execution_count": null,
      "outputs": [
        {
          "output_type": "execute_result",
          "data": {
            "text/plain": [
              "production_companies\n",
              "Four By Two Productions    83.0\n",
              "Name: title_len, dtype: float64"
            ]
          },
          "metadata": {
            "tags": []
          },
          "execution_count": 98
        }
      ]
    },
    {
      "cell_type": "code",
      "metadata": {
        "id": "ECYWSBP9c3RW"
      },
      "source": [
        "answers['24'] = 'Four By Two Productions'#+"
      ],
      "execution_count": 57,
      "outputs": []
    },
    {
      "cell_type": "markdown",
      "metadata": {
        "id": "9G0hbvR7VqAK"
      },
      "source": [
        "# 25. Описание фильмов какой студии в среднем самые длинные по количеству слов?"
      ]
    },
    {
      "cell_type": "code",
      "metadata": {
        "id": "Ge2GsLNxVqAK",
        "colab": {
          "base_uri": "https://localhost:8080/"
        },
        "outputId": "fd069139-a8a5-4147-8568-7ed121944e43"
      },
      "source": [
        "data46 = data.copy()\n",
        "#Разбиваем текст описания на список из его словЖ\n",
        "data46['overview'] = data46['overview'].str.split(' ')\n",
        "#Выводим длину такого списка в значение отдельного столбца:\n",
        "data46['overview_len'] = data46['overview'].apply(lambda x: len(x))\n",
        "#Разбиваем информацию о компаниях-производителях в отдельные строки таблицы:\n",
        "data46['production_companies'] = data46['production_companies'].str.split('|')\n",
        "data46 = data46.explode('production_companies')\n",
        "#Группируем таблицу по производителю и находим среднее значение длины описания фильма.\n",
        "#Если отсортировать значения во возрастанию, наибольшая средняя длина окажется в конце:\n",
        "data46.groupby(['production_companies'])['overview_len'].mean().sort_values().tail(1)"
      ],
      "execution_count": null,
      "outputs": [
        {
          "output_type": "execute_result",
          "data": {
            "text/plain": [
              "production_companies\n",
              "Midnight Picture Show    175.0\n",
              "Name: overview_len, dtype: float64"
            ]
          },
          "metadata": {
            "tags": []
          },
          "execution_count": 105
        }
      ]
    },
    {
      "cell_type": "code",
      "metadata": {
        "id": "nr3bkl_3gFix"
      },
      "source": [
        "answers['25'] = 'Midnight Picture Show'#+"
      ],
      "execution_count": 58,
      "outputs": []
    },
    {
      "cell_type": "markdown",
      "metadata": {
        "id": "FJ1AFt90VqAP"
      },
      "source": [
        "# 26. Какие фильмы входят в 1 процент лучших по рейтингу? \n",
        "по vote_average"
      ]
    },
    {
      "cell_type": "code",
      "metadata": {
        "id": "8qmJVq4CVqAQ",
        "colab": {
          "base_uri": "https://localhost:8080/"
        },
        "outputId": "209e72c8-8373-4a9a-eec4-48439400eb2f"
      },
      "source": [
        "data19 = data.copy()\n",
        "#Находим наименьший рейтинг из тех, которые попадают под условие задания - 99 процентиль\n",
        "smallest_rating = np.percentile(data19['vote_average'], 99)\n",
        "#Отфильтровываем таблицу по условию \"рейтинг больше либо равен наименьшему приемлемому значению\"\n",
        "data19 = data19[data19['vote_average'] >= smallest_rating]\n",
        "data19['original_title']"
      ],
      "execution_count": null,
      "outputs": [
        {
          "output_type": "execute_result",
          "data": {
            "text/plain": [
              "9                                              Inside Out\n",
              "28                                              Spotlight\n",
              "34                                                   Room\n",
              "118                                          Interstellar\n",
              "119                               Guardians of the Galaxy\n",
              "124                                            Big Hero 6\n",
              "125                                    The Imitation Game\n",
              "128                                             Gone Girl\n",
              "138                              The Grand Budapest Hotel\n",
              "155                              The Theory of Everything\n",
              "177                                The Fault in Our Stars\n",
              "283                                            Mr. Nobody\n",
              "316                                              3 Idiots\n",
              "370                                             Inception\n",
              "496     The Lord of the Rings: The Fellowship of the Ring\n",
              "599                                       The Dark Knight\n",
              "863                 The Lord of the Rings: The Two Towers\n",
              "872                                           The Pianist\n",
              "1081        The Lord of the Rings: The Return of the King\n",
              "1183                              The Wolf of Wall Street\n",
              "1188                                                  Her\n",
              "1191                                     12 Years a Slave\n",
              "1205                                            Prisoners\n",
              "1213                                   Dallas Buyers Club\n",
              "1444                                         The Prestige\n",
              "1563                Eternal Sunshine of the Spotless Mind\n",
              "1688                                  There Will Be Blood\n",
              "1800                                              Memento\n",
              "Name: original_title, dtype: object"
            ]
          },
          "metadata": {
            "tags": []
          },
          "execution_count": 113
        }
      ]
    },
    {
      "cell_type": "code",
      "metadata": {
        "id": "KZ48ikTKlm8q"
      },
      "source": [
        "answers['26'] = 'Inside Out, The Dark Knight, 12 Years a Slave'#+"
      ],
      "execution_count": 59,
      "outputs": []
    },
    {
      "cell_type": "markdown",
      "metadata": {
        "id": "MdXsUXbCVqAV"
      },
      "source": [
        "# 27. Какие актеры чаще всего снимаются в одном фильме вместе?\n"
      ]
    },
    {
      "cell_type": "code",
      "metadata": {
        "colab": {
          "base_uri": "https://localhost:8080/",
          "height": 374
        },
        "id": "hcPeRrm3lusn",
        "outputId": "fd613c9c-d836-4319-fdf0-36233297051c"
      },
      "source": [
        "#Список имён актёров из предыдущих заданий:\n",
        "cast_list = ['Donald Sutherland', 'Kurt Russell', 'Kate Beckinsale', 'Kristen Miller', 'Jean Reno', 'Keith Dallas', 'G. W. Bailey', 'Victoria Justice', 'Jon Seda', 'Lorna Raver', 'Oded Fehr', 'Taron Egerton', 'Katy Perry', 'Kate Nauta', 'Hayley Magnus', 'Gisele BÃ¼ndchen', 'Roschdy Zem', 'Kevin Sorbo', 'Monet Mazur', 'Panward Hemmanee', 'Eileen Atkins', 'Lennie Loftin', 'Danielle Panabaker', 'Kristen Bell', 'Daniel Craig', 'Scott Speedman', 'Taraji P. Henson', 'Johnny Whitworth', 'Gael GarcÃ\\xada Bernal', 'Brett Kelly', 'Marin Ireland', 'Jane Lynch', 'Lloyd Owen', 'Dennis Haysbert', 'Robin Williams', 'Billy Campbell', 'Rade Serbedzija', 'Patricia Reyes SpÃ\\xadndola', 'Gina Philips', 'Jean Smart', 'Christopher McDonald', 'Halle Berry', 'Lainie Kazan', 'Steven Brand', 'Shia LaBeouf', 'Maude Apatow', 'Russell Wong', 'Eric Sykes', 'Sara Paxton', 'Jamel Debbouze', 'Anna Friel', 'Cynthia Stevenson', 'Sonoya Mizuno', 'Cory Monteith', 'Alycia Debnam-Carey', 'Irrfan Khan', 'Percy Daggs III', 'Jeremy Irons', \"Denis O'Hare\", 'Carrie Fisher', 'Courtney Taylor Burness', 'Julanne Chidi Hill', 'Mark Consuelos', 'Tom Hollander', 'Huntley Ritter', 'Laura Dern', 'David Thewlis', 'Nathalie Boltt', 'Stevie Wonder', 'Lucy Punch', 'Finn Wittrock', 'Ethan Hawke', 'Steve Martin', 'Ryan Gosling', 'Austin Abrams', 'Harland Williams', 'Chris Rock', 'Daeg Faerch', 'Ian Holm', 'Colm Meaney', 'Adam Driver', 'Scott MacDonald', 'Fred Willard', 'Mircea Monroe', 'Tory Mussett', 'Christina Hendricks', 'Jamie Draven', 'Bill Fagerbakke', 'Rosie Shaw', 'John Sharian', 'Max Charles', 'Jesse Plemons', 'Brian Van Holt', 'Shailene Woodley', 'Chiwetel Ejiofor', 'Mia Kirshner', 'Ewan McGregor', 'Rain', 'Jacki Weaver', 'Jenn Proske', 'Baron Hill', 'Hailee Steinfeld', 'Cyril Raffaelli', 'Christopher Jordan Wallace', 'Matt Stone', 'Hugh Laurie', 'Antje Traue', 'Tobin Bell', 'Joseph Fiennes', 'Shane West', 'John Mahoney', 'Owen Wilson', 'Miranda Cosgrove', 'David Ogden Stiers', 'Ansel Elgort', 'Rhys Wakefield', 'Isobelle Molloy', 'Kathryn Newton', 'Christina Applegate', 'James Brolin', 'Judy Davis', 'Drew Barrymore', 'Jenna Fischer', 'Beau Mirchoff', 'John C. McGinley', 'Tim Bagley', 'Omar Epps', 'Marny Eng', 'Alison Pill', 'Gabriella Wilde', 'Teri Andrzejewski', 'Ashley Scott', 'Russell G. Jones', 'Zhang Ziyi', 'Jakob Salvati', 'John C. Reilly', \"Jerry O'Connell\", 'Logan Lerman', 'Britney Spears', 'Nakamura ShidÅ II', 'Salma Hayek', 'Oscar Pearce', 'Jeffrey Wright', 'Pam Grier', 'Josh Helman', 'Armie Hammer', 'Mitch Baker', 'Alexis Georgoulis', 'Fred Dalton Thompson', 'Michael Stahl-David', 'Adam Herschman', 'Jeremy Piven', 'Chi Cao', 'Jaime Pressly', 'John Magaro', 'Kevin Nealon', 'Julie Ann Emery', 'Bruce Willis', 'Betsy Russell', 'Meg Ryan', 'Lucas Jade Zumann', 'Sophie Vavasseur', 'D. B. Sweeney', 'Jeff Garlin', 'Lauren Hodges', 'Ned Beatty', 'Jon Foster', 'Gemma Chan', 'Anita Briem', 'Dan Hedaya', 'Jessica Hecht', 'Dennis Miller', 'Scott Dymond', 'Antonio Banderas', 'Saurabh Shukla', 'Michael Landes', 'Jack Black', 'Charles S. Dutton', 'Omari Hardwick', 'Kelly Preston', 'Cate Blanchett', 'Leigh Whannell', 'Jeffrey Dean Morgan', 'Mary Elizabeth Winstead', 'Lee Oakes', 'Andrew Airlie', 'Rosemary Harris', 'Kathryn McCormick', 'Jillian Bell', 'Juliette Lewis', 'Wayne Newton', \"Brian O'Halloran\", 'Jack Kehler', 'Olivia DeJonge', 'Peter Weller', 'Michael MacKenzie', 'Wendell Pierce', 'Khalid Abdalla', 'Nolan Gould', 'Steve Blum', 'Vincent PÃ©rez', 'Matthew Broderick', 'Jason Spevack', 'Emma Hitching', 'Frank Langella', 'Olivier Martinez', 'James Earl Jones', 'Zac Efron', 'Heida Reed', 'Christopher Walken', 'Phil Collins', 'Meryl Streep', 'Sam Jaeger', 'Jason Statham', 'Addison Timlin', 'Andy Buckley', 'Ric Young', 'Paul RodrÃ\\xadguez', 'Michael Sheen', 'Sean Hayes', 'Carrie-Anne Moss', 'Alfred Molina', 'Maurice Godin', 'Chandler Canterbury', 'Kathleen Turner', 'Richard Roundtree', 'Daniel BrÃ¼hl', 'Aidan Gillen', \"Gary 'G. Thang' Johnson\", 'Rie Rasmussen', 'Claudia Christian', 'Craig Ferguson', 'Allen Evangelista', 'Til Schweiger', 'Burn Gorman', \"Eileen O'Higgins\", 'Jenny Slate', 'Annie Corley', 'Archie Panjabi', 'Jake Thomas', 'Elisabeth Harnois', 'Barbara Hershey', 'Tony Kgoroge', 'Loan Chabanol', 'Josh Gad', 'Justin Long', 'Samy Naceri', 'Paris Hilton', 'Rosie Perez', 'Richard Gant', 'Ed Oxenbould', 'Geoff Pierson', 'Robert John Burke', 'Toby Stephens', 'Rihanna', 'Gong Li', 'Skye McCole Bartusiak', 'Ryan Sheckler', 'Angus Sampson', 'Gerard Butler', 'Jodelle Ferland', 'Sung Kang', 'Saffron Burrows', 'David Spade', 'Harry Lennix', 'Allison Janney', 'Omar Metwally', 'Joseph Morgan', 'Zoie Palmer', 'Jackie Earle Haley', 'Dan Futterman', 'Ashanti', 'Marilyn Burns', \"Peter O'Brien\", 'Robbie Coltrane', 'William H. Macy', 'Elizabeth Banks', 'Chris Sanders', 'Cory Hodges', 'Thomas Mann', 'Kerry Washington', 'Cary Elwes', 'Bill Goldberg', 'Kim Basinger', 'Chris Pratt', 'Theo James', 'Matt Bomer', 'Alec Wilson', 'Karl Urban', 'Hal Williams', 'Vanessa Redgrave', 'David Hyde Pierce', 'Sarah Snook', 'Matt Bush', 'Donnie Yen', 'James Hong', 'James Badge Dale', 'Tia Carrere', 'Ryan Merriman', 'Jim Caviezel', 'Brittany Snow', 'Val Kilmer', 'Marin Hinkle', 'James Corden', 'Susie Essman', 'Joey Lauren Adams', 'David Denman', 'Pierfrancesco Favino', 'Amy Adams', 'Jennifer Lawrence', 'Heidi Hawkins', 'Benjamin Bratt', 'Anna Maria Horsford', 'Scottie Thompson', 'John Billingsley', 'Dave Sheridan', 'Christo Jivkov', 'Stephen Fry', 'Miguel Castro', 'Robin Thomas', \"Matt O'Leary\", 'Jonathan Keltz', 'Jennifer Beals', 'Rick Yune', 'Jennifer Schwalbach Smith', 'Gerry Bednob', 'GÃ©rard Depardieu', 'Amila Terzimehic', 'David Krumholtz', 'Jason Earles', 'Joel Gretsch', 'Tom Cruise', 'Roxanne McKee', 'Tyler Hoechlin', 'Tim McGraw', 'Gonzalo Menendez', 'Rufus Sewell', 'Miles Teller', 'Mads Mikkelsen', 'Sean Faris', 'Heidi Hayes', 'Cam Gigandet', 'Jessica Guadix', 'Josh Holloway', 'David Hasselhoff', 'Scott G. Anderson', 'Jennifer Carpenter', 'George Dzundza', 'Dennis Farina', 'Helmut Bakaitis', 'Franka Potente', \"John D'Leo\", 'Cameron Bright', 'Sophia Bush', 'Sean Patrick Thomas', 'J.B. Smoove', 'Kate Beahan', 'Halston Sage', 'Jacqueline MacInnes Wood', 'Betsy Rue', 'Ray Winstone', 'Ken Jeong', 'Carice van Houten', 'Lance Reddick', 'Adam Scott', 'Allison Tolman', 'Hugh Jackman', 'Erica Gluck', 'Edison Chen', 'Eric Ladin', 'Russell Peters', 'Ernie Reyes, Jr.', 'Lyndon Smith', 'Sela Ward', 'Mike Epps', 'Bernie Casey', 'Katharine McPhee', 'Tyron Leitso', 'Emily Watson', 'Aaron Wolff', 'Paula GarcÃ©s', 'Katie Holmes', 'Greg Kinnear', '50 Cent', 'Gwyneth Paltrow', 'Chris Massoglia', 'Cary-Hiroyuki Tagawa', 'Alex Pettyfer', 'Johnny A. Sanchez', 'Chazz Palminteri', 'Frank Whaley', 'Simon Pegg', 'Enrico Colantoni', 'Gary Lewis', 'Emory Cohen', 'Kevin Durand', 'Anil Kapoor', 'Kevin Connolly', 'Jacqueline Obradors', 'Luke Treadaway', 'Katarina Cas', 'Harold Gould', 'Karin Konoval', 'QuvenzhanÃ© Wallis', 'David Oyelowo', 'Vanessa Lachey', 'Alec Baldwin', 'Callum Keith Rennie', 'Selma Blair', 'Paul Walker', 'Tony Amendola', 'Felicity Jones', 'Ashley Greene', 'Oona Laurence', 'Lucy Lawless', 'Diego Luna', 'Tiya Sircar', 'Katharine Isabelle', 'Benedict Cumberbatch', 'AndrÃ© Holland', 'William Fichtner', 'Sophia Myles', 'Sarah Shahi', 'Patrick Wilson', 'Tim McInnerny', 'Denis Leary', 'Mary Beth Hurt', 'Demi Moore', 'Courtney B. Vance', 'Anna Popplewell', 'Ben Miller', 'Brittany Daniel', 'Rita Wilson', 'Peter Carey', 'Stephen Dorff', 'Colin Hanks', 'Mark Feuerstein', 'William Mapother', 'Candice Bergen', 'Mako', 'Adrienne Shaw', 'Anson Mount', 'Daniella Alonso', 'Bud Luckey', 'Mario', 'James Karen', 'William Converse-Roberts', 'Steve Howey', 'Aurora Perrineau', 'Nick Zano', 'Matt Lauer', 'David Duchovny', 'Sean Maguire', 'Randy Quaid', 'Alex Thomas', 'Jensen Ackles', 'Romeo Miller', 'Elyes Gabel', 'Michelle Rodriguez', 'Max Records', 'Eric Nenninger', 'Billy Crudup', 'Kevin Conway', 'Allen Covert', 'Michael Nyqvist', 'Megan Dodds', 'Boyd Holbrook', 'Gautam Belur', 'Portia de Rossi', 'Sharlto Copley', 'Lee Majors', 'Rose McGowan', 'Carmen Ejogo', 'Tracy Morgan', \"Ser'Darius Blain\", 'Gregor Fisher', 'Donald Sumpter', 'Julie Walters', 'Justin Theroux', 'Karen Allen', 'Albert Brooks', 'MÃ©lanie Laurent', 'David Banner', 'Taissa Farmiga', 'George Lopez', 'Skandar Keynes', 'Carolyn Lawrence', 'MÃ©lanie Thierry', 'Frankie Muniz', 'Phoebe Tonkin', 'Philippe Reinhardt', 'Ana Gasteyer', 'Rebecca Ferguson', 'Mike Myers', 'Viola Davis', 'Eddie Redmayne', 'Benjamin Hollingsworth', 'Michiel Huisman', 'Max Irons', 'Tim Roth', 'Christopher Nicholas Smith', 'Brian Tee', 'Nathanael Baring', 'Vinnie Jones', 'Jon Heder', 'Bill Melendez', 'Rainn Wilson', 'Hugh Dancy', 'Rick Gonzalez', 'Ashley Judd', 'Amy Schumer', 'Jere Burns', 'Madisyn Shipman', 'Anthony Mackie', 'M.C. Gainey', 'Peter Berg', 'Chase Wright Vanek', 'Cheech Marin', 'David Belle', 'Kelly Carlson', 'Steve Toussaint', \"Robert Ri'chard\", 'Mekhi Phifer', 'Rachel Hurd-Wood', 'Burt Reynolds', 'Rose Leslie', 'Alex Jennings', 'Damon Wayans Jr.', 'Morgan Freeman', 'Callan Mulvey', 'MoisÃ©s Arias', 'Wilson Jermaine Heredia', 'Arthur Angel', 'Sharon Small', 'Lucas Black', 'Jeff Daniels', 'Zeljko Ivanek', 'Zach Gilford', 'Simon McBurney', 'Clive Owen', 'Megan Charpentier', 'Meagan Good', 'Chris Miller', 'Dr. Dre', 'William Moseley', 'Mark Ruffalo', 'Rob Lowe', 'Paul Soles', 'Ray Romano', 'Dania Ramirez', 'Nathan Bexton', 'Charlie Cox', 'Christopher Lambert', 'Monica Potter', 'Dolph Lundgren', 'Oscar Isaac', 'Nicole Sullivan', 'Olivia Williams', 'Liza Lapira', 'Jane Alexander', 'Elden Henson', 'Dylan Baker', 'Joel Edgerton', 'Paul Giamatti', 'Ben Foster', 'Diane Lane', 'Beth Grant', 'Channing Tatum', 'Charlie Day', 'Uma Thurman', 'Gina Carano', 'Debra Messing', 'Liam Cunningham', 'Juliette Binoche', 'Katrina Bowden', 'Ian McNeice', 'Bipasha Basu', 'Ashley Bell', 'Donna Murphy', 'Sanoe Lake', 'Terry Crews', 'Robert Maillet', 'Diedrich Bader', 'Mark Brady', 'Elvis Polanski', 'Lisa Roberts Gillan', 'Olivia Munn', 'Joan Cusack', 'Matt Cross', 'Jennifer Aniston', 'Bruce Greenwood', 'RenÃ©e Zellweger', 'Timothy Spall', 'Ellie Kemper', 'Nathan Kress', 'Holly Valance', 'Damaine Radcliff', 'Phylicia RashÄd', 'Michael Irvin', 'Rhys Ifans', 'Dakota Blue Richards', 'Dane DeHaan', 'Bruce Bruce', 'Richard Harris', 'Crispin Glover', 'Jessica Szohr', 'Alisa Khazanova', 'Eloise Mumford', 'Sandra Bullock', 'Aly Michalka', 'Jay Baruchel', 'Daniel Olbrychski', 'Dan Castellaneta', 'Anjelica Huston', 'Steve Harvey', 'Jay O. Sanders', 'Joseph Gilgun', 'Rupert Evans', 'Matthew Goode', 'Michael Roof', 'Linda Cardellini', 'Rebecca Hall', 'Matthew Settle', 'Denzel Whitaker', 'Drea de Matteo', 'Anthony Anderson', 'Colm Feore', 'Brian Geraghty', 'John Leguizamo', 'James Lafferty', 'Ryan Kwanten', 'Holliday Grainger', 'Tom Skerritt', 'Amber Valletta', 'Jesse Eisenberg', 'Robert Capron', 'Bob Odenkirk', 'Fionnula Flanagan', 'Jai Courtney', 'Jude Law', 'Ian Somerhalder', 'Erica Ash', 'Michael Rapaport', 'Cameron Boyce', 'Joe Slaughter', 'John Travolta', 'Patrick Fischler', 'Sheri Moon Zombie', 'Luke Evans', 'Eddie Deezen', 'Robert Downey Jr.', 'Katee Sackhoff', 'Glenn Howerton', 'John Robinson', 'Edward Herrmann', 'Robert Sheehan', 'Pink', 'Albert Finney', 'Amanda Detmer', 'Thomas Curtis', 'Felicity Huffman', 'Geraldine Somerville', 'Conrad Vernon', 'Ryan Robbins', 'Spencer Locke', 'Kirsten Dunst', 'Tang Wei', 'Jesse James', 'Keri Russell', \"James D'Arcy\", 'Aitana SÃ¡nchez-GijÃ³n', 'Kathryn Morris', 'Jason Cope', 'Adam Campbell', 'Adam Sandler', 'Angus Macfadyen', 'Emma Thompson', 'Bob Peterson', 'E.G. Daily', 'Kelly Clarkson', 'Timyra-Joi Beatty', 'Vincent Cassel', 'T.I.', 'Mathieu Kassovitz', 'Russell Brand', 'Rachel Korine', 'Faune A. Chambers', 'Michael B. Jordan', 'Nick Rotteveel', 'Kagiso Kuypers', 'Vicky Krieps', 'Asia Argento', 'Queen Latifah', 'Cung Le', 'Abigail Hargrove', 'James Hetfield', 'Jason Sudeikis', 'Paul Johansson', 'Ryan McCluskey', 'Ella Rae Peck', 'Joanna Gleason', 'Jim Cummings', 'Agnes Bruckner', 'Iben Hjejle', 'Tommy Lee Jones', 'Briana Evigan', 'Chris Diamantopoulos', 'John Broadwater', 'Treat Williams', 'Denise Richards', 'Sam Shepard', 'Alexander SkarsgÃ¥rd', 'Cicely Tyson', 'Riley Keough', 'Nestor Serrano', 'Myleene Klass', 'Dan Fogler', 'Laura Linney', 'Stephen Baldwin', 'Dominique Louis', 'Eddie Murphy', 'Marc Anthony', 'Michael Ironside', 'Anton Yelchin', 'Mary-Kate Olsen', 'Scoot McNairy', 'Kareena Kapoor', 'Jeff Bennett', 'David Lyons', 'Aimee Teegarden', 'Britt Robertson', 'Eve Hewson', 'Tyler Hilton', 'Jason Patric', 'Pihla Viitala', 'Jeremy Renner', 'Samuel L. Jackson', 'Richard Goteri', 'Zooey Deschanel', 'Jake T. Austin', 'Ulrich Tukur', 'James Kidnie', 'Timothy Olyphant', 'Geraldine Hughes', 'Bill Paterson', 'John Hurt', 'Tom Courtenay', 'Randall Park', 'Moran Atias', 'Abigail Bianca', 'Andrei Dementiev', 'Jessica Lucas', 'Doris Roberts', 'Powers Boothe', 'Adewale Akinnuoye-Agbaje', 'Rachelle Lefevre', 'Ann Harada', 'Camilla Belle', 'Aishwarya Rai Bachchan', 'Aksel Hennie', 'Cassidy Gifford', 'Chris J. Murray', 'Jonathan Cherry', 'Tatiana Maslany', 'Frank Welker', 'Jim Parsons', 'Matt Long', 'Patrick Warburton', 'William Lee Scott', 'Finnegan Williams', 'Timothy Hutton', 'Yolandi Visser', 'Nina Dobrev', 'Cynthia Nixon', 'Barry Watson', 'Sienna Guillory', 'Taryn Manning', 'Michael Imperioli', 'John Lone', 'Brian J. White', 'DeRay Davis', 'Peter Coyote', 'Ving Rhames', 'John Ortiz', 'Jeremy Marinas', 'Mackenzie Davis', 'Debra Winger', 'Agata Buzek', 'Taylor Schilling', 'Gregory Itzin', 'Charles Dance', 'Steve Whitmire', \"Alex O'Loughlin\", 'Tom Felton', 'Bree Turner', 'Steve Zahn', 'Ed Speleers', 'Logan White', 'Jack McElhone', 'Daniel Gillies', 'Jorge Garcia', 'Angus T. Jones', 'Monica Keena', 'Omar J. Dorsey', 'Michael Lonsdale', 'Brandy Norwood', 'Jennifer Garner', 'Daniela Ruah', 'James Franco', 'Heath Ledger', 'Nicolas Cage', 'Matt Damon', 'Max Ryan', 'Jay Villiers', 'Nicholas Tse', 'Adam RodrÃ\\xadguez', 'Kelan Pannell', 'Clint Howard', 'Kate Hudson', 'Mike Pniewski', 'Sean Connery', 'Leon Rippy', 'Cliff Curtis', 'Tom Welling', 'Bianca A. Santos', 'Brad Dourif', 'Neve Campbell', 'Dave Franco', 'Alice Braga', 'Allison Mackie', 'Orlando Bloom', 'Clint Eastwood', 'Luke Wilson', 'Mia Moretti', 'Ian McDiarmid', 'Kim Coates', 'Philip Seymour Hoffman', 'Gabriel Mann', 'Liev Schreiber', 'Neha Dhupia', 'Beau Knapp', 'Noah Taylor', 'Juan Carlos HernÃ¡ndez', 'Amanda Crew', 'Adriana Barraza', 'Collette Wolfe', 'Jenny McCarthy', 'Cillian Murphy', 'Lena Olin', 'Shannyn Sossamon', 'Clifton Powell', 'Odette Annable', 'DMX', 'John Ashton', 'Ice Cube', 'Charlie Saxton', 'Max Baker', 'Eric Bana', 'Dianne Wiest', 'Mandy Moore', 'Orlando Jones', 'Michael Kelly', 'Katherine Waterston', 'Zuleikha Robinson', 'Ron Leibman', 'Stacy Keach', 'Iain Glen', 'Lily Collins', 'Bradley Cooper', 'Stuart Townsend', 'Eddie J. Fernandez', \"Mo'Nique\", 'Kenan Thompson', 'Tamala Jones', 'Rohan Chand', 'Leelee Sobieski', 'Peter Mullan', 'Dianne Reeves', 'Nathan Phillips', 'Allen Leech', 'Francesca Neri', 'Bruno Ganz', 'Kelly Macdonald', 'Edward James Olmos', 'Karyn Parsons', 'Jim Beaver', 'Redman', 'Alexander Gould', 'Bill Irwin', 'Virginia Gardner', 'Sarah Murdoch', 'Jenny Wade', 'Arielle Kebbel', 'Glenne Headly', 'Anika Noni Rose', 'Rafe Spall', 'Erica Leerhsen', 'John Shrapnel', 'Jake Lacy', 'Geraldine James', 'Mia Wasikowska', 'Billy Bob Thornton', 'Ben Shenkman', 'John Hawkes', 'Kane Hodder', 'Billy Connolly', 'Julia Ormond', 'Benno FÃ¼rmann', 'Maitland Ward', 'CiarÃ¡n Hinds', 'Simon Woods', 'Max Minghella', 'Ahney Her', 'Ayelet Zurer', 'Shannon Cochran', 'Jay Mohr', 'Billy Burke', 'Will Patton', \"Michael O'Keefe\", 'Joe Anderson', 'Jasmine Trinca', 'Dan Aykroyd', 'Charlie Hewson', 'Megan Cavanagh', 'Eduardo VerÃ¡stegui', 'SÃ´nia Braga', 'Alex D. Linz', 'Ike Barinholtz', 'Julia Stiles', 'Monica Raymund', 'Lombardo Boyar', 'Robert Carlyle', 'Nicholas Art', 'Grant Bowler', 'Martin Sheen', 'Tyrese Gibson', 'Charlie Yeung', 'Leland Orser', 'Larry Miller', 'Dax Flame', 'Kenny Wormald', 'James Francis Kelly III', 'James Marsden', 'Mamie Gummer', 'Terry Kinney', 'Brady Allen', 'Tanja Reichert', 'Michael Keaton', 'Deniz Akdeniz', 'Jake McDorman', 'Amanda Seyfried', 'Joe Viterelli', 'Ron Glass', 'Paul Anderson', 'Madeleine West', 'Nash Edgerton', 'Ashley Tisdale', 'Maureen Lipman', 'Caroline Goodall', 'Michael Vartan', 'Dylan Minnette', 'Aaron Yoo', 'Louis Gossett, Jr.', 'Ed Helms', 'Jimmy Bennett', 'Angie Harmon', 'Christopher Eccleston', 'Christopher Evan Welch', 'Richard Madden', 'Colin Ford', 'Robin Wright', 'Connor Corum', 'Djimon Hounsou', 'Sam Neill', 'Shuler Hensley', 'Jennifer Coolidge', 'Phaldut Sharma', 'Debbie Reynolds', 'Janeane Garofalo', 'Ioan Gruffudd', 'Sherri Shepherd', 'Natalie Portman', 'Walton Goggins', 'Gene Hackman', 'Jay Chandrasekhar', 'Izabella Scorupco', 'Lisa Ann Walter', 'Kevin McKidd', 'Lonny Ross', 'Jose Pablo Cantillo', 'David Hayman', 'Jacinda Barrett', 'Jennifer Esposito', 'Mark Strong', 'Liam Neeson', 'Amir K', 'Alistair McGowan', 'Ivana MiliÄeviÄ‡', 'Victor Rasuk', 'Rupert Friend', 'Leonardo DiCaprio', 'Liane Balaban', 'Christopher Carley', 'Eric Lloyd', 'Ulrich Thomsen', 'Tate Ellington', 'Gemma Jones', 'Craig T. Nelson', 'Bernie Mac', 'Brian Howe', 'Travis Wester', 'Andy Serkis', 'CÃ©cile De France', 'Jana Hrabetova', 'Jerry Stiller', 'Reese Witherspoon', 'Gabriel Macht', 'Anne Bancroft', 'Emilia Fox', 'Simon Helberg', 'Robert Amaya ', 'Betty White', 'Jamie Blackley', 'Arnold Vosloo', 'Kevin Zegers', 'Shantel VanSanten', 'Mickey Rourke', 'Bokeem Woodbine', 'JoJo Kushner', 'Audra McDonald', 'Kevin Rahm', 'Fred Ward', 'Robert Carradine', 'Bryce Dallas Howard', 'Laura Johnson', 'Ellen Wroe', 'Breckin Meyer', 'Jeff LeBeau', 'Tsuyoshi Ihara', 'Ben Kingsley', 'Tony Todd', 'Stephen Lang', 'Karel Roden', 'Aziz Ansari', 'Max Martini', 'Bill Smitrovich', 'Kenneth Welsh', 'Jack Davenport', 'J.K. Simmons', 'Sylvaine Strike', 'Estella Warren', 'Jerry Seinfeld', 'Andrew Ginsburg', 'Dylan Moran', 'Wen Yann Shih', 'Jean Heywood', 'Abigail Breslin', 'Justin Bieber', 'June Squibb', 'Sarah Drew', 'David Henrie', 'Sean Penn', 'Scott Bakula', 'Jeremy Sisto', 'Hanns Zischler', 'Eva Longoria', 'Evan Peters', 'Jessica Alba', 'Peter Dinklage', 'Rene Russo', 'Nick Nolte', 'Bruce Altman', 'Glenn Close', 'Madeline Carroll', 'Fran Kranz', 'Catherine Sutherland', 'Holly Hunter', 'Costas Mandylor', 'Keith David', 'Mary Birdsong', 'Rhys Darby', 'Lou Romano', 'Mike Colter', 'Julie Kavner', 'David Zayas', 'Luis GuzmÃ¡n', 'Imogen Poots', 'Anders Holm', 'Larenz Tate', 'Rachel McAdams', 'Curtis Armstrong', 'Christian McKay', 'Zachary Knighton', 'Julia Garner', 'AdriÃ¡n Alonso Barona', 'Bronwen Coleman', 'Nate Parker', 'Madison Davenport', 'Eileen Brennan', 'Fernanda Romero', 'Amy Brenneman', 'Tom Sizemore', 'Brooke Shields', 'Obba BabatundÃ©', 'Tyler Perry', 'Danneel Ackles', 'Sean Bridgers', 'Dermot Mulroney', 'James Buckley', 'Ellen Burstyn', 'Gaelan Connell', 'Clea DuVall', 'Andy Davoli', 'Jackson Nicoll', 'Kristin Scott Thomas', 'Yvan Attal', 'Ashraf Barhom', 'Dustin Hoffman', 'Jack Nicholson', 'Sean Astin', 'Bridget Moynahan', 'Eric Jacobson', 'Anna Wood', 'Kristin Chenoweth', 'Chris Cooper', 'Rick Malambri', 'Katie Chang', 'Scott Adkins', 'Aimee Garcia', 'Sheila Kelley', 'James Coburn', 'Don Cheadle', 'Richard Felix', 'Helen McCrory', 'Abhishek Bachchan', 'Lacey Chabert', 'Brian Dennehy', 'Joel Courtney', 'Evan Arnold', 'Philip Bolden', 'Lennie James', 'Ludivine Sagnier', 'Edwin Hodge', 'James Spader', 'Tony Cox', 'Alicia Vikander', 'Steele Stebbins', 'Raoul Max Trujillo', 'Chuck Campbell', 'Danny Sapani', 'Steven Dasz', 'Thomas Jane', 'Amelia Curtis', 'Andrew Scott', \"Chris O'Dowd\", 'Sienna Miller', 'Ashley Williams', 'Skyler Samuels', 'Maura Tierney', 'Forest Whitaker', 'Anthony Hopkins', 'SinÃ©ad Cusack', 'George Clooney', 'Amy Sedaris', 'Fan Bingbing', 'Jane Horrocks', 'Joel Kinnaman', 'Jordan Nagai', 'Michael Cera', 'Lily Tomlin', 'Chris Sarandon', 'Michael Rainey Jr.', 'Nick Lashaway', 'Brandon Routh', 'Damon Herriman', 'Brenton Thwaites', 'Aasif Mandvi', 'Aidan McArdle', 'Harry Connick Jr.', 'Robert De Niro', 'Craig Archibald', 'Lena Headey', \"Lupita Nyong'o\", 'Michael-Leon Wooley', 'Gina Gershon', 'Sam Elliott', 'Seth MacFarlane', 'Travis Oates', 'Shane Brolly', 'Daveigh Chase', 'Anne Heche', 'Christian Kane', 'Diana Bang', 'Ben Chaplin', 'Danny Glover', 'Analeigh Tipton', 'Bijou Phillips', 'Wendy Raquel Robinson', 'Jimmy Fallon', 'David Morse', 'Kevin Sussman', 'Jonny Weston', 'Michael Stuhlbarg', 'Cassie Ventura', 'Peyton List', 'John Cena', 'Lindsay Lohan', 'Nicholas King', 'Jean Dujardin', 'Hunter McCracken', 'Lois Smith', 'John Rhys-Davies', 'Adil Hussain', 'Samantha Mathis', 'Alyson Stoner', 'Michael Ealy', 'Mac McDonald', \"Nicholas D'Agosto\", 'Armin Rohde', 'Michelle Yeoh', 'Lili Taylor', 'Scott Eastwood', 'Paula Abdul', 'Sarita Choudhury', 'Nick Robinson', 'Jessica Biel', 'Dina Meyer', 'Gillian Anderson', 'Ron Eldard', 'Jacob Latimore', 'Arnold Schwarzenegger', 'Rutina Wesley', 'Andy Samberg', 'Bibi Naceri', 'Rhiana Griffith', 'Radha Mitchell', 'Jamie Chung', 'Lizzy Caplan', 'Jermaine Williams', 'Sean Bean', 'Rory Cochrane', 'Michael Angarano', 'Andy Dick', 'Fergus Riordan', 'January Jones', 'Dee Bradley Baker', 'Sarah Wayne Callies', 'Kerry Condon', 'Benjamin Kanes', 'George W. Bush', 'Paddy Considine', 'Alexandra Maria Lara', 'Zach Braff', 'Rudy Youngblood', 'Miranda Richardson', 'Tsai Chin', 'Isabel Lucas', 'Michael Caine', 'Ben Affleck', 'T.J. Miller', 'Peter Sarsgaard', 'Mari Morrow', 'Martin Starr', 'Russell Crowe', 'Bruce Campbell', 'Adrian Paul', 'Dave England', 'Debra Jo Rupp', 'Brian Blessed', 'Alex Fisher', 'Brad Loree', 'Jennifer Jason Leigh', 'Robert Belushi', 'Chadwick Boseman', 'Josh Duhamel', 'Edie Falco', 'Maggie Smith', 'Hakeem Kae-Kazim', 'Hilary Duff', 'Youki Kudoh', 'Lauren Graham', 'Mark Duplass', 'Deobia Oparei', 'Jessica Simpson', 'Rodrigo Santoro', 'Moa Khouas', 'Jack Thompson', 'Ed Skrein', 'Alan Alda', 'Emilio Rivera', \"Jodi Lyn O'Keefe\", 'Rosamund Pike', 'Jake La Botz', 'Naveen Andrews', 'Jim Carrey', 'Alex Russell', 'Faizon Love', 'Matthew Perry', 'Chad Lindberg', 'Russ Fega', 'Sarah Silverman', 'Gerard Plunkett', 'Michael Fassbender', 'Paul Rudd', 'Noah Segan', 'Brian Dietzen', 'Sherry Miller', 'Bob Balaban', 'Gordon Liu Chia-Hui', 'Lester Speight', 'Gregory Smith', 'Craig Bierko', 'Tom Selleck', 'Jemaine Clement', 'Adam Garcia', 'Carrie Underwood', 'Simon Baker', 'Annie Parisse', 'Johnny Strong', 'Emily Blunt', 'Zoe Saldana', 'Kathryn Hahn', 'Jodie Foster', 'Tessa Thompson', 'Steven Berkoff', 'Eric Balfour', 'Will.i.am', 'Noah Emmerich', 'Joey King', 'Danny DeVito', 'Lisa Kudrow', 'Taylor Swift', 'Busy Philipps', \"Peter O'Toole\", 'Amaury Nolasco', 'Benicio del Toro', 'Krysten Ritter', 'L. Scott Caldwell', 'Edward Furlong', 'Kelly Lynch', 'Gabriel Byrne', 'Vicky McClure', 'Daniel Wyllie', 'Joanna Lumley', 'Erin Daniels', 'Eddie Griffin', 'Jackie Chan', 'Trish Gates', 'Elizabeth Reaser', 'Kate Shindle', 'Peter Sohn', 'Blake Cooper', 'Stephen Tobolowsky', 'John Lithgow', 'Alexander Asefa', 'Sam Trammell', 'Brittany Murphy', 'Jonathan Frakes', \"Carroll O'Connor\", 'Roger Bart', 'Tim Allen', 'LaJessie Smith', 'Nicole Beharie', 'Heike Makatsch', 'Ethan Suplee', 'AnnaSophia Robb', 'Violante Placido', 'Malcolm David Kelley', 'Amy Ryan', 'Danny Huston', 'Julianna Margulies', 'Carmen Electra', 'Brian H. Dierker', 'Melissa McCarthy', 'Sydney Pollack', 'Kerr Smith', 'Jessica Barth', 'Adam Alexi-Malle', 'Portia Dawson', 'Jorge Diaz', 'Wallace Wolodarsky', 'George Takei', 'Astro', 'Diane Keaton', 'Aleisha Allen', 'Kristanna Loken', 'Sean McCann', 'Derek Mears', 'Matthias Schoenaerts', 'Ren Quan', 'Jennifer Hudson', 'Lisa Gay Hamilton', 'Dominique McElligott', 'Ricky Gervais', 'Steve Buscemi', 'Columbus Short', 'Christopher Kirby', 'Yuan Wenkang', 'Kristy Swanson', 'Sydney Tamiia Poitier', 'Robbie Amell', 'Jordi MollÃ\\xa0', 'Douglas Booth', 'Thomas Brodie-Sangster', 'Jeremy Strong', 'Mary Steenburgen', 'Matt Lanter', 'Lenny Venito', 'Douglas Hodge', 'Gemmenne de la PeÃ±a', 'Paul Dano', 'Andy Lau', 'David Wenham', 'Laurie Metcalf', 'Cara Delevingne', 'Chris Evans', 'Gates McFadden', 'Roger Ashton-Griffiths', \"Joanna 'JoJo' Levesque\", \"Dylan O'Brien\", 'Alice Parkinson', 'Penelope Ann Miller', 'Elizabeth Mitchell', 'Yousuf Azami', 'Penelope Wilton', 'Thomas McDonell', 'Jason Behr', 'Malin Ã…kerman', 'Mika Boorem', 'Aidan Quinn', 'Tom Holland', 'Dylan Brown', 'Paul Soter', 'Todd Louiso', 'Danila Kozlovskiy', 'Chris Zylka', 'Diana Scarwid', 'Wen Bin Huang', 'Devon Sawa', 'Bonnie Perlman', 'Kerry Fox', 'Madeleine Stowe', 'Jean-Luc Bilodeau', 'Elissa Knight', 'Art Parkinson', 'Catalina Sandino Moreno', 'Dean Collins', 'Laz Alonso', 'Desmond Harrington', 'Danny Strong', 'Jessica Chastain', 'John Carroll Lynch', 'Saxon Sharbino', 'Daniel Day-Lewis', 'America Ferrera', 'Natalya Rudakova', 'Ron Rifkin', 'Chris Pine', 'Leighton Meester', 'Adam Lamberg', 'Leslie Nielsen', 'Perdita Weeks', 'Christopher Lee', 'Mila Kunis', 'Marc Fayolle', 'Jamie Bell', 'Dean Cain', 'Riley Griffiths', 'Marcia Gay Harden', 'Eamonn Walker', 'Jonathan Rhys Meyers', 'Steven Culp', 'Sean Pertwee', 'Tina Lifford', 'Josh Hammond', 'Jet Li', 'Catherine Kresge', 'Mia Xitlali', 'Seth Green', 'Shawn Roberts', 'Corey Stoll', 'Charlie Sheen', 'Giancarlo Esposito', 'Resse Hartwig', 'Henry Thomas', 'Patricia Belcher', 'Anthony Ruivivar', 'Cole Hauser', 'Martin Henderson', 'Dick Van Dyke', 'Chad Michael Murray', 'Michael Kopsa', 'Mary Alice', 'Sam Riley', 'Gerald McRaney', 'Jason Mewes', 'Kazunari Ninomiya', 'Constantino Romero', 'Jennifer Love Hewitt', 'Gemma Ward', 'Olga Kurylenko', 'Dejan Angelov', 'Stan Collymore', 'Shirley MacLaine', 'Flaminia Cinque', 'Michael Jai White', 'Cozi Zuehlsdorff', 'Anthony Ray Parker', 'Hope Davis', 'Peter Gallagher', 'Gary Sinise', 'Oliver Reed', 'Nicole Kidman', 'Diego Boneta', 'Andrew McCarthy', 'Alexander Siddig', 'Dash Mihok', 'Martin Landau', 'Sally Field', 'Vanessa Ferlito', 'Wes Bentley', 'Eddie Marsan', 'Hallie Todd', 'Tim Daly', 'Ryan Phillippe', 'Mark Rylance', 'Christoph Waltz', 'Johnny Depp', 'Ken Medlock', 'Anthony Rapp', \"O'Shea Jackson Jr.\", 'Ben Schwartz', 'ClÃ©mence PoÃ©sy', 'Kimberly Elise', 'Jesse Bradford', 'Jesper Christensen', 'Kevin Chapman', 'FranÃ§ois BerlÃ©and', 'Jared Gilman', 'Jordan Garrett', 'Thomas Dekker', 'Georgina Cates', 'Dave Bautista', 'Robert Hoffman', 'Julia Roberts', 'Daniel E. Smith', 'Hrithik Roshan', 'Kevin Dunn', 'Madhavan', 'James McAvoy', 'David Koechner', 'Olivia Cooke', 'James Cameron', 'Emmanuelle Chriqui', 'Kyra Sedgwick', 'Heather Locklear', 'Tony Shalhoub', 'Ginnifer Goodwin', 'Bailee Madison', 'Sarah Polley', 'Alex Borstein', 'Jared Leto', 'Frankie Faison', 'Paul Whitehouse', 'Viggo Mortensen', 'Lymari Nadal', 'Stephen Dillane', 'Annabelle Wallis', 'Thomas Robinson', 'Leah Pipes', 'Carlos Alazraqui', 'Ashley Benson', 'Freddie Prinze Jr.', 'Sophie Okonedo', 'Patricia Clarkson', 'Julian Christopher', 'Andrea Martin', 'Matthew Gray Gubler', 'Aaron Eckhart', 'Cyndi Mayo Davis', 'Raffey Cassidy', 'Miranda Otto', 'Thora Birch', 'Ann Dowd', 'Billy Crystal', 'Ana Coto', 'Bitsie Tulloch', 'Elizabeth Blackmore', 'Cameron Richardson', 'John Patrick Amedori', 'Bill Murray', 'Callan McAuliffe', 'Bernard Blancan', 'Steve Coogan', 'Aaron Paul', 'Javier Bardem', 'Joel McHale', 'Ari Graynor', 'Ewen Bremner', 'Christine Taylor', 'Melissa Benoist', 'Spencer Treat Clark', 'Robert Englund', 'Zoe McLellan', 'Suraj Sharma', 'Quinton Aaron', 'Simon Rex', 'Jemima West', 'Lea Thompson', 'Bonnie Hunt', 'Christopher Knights', 'Ron Perlman', 'Marshall Bell', 'Tim Robbins', 'Virginie Ledoyen', 'Kate Upton', 'Dominic West', 'Becca Gardner', 'Robert Joy', 'Virginia Madsen', 'Mindy Sterling', 'Jim Broadbent', 'Edward Norton', 'Woody Harrelson', 'Colin Egglesfield', 'Daren Kagasoff', 'Robert Duvall', 'Michael Moore', 'Patrick Dempsey', 'Michael Pitt', 'Paul Sanchez', 'Aaliyah', 'Justin Chon', 'Sami Bouajila', 'Amara Miller', 'Richard Roxburgh', 'Tom Hardy', 'Henry Winkler', 'Leonor Varela', 'Sarah Burns', 'Sean Patrick Flanery', 'Audrey Tautou', 'James DeBello', 'Dean Norris', 'Herman Osorio', 'Richard Cabral', 'Rowan Atkinson', 'Kevin Spacey', 'Chyler Leigh', 'Dylan Walsh', 'Sami Gayle', 'Giovanni Ribisi', 'Rebecca Romijn', 'David Paymer', 'Bryan Cranston', 'Jamie Elman', 'Rachael Harris', 'Whoopi Goldberg', 'Michael Biehn', 'Emilie de Ravin', 'Jennifer Ehle', 'Asa Butterfield', 'Ryan Lee', 'Pauline Collins', 'Tom Arnold', 'Joss Ackland', 'Noel Fisher', 'Clark Duke', 'Kath Soucie', 'Atossa Leoni', 'Gary Sweet', 'John Goodman', 'Lauren Bittner', 'Guillaume Canet', 'Ben Garant', 'Lauren German', 'Bobby Cannavale', 'Alan Arkin', 'Rae Dawn Chong', 'Nicola Peltz', 'Maureen Keiller', 'Elisha Cuthbert', 'Matt Shively', 'Ã“lafur Darri Ã“lafsson', 'Maya Rudolph', 'Jimmi Simpson', 'Marshall Chapman', 'Ajay Naidu', 'Kevin Pollak', 'DJ Qualls', 'Erik Stolhanske', 'Anna Paquin', 'Bob Tracey', 'Kate del Castillo', 'Haley Bennett', 'Tom Hiddleston', 'Mena Suvari', 'Shannon Woodward', 'Janet Jackson', 'Bridget Fonda', 'Clark Gregg', 'Eliza Bennett', 'Danielle Campbell', 'Jack McBrayer', 'Brooklyn Decker', 'Mary Kay Place', 'Shane Harper', 'George McLaren', 'Lake Bell', 'Jeffrey Donovan', 'Daran Norris', 'Pascale Hutton', 'Ebon Moss-Bachrach', 'Morris Birdyellowhead', 'Jessica Brown Findlay', 'Catherine Zeta-Jones', 'Michael York', 'Matthew McConaughey', 'Dominic Cooper', 'DJ Pooh', 'Melissa Leo', 'Svetlana Khodchenkova', 'Collin Chou', 'Jasmine Jessica Anthony', 'Rob Morrow', 'Nicky Whelan', 'Odeya Rush', 'Tess Liu', 'Cayden Boyd', 'Zachary Levi', 'Piper Perabo', 'Jonathan Brewer', 'Sylvester Stallone', 'Neil Patrick Harris', \"Mickey O'Keefe\", 'Joaquin Phoenix', 'Jason Flemyng', 'Yanina Studilina', 'Eartha Kitt', 'Russell Means', 'Tim Meadows', 'Xzibit', 'Snoop Dogg', 'Goran Visnjic', 'Emily Ratajkowski', 'Nancy Cartwright', 'Jenna Boyd', 'Gina Torres', 'Wesley Snipes', 'Jackson Bond', 'Alice Drummond', 'Joe Pantoliano', 'Fred Melamed', 'Deirdre Blades', 'Suzuka Ohgo', 'Anne Hathaway', 'Bai Ling', 'Kathleen Quinlan', 'Mr. T', 'Andie MacDowell', 'Christopher Dunne', 'Joan Chen', 'Chris Brown', 'Amanda Peet', 'Eddie Kaye Thomas', \"Bobb'e J. Thompson\", 'Lisa Barbuscia', 'Jason Isaacs', 'Michael Chiklis', 'Sasha Alexander', 'RZA', 'Sophie Marceau', 'Sally Hawkins', 'Cobie Smulders', 'Justice Smith', 'Jason London', 'Fairuza Balk', 'Taylor Lautner', 'Courtney Love', 'Lenny Kravitz', 'Adrian Grenier', 'John Slattery', 'Julia Louis-Dreyfus', 'Angourie Rice', 'Haley Hudson', 'Chelsea Handler', 'Ossie Davis', 'Peter Clayton-Luce', 'Choi Min-sik', 'Kevin Smith', 'Tasha Smith', 'Nick Krause', 'Miranda Hart', 'Laura Fraser', 'Norah Jones', 'Amy Poehler', 'Noomi Rapace', 'Elizabeth Perkins', 'Ayush Tandon', 'Maria Bello', 'Charlie Tahan', 'Omar Sharif', 'Diane Kruger', 'Jonathan Lipnicki', 'Courteney Cox', 'Kennedi Clements', 'Aaran Thomas', 'Jessica Lowndes', 'Catherine Deneuve', 'Nirattisai Kaljaruek', 'Carmen Chaplin', 'Isabelle NÃ©lisse', 'Will Poulter', 'Michael Mosley', 'Liz Smith', 'Raven-SymonÃ©', 'Claudia Karvan', 'Ezra Miller', 'Lee Tergesen', 'Rob Corddry', 'Drake Bell', 'Jack Conley', 'Angela Kinsey', 'Clancy Brown', 'Oliver Cooper', 'Dileep Rao', 'Rory Kinnear', 'Eric Christian Olsen', 'Cedric the Entertainer', 'Andy GarcÃ\\xada', 'Gemma Arterton', 'Kristen Connolly', 'Joseph Gordon-Levitt', 'Craig Berry', 'Octavia Spencer', 'Lochlyn Munro', 'Richard Gere', 'Judd Lormand', 'Tony Goldwyn', 'Selena Gomez', 'Joshua Jackson', 'Cindy Cheung', 'Cee Lo Green', 'Michael Carman', 'Adam Arkin', 'Charlie Rowe', 'Lucas Till', 'Al Gore', 'Keira Knightley', 'Gia Mantegna', 'Sam Easton', 'Chris Warren, Jr.', 'Alicia Keys', 'Zachary Gordon', 'Henry Cavill', 'Anne Archer', 'Masasa Moyo', 'Brit Shaw', 'Allan Corduner', 'Emma Roberts', 'Stephanie Szostak', 'Kyla Pratt', 'Sayed Badreya', 'Luenell', 'Kyle Gallner', 'Victor Garber', \"Mike O'Brien\", 'Kuno Becker', 'Cole Konis', 'Alicia Silverstone', 'Deborah Rush', 'Mark Hamill', 'India Eisley', 'Jon Favreau', 'Hannah Ware', 'Edi Gathegi', 'DemiÃ¡n Bichir', 'Oliver Platt', 'William Black', 'Jack Reynor', 'Ashley Hinshaw', 'Alexis Bledel', 'Rosario Dawson', 'Maika Monroe', 'WolÃ© Parks', 'Michael Shannon', 'Matt Dillon', 'Jason Mitchell', 'Paulo Costanzo', 'Chris Marquette', 'Rashida Jones', 'Catherine McCormack', 'Anna Hoelck', 'Alan Ritchson', 'Gil McKinney', 'Pruitt Taylor Vince', 'Sarah Michelle Gellar', 'Susanna Thompson', 'Joan Allen', 'Ella Wahlestedt', 'Alice Krige', 'Daniel Baldwin', 'Gillian Jacobs', 'Aldis Hodge', 'Ted Levine', 'Michael Michele', 'Carly Nahon', 'Greg Germann', 'Steve-O', 'Jason Gray-Stanford', 'Alessandro Nivola', 'William Forsythe', 'Alyson Hannigan', 'Gabriella Wright', 'Rupert Everett', 'LÃ©a Seydoux', 'Hayden Panettiere', 'David Fernandez Jr.', \"David O'Hara\", 'Christopher Meloni', 'Jeff Goldblum', 'Natalia Klimas', 'Sarah Wright', 'Gabriel Bateman', 'Sanaa Lathan', 'Caity Lotz', 'Corey Hawkins', 'Leslie Bibb', 'Mos Def', 'Karen Black', 'Ana de la Reguera', 'Patricia VelÃ¡squez', 'Jason Ritter', 'Bob Barr', 'Julie Andrews', 'Josh Lucas', 'Kristen Wiig', 'Paul Hogan', 'StÃ©phanie Lagarde', 'Andre Braugher', 'Tess Harper', \"Sofia Black-D'Elia\", 'Barbara Jefford', 'Justin Chambers', 'Bill Clinton', 'Martha Higareda', 'Rob Brown', 'Christie Lynn Smith', 'Matthew Fox', 'Ritchie Coster', 'Rob LaBelle', 'Paul Bettany', 'Jane Krakowski', 'Dan Levy', 'Sara Foster', 'Thandie Newton', 'Anna Hutchison', 'Nancy McDoniel', 'Emily Browning', 'Charles Grodin', 'John Cusack', 'Darrin Henson', 'Bruce McGill', 'Catherine Chan', 'Emma de Caunes', 'Carlo Rota', 'Ian Richardson', 'Jonathan Jackson', 'Jason Bonham', 'Garry Shandling', 'Daniel Kash', 'Jolie Vanier', 'Hayden Christensen', 'Tabu', 'Jay Tavare', 'Johnny Messner', 'Amber Heard', 'Joe Manganiello', 'Liam McIntyre', 'Jake Busey', 'Malik Yoba', 'Mel Gibson', 'Jon Hamm', 'Levi Miller', 'Jack Bright', 'Jon Voight', 'Edward Burns', 'Jesse Williams', 'Ed Harris', 'Ben Daniels', 'Aryana Engineer', 'Adrien Brody', 'David Arquette', 'Todd Boyce', 'Eva Amurri Martino', 'Brad Garrett', 'Frances Conroy', 'Darius Rose', 'Joel David Moore', 'Meat Loaf', 'Jon Ted Wynne', 'Raymond J. Barry', 'Dave Matthews', 'Kirk Hammett', 'Chris Messina', 'Saoirse Ronan', 'Jennifer Cody', 'Vera Farmiga', 'Tracey Ullman', 'Anna Faris', 'Gaspard Ulliel', 'Min Tanaka', 'Frank Finlay', 'Vincent Pastore', 'Dominic Purcell', 'HÃ©ctor JimÃ©nez', 'Roy Scheider', 'Daniel Radcliffe', 'Lexa Doig', 'Emma Bell', 'Peter Falk', 'Kyle Gass', 'Johnny Knoxville', 'Emma Watson', 'Bernard Hill', 'Tony Curran', 'Harry Lloyd', 'Eric Roberts', 'Katija Pevec', 'Lou Myers', 'Sahira Nair', 'Scott Foley', 'Peter Capaldi', 'Tim Matheson', 'Lari White', 'Bianca Kajlich', 'RamÃ³n RodrÃ\\xadguez', 'Corey Johnson', 'Joan Plowright', 'Don Knotts', 'Ben Reed', 'Yeardley Smith', 'Julia Winter', 'Shawn Doyle', 'Jason Clarke', 'Linda Bassett', 'Leslie Mann', 'Rupert Grint', 'Chris Wedge', 'Carly Schroeder', 'Justin Chatwin', \"Kerry O'Malley\", 'Kate Butler', 'PenÃ©lope Cruz', 'Lyriq Bent', 'Werner Herzog', 'Adrianne Palicki', 'Heather Matarazzo', 'Lusia Strus', 'Jared Padalecki', 'Hayley Atwell', 'Maggie Grace', 'Katie Cassidy', 'Joan Collins', 'Eva Mendes', 'Method Man', 'Alexa Davalos', 'Johnny Simmons', 'Siobhan Fallon', 'Nicole Ari Parker', 'James Remar', 'Kat Dennings', 'Beverly Todd', 'Kerris Dorsey', 'Ona Grauer', 'Bruce Payne', 'Robert Mammone', 'Stuart Stone', 'Emily Osment', 'Emilio EchevarrÃ\\xada', 'Will Smith', 'Dylan McDermott', 'Jack Huston', 'Oanh Nguyen', 'Patrick Fugit', 'Joely Richardson', 'Kevin Kline', 'Adam Pascal', 'Kristen Cloke', 'Chris Lowell', 'Phyllis Smith', 'Eli Wallach', 'Larry Bryggman', 'Emily Bett Rickards', 'Eliza Dushku', 'Skyler Gisondo', 'Chris Potter', 'Rory Culkin', 'Deanna Dunagan', 'Teresa Palmer', 'Elizabeth Olsen', 'Dakota Fanning', 'Michael Rispoli', 'Sam Rockwell', 'Paula Patton', 'Emma Stone', 'Billie Whitelaw', 'Julie Benz', 'Rachael Leigh Cook', 'Laura Prepon', 'Whitney Houston', 'Lydia Hull', 'John Witherspoon', 'Jamie Dornan', 'Amr Waked', 'Parker Posey', 'Alfre Woodard', 'Udo Kier', 'Bob Gunton', 'Thomas Haden Church', 'William Shatner', 'Tucker Albrizzi', 'Kara Hayward', 'Izabela Vidovic', 'Joseph Cross', 'Cloris Leachman', 'Noah Ringer', 'Bruce Dern', 'Jason Segel', 'Vin Diesel', 'Warren Christie', 'Susan Sarandon', 'Kodi Smit-McPhee', 'Justin Timberlake', 'Ian McKellen', 'Eleanor Tomlinson', 'Jim Carter', 'Priyanka Xi', 'Ali Suliman', 'Ming-Na Wen', 'Timothy Dalton', 'Garikayi Mutambirwa', 'Jadie-Rose Hobson', 'Kate Bosworth', 'Sarah Bolger', 'Kevin Hart', 'Dwight Yoakam', 'Jada Pinkett Smith', 'Susan Brown', 'Jeff Bridges', 'Kristen Stewart', 'Jonathan Tucker', 'James Woods', 'Matt McKenna', 'VerÃ³nica Echegui', 'Kevin Nash', 'Avery Brooks', 'Jim Sturgess', 'Danny McCarthy', 'Terrence Howard', 'Michelle Trachtenberg', 'Teo Halm', 'Raad Rawi', 'Sharon Osbourne', 'Tia Texada', 'Sam Huntington', 'Billy Dee Williams', 'Paul Adelstein', 'Jascha Washington', 'Hillary Clinton', 'Mark Moses', 'Kelly Hu', 'Stephen Rea', 'Aamir Khan', 'F. Murray Abraham', 'CCH Pounder', 'Nick Cannon', 'Topher Grace', 'Steven Seagal', 'Rolf Kanies', 'Joe Morton', 'Edie Martin', 'Dakota Goyo', 'Jesse L. Martin', 'Doug Jones', 'Cody Horn', 'Shad Moss', 'Tilda Swinton', 'Fred Williamson', 'Jim Parrack', 'Justin Bartha', 'Cheryl Hines', 'Benedict Wong', 'Andrew Sensenig', 'Hayley Kiyoko', 'Bill Moseley', 'Toby Huss', 'Mare Winningham', 'Eva Green', 'Spencer Breslin', 'Carter Jenkins', 'Vivica A. Fox', 'Rachel Dratch', 'Taylor Momsen', 'Hilary Swank', 'Gordon Pinsent', 'Shannon Elizabeth', 'Christopher Cousins', 'Samuel Joslin', 'Fann Wong', 'Wu Jing', 'Alessandro Lindblad', 'Jake Johnson', 'Christina Ricci', 'David Strathairn', 'Nick Stahl', 'Julie Bowen', 'Teri Polo', 'Len Cariou', 'Nelly', 'Amanda Bynes', 'Danny Trejo', 'Billy Ray Cyrus', 'Alakina Mann', 'Matt Stern', 'Rooney Mara', 'Toby Jones', 'Shawn Wayans', 'Carey Mulligan', 'Shyann McClure', 'Nelsan Ellis', 'Sharni Vinson', 'Barnaby Carpenter', 'Maggie Siff', 'Nathan Gamble', 'Liv Tyler', 'Ariel Winter', 'Bob Hoskins', 'Kris Lemche', 'Rachel Covey', 'Jean Michel ParÃ©', 'Gary Dourdan', 'Jonathan Bennett', 'Alexander Ludwig', 'Mackenzie Crook', 'Laura Ramsey', 'Tyra Banks', 'Steven Mackintosh', 'Kristen Johnston', 'Heiner Lauterbach', 'David Keith', 'Marcel IureÈ™', 'John Ales', 'Emily Procter', 'Julian Rhind-Tutt', 'Kristen Schaal', 'Roma Downey', 'Jeffrey DeMunn', 'Paz Vega', 'Nick Searcy', 'Margot Robbie', 'Yaya DaCosta', 'Ryan Hurst', 'Martin Short', 'Dina Spybey-Waters', 'Rutger Hauer', 'Peter Fonda', 'Erik Per Sullivan', 'Jayma Mays', 'Marley Shelton', 'Vanessa Hudgens', 'Ryan Dunn', 'Jill Scott', 'Natasha Henstridge', 'John Corbett', 'David Dorfman', 'Dan Byrd', 'Chandra West', 'Wentworth Miller', 'Willem Dafoe', 'Abbie Cornish', 'Douglas Smith', 'LL Cool J', 'Fana Mokoena', 'Leven Rambin', \"Colin O'Donoghue\", 'Elizabeth Hurley', 'Mary McCormack', 'Riaad Moosa', 'Charlie Hunnam', 'Jaden Smith', 'Philip Baker Hall', 'Skeet Ulrich', 'Nick Chinlund', 'Stephen Spinella', 'Mark Walton', 'Sterling Jerins', 'Crista Flanagan', 'FranÃ§ois Civil', 'Katie Featherston', 'Dalia HernÃ¡ndez', 'Christa Nicola', \"Chris O'Donnell\", \"Catherine O'Hara\", 'Larry the Cable Guy', 'MÃ\\xada Maestro', 'Campbell Scott', 'Shohreh Aghdashloo', 'Stephen Merchant', 'Ben Mendelsohn', 'Kip Pardue', 'Stanley Tucci', 'Linda Emond', 'Angela Bassett', 'Barry Pepper', 'Paul McGann', 'Cara Seymour', 'Nona Gaye', 'Maximilian Dirr', 'Marsha Thomason', 'Peter Sallis', 'Sandra Oh', 'Miriam Margolyes', 'Alfie Allen', 'Christopher Plummer', 'Sam Lerner', 'Alec Mapa', 'Takamasa Ishihara', 'Charlotte Gainsbourg', 'Garry Marshall', 'Rachel Nichols', 'Wendi McLendon-Covey', 'Keke Palmer', 'Nat Wolff', 'Scott Hazell', 'Adam Brody', \"Ed O'Neill\", 'Chris Coppola', 'Steve Valentine', 'Jason Alexander', 'Mireille Enos', 'Dennis Quaid', 'Essie Davis', 'Derek Jacobi', 'Mark Rolston', 'Robert Sean Leonard', 'Usher Raymond', 'Chris Penn', 'Allison Miller', 'Johanna Braddy', 'Kevin Corrigan', 'Anna Camp', 'TomÃ¡s MiliÃ¡n', 'S. Epatha Merkerson', 'Mo Zinal', 'Ben Feldman', 'Reynaldo Gallegos', 'John Alderton', 'Taylor Kinney', 'Matthew Walker', 'Roscoe Lee Browne', 'Stacey Dash', 'Rosanna Arquette', 'Rachael Taylor', 'Kit Harington', 'Phyllida Law', 'Jenna Elfman', 'Regina Hall', 'Noah Schnapp', 'Scott Glenn', 'Efren Ramirez', 'Rumer Willis', 'Max Lewis', 'HÃ©ctor Elizondo', 'Jeffrey Garcia', 'Randhir Kapoor', 'Sean Combs', 'Bryan Greenberg', 'Melissa George', 'Mischa Barton', 'Taye Diggs', 'Ahmad Khan Mahmoodzada', 'Leonard Roberts', 'Mel Brooks', 'Eduardo Noriega', 'Marguerite Moreau', 'Willie Nelson', 'Kyle Chandler', 'Ryan Guzman', 'Giancarlo Giannini', 'Nikki Reed', 'Justine Waddell', 'Rose Abdoo', 'Griffin Gluck', 'Hank Azaria', 'Ellia English', 'Jason Bateman', 'Jay Chou', 'Alison Brie', 'Luke Pasqualino', 'Gary Oldman', 'Luke Bracey', 'Clifton Collins, Jr.', 'James Cromwell', 'Adam Levine', 'Zach Galifianakis', 'Eric Mabius', 'Dan Yeager', 'David Schwimmer', 'Jason Momoa', 'Brady Corbet', 'Rinko Kikuchi', 'Tika Sumpter', 'Martin Freeman', 'Johnathon Schaech', 'Thomas Horn', 'Dane Cook', 'Keegan Connor Tracy', 'Michael Douglas', 'John Finn', 'Freddie Highmore', 'Rob Schneider', 'Ninja', 'Sam Claflin', 'Chevy Chase', 'Maia Morgenstern', 'Pete Postlethwaite', 'Marlon Brando', 'Scott Caan', 'Brian Haley', 'Yvonne Strahovski', 'Aleksa Palladino', 'Jon Bon Jovi', 'Doug Hutchison', 'Rami Malek', 'Denzel Washington', 'Kristin Davis', 'Lucy Liu', 'Lea Michele', 'Evan Rachel Wood', 'David Cronenberg', 'Steve Burton', 'Robert Forster', 'Chris Kattan', 'Alexandra Daddario', 'Kate Walsh', 'Isabelle Fuhrman', 'Dakota Johnson', 'Robert Redford', 'Paul Brannigan', 'Alan Rickman', 'Bill Paxton', 'Justin Michael Brandt', 'Mike White', 'Steve Harris', 'Rosemarie DeWitt', 'Nikolaj Coster-Waldau', 'Idina Menzel', 'Hiroyuki Sanada', 'Augustus Prew', 'Sharman Joshi', 'Robin Walsh', 'Frances McDormand', 'Santino Fontana', 'Geno Silva', 'Marylouise Burke', 'Randall Duk Kim', 'Michael Bunin', 'Saul Rubinek', 'Allison Cratchley', 'Teri Hatcher', 'Richard Armitage', 'Robert Pattinson', 'Armand Assante', 'Blake Woodruff', 'Emmy Rossum', 'Meredith Droeger', 'Mackenzie Gray', 'Emi Ikehata', 'Sebastian Stan', 'Elle Fanning', 'Dev Patel', 'Mary Stockley', 'Sari Lennick', 'Corey Burton', 'Portia Doubleday', 'Randy Couture', 'Patton Oswalt', 'Stephen Boss', 'Megan Fox', 'David Cross', 'Jeremy Davies', 'Missi Pyle', 'Robert Patrick', 'Shahkrit Yamnarm', 'Mike Vogel', 'Beau Bridges', 'Luke Grimes', 'Frank Collison', 'Julianne Moore', 'Rachel Griffiths', 'Anna Kendrick', 'Ray Liotta', 'Jim Belushi', 'Brad Pitt', 'Ben Levin', 'Kenneth Branagh', 'Jason Biggs', 'Bam Margera', 'Caroline Chikezie', 'Emily Mortimer', 'Wood Harris', 'Richard Jenkins', 'Josh Brolin', 'David Harbour', 'Jae Head', 'Patricia Heaton', 'Harvey Keitel', 'Fernanda Dorogi', 'Pamela Anderson', 'Karen Gillan', \"Kevin J. O'Connor\", 'Daniel Tay', 'Josh Hutcherson', 'Robert Schwartzman', 'Charlotte Rampling', 'Ellen Page', 'Wendie Malick', 'Bahar Soomekh', 'Kate Winslet', 'Richard Portnow', 'Devon Aoki', 'Bojana NovakoviÄ‡', 'Delroy Lindo', 'Simone Spinazze', 'Brandon Henschel', 'Emma Rigby', 'Justin Guarini ', 'Laura Regan', 'Chrysta Olson', 'Kevin McNally', 'Stefanie Scott', 'Bruno Campos', 'Vinessa Shaw', 'Simon Chandler', 'John Krasinski', 'Aman Johal', 'Affion Crockett', 'Mark Boone Junior', 'Christopher Kovaleski', 'Kelsey Grammer', 'Diogo Morgado', 'Tom Wilkinson', 'Michael Wincott', 'Tammy Blanchard', 'Chris Tucker', 'Adam Goldberg', 'Lee Asquith-Coe', 'Rachael Markarian', 'Nia Long', 'Willow Smith', 'Charles Malik Whitfield', 'Shane Baumel', 'Catherine Bell', 'Benjamin Walker', 'Maggie Q', 'Ray Wise', 'Rila Fukushima', 'Justin Whalin', 'Eve', 'Ken Kirzinger', 'Paul Wilson', 'Shalom Harlow', 'Mary Gibbs', 'James Garner', 'Janette Scott', 'James Caan', 'Michelle Dockery', 'Hill Harper', 'Jill Talley', 'Lewis Fitz-Gerald', 'Ian McShane', 'Mitchel Musso', 'Kathy Bates', 'Harris Yulin', 'Bruce Davison', 'Michael Jeter', 'Jeremy Howard', 'Skylar Astin', 'Jennifer Saunders', 'David Atrakchi', 'Ne-Yo', 'Staffan Kihlbom', 'Jesse Metcalfe', 'Austin Crim', 'Lewis Black', 'Jesse Spencer', 'Sophie Kennedy Clark', 'Christina Milian', 'Shawnee Smith', 'Ken Stott', 'Ali Larter', 'Cuba Gooding Jr.', 'Kou Shibasaki', 'Tiger Hu Chen', 'Loren Dean', 'William Atherton', 'Catherine Keener', 'Rachel Blanchard', 'Patrick Mofokeng', 'Carlos Pratts', 'Matthew Lillard', \"Jaran 'See Tao' Petcharoen\", 'Thomas Ian Nicholas', 'Nadia Townsend', 'Lars Ulrich', 'Willie Garson', 'Josh Hartnett', 'John Boyega', 'Julie Christie', 'Ryan Newman', 'Barbra Streisand', 'Philip Quast', 'Michael Irby', 'Fredro Starr', 'Jon Abrahams', 'Donnie Wahlberg', 'David McCullough', 'Garrett Hedlund', 'Dany Verissimo-Petit', 'Michelle Horn', 'Jeremy Sheffield', 'Jane Levy', 'Bryan Brown', 'Harish Patel', 'RubÃ©n Blades', 'Marla Sokoloff', 'Mark Addy', 'Jason Lee', 'Peta Wilson', 'Sidney Johnston', 'LeVar Burton', 'Mark DeCarlo', 'Zekeria Ebrahimi', 'Emily Deschanel', 'Neil Brown Jr.', 'Mae Whitman', 'Martin Klebba', 'Roger Barclay', 'Eugenio Derbez', 'Edgar RamÃ\\xadrez', 'Matt Schulze', 'Nathaniel Parker', 'Bruce Boxleitner', 'Adam G. Sevani', 'Tom Berenger', 'Kal Penn', 'Taylor Dooley', 'Jonathan Breck', 'Robert Klein', 'Dax Shepard', 'Seymour Cassel', 'Marlon Wayans', 'Rhona Mitra', 'Gary Cole', 'Mark Margolis', 'Alexander Pollock', 'Mike Cameron', 'Jake Cherry', 'Natalie Dormer', 'Paul Freeman', 'Pierce Brosnan', 'John Cho', 'Troy Garity', 'Kaley Cuoco', 'Joy Bryant', 'Paul Newman', 'Kiele Sanchez', 'Karen Mok', 'Max von Sydow', 'Jon Bernthal', 'David Morrissey', 'Regina King', 'Izabella Miko', 'Victor Gojcaj', 'Colleen Haskell', 'Dennis Hopper', 'Graham McTavish', 'Callum Blue', 'Don Curry', 'Jared Harris', 'Annette Crosbie', 'Jacob Vargas', 'Boman Irani', 'Lynn Collins', 'June Diane Raphael', 'Om Puri', 'Ed Asner', 'Judah Friedlander', 'Kyle Davis', 'Chris Noth', 'Bette Midler', 'Israel Broussard', 'Kaya Scodelario', 'Jordana Spiro', 'Daryl Hannah', 'Tasha de Vasconcelos', 'Gio Perez', 'Sophie Monk', 'Vanessa Williams', 'Morris Chestnut', 'Ronnie James Dio', 'Alison Lohman', 'Shaun Toub', 'Mary-Louise Parker', 'Lauren Hutton', 'Naomie Harris', 'Debi Derryberry', 'Julian McMahon', 'John Pyper-Ferguson', 'Josh Flitter', 'Lisa Bonet', 'Tommy Flanagan', 'Ellen DeGeneres', 'Gena Rowlands', 'Seamus Davey-Fitzpatrick', 'Michael Kenneth Williams', 'Zachary Quinto', 'Michael Arden', 'Greg Siff', 'Ron Silver', 'Nia Vardalos', 'Tim Blake Nelson', 'Chopper Bernet', 'Joel Murray', 'Krista Allen', 'Olivia Wilde', 'Judi Dench', 'Mariah Carey', 'Elle Peterson', 'Jerry Ferrara', 'Sacha Baron Cohen', 'Scott Porter', 'Nicholas Smith', 'Vincent Regan', 'Andrew Garfield', 'Sid Haig', 'Claire Julien', 'Lou Diamond Phillips', 'Colin Firth', 'Winona Ryder', 'James Bentley', 'Tao Okamoto', 'Carla Gugino', 'Lauren Ambrose', 'Eric Winter', 'Eugene Hutz', 'RenÃ©e Taylor', 'Luca Calvani', 'Kelly Reilly', 'JoBeth Williams', 'Sam Worthington', 'Rob Riggle', 'Michelle Williams', 'Rodger Bumpass', 'Ken Watanabe', 'Mark Critch', 'Yuliya Snigir', 'Fausto Callegarini', 'Margaret Avery', 'Tyler Posey', 'Aml Ameen', 'David A.R. White', 'Linda Kozlowski', 'Charlize Theron', 'Casey Affleck', 'Frances Fisher', 'Madison Pettis', 'Christina Aguilera', 'Miley Cyrus', 'Samantha Morton', 'T.R. Knight', 'Hannibal Buress', 'Idris Elba', 'Gabourey Sidibe', 'Michael Moreland', 'Tom Everett Scott', 'Olivia Thirlby', 'Bill Pullman', 'Isaiah Washington', 'Shirley Knight', 'Lou Taylor Pucci', 'Brendan Gleeson', 'Allie Mickelson', 'Chengwu Guo', 'Natascha McElhone', 'French Stewart', 'Jackson Rathbone', 'Kyle Catlett', 'Julie Delpy', 'Hadley Belle Miller', 'Ki Hong Lee', 'ZoÃ« Kravitz', 'Jena Malone', 'Omar Gooding', 'Paul Rae', 'Brie Larson', 'Jorma Taccone', 'Peter Firth', 'KaDee Strickland', 'Marion Lambert', 'David Moscow', 'Shawn Driscoll', 'Romany Malco', 'Peter Stormare', 'Jamie Foxx', 'Sullivan Stapleton', 'Andrew Hampton', 'Tyler Craig', 'Alexis Dziena', 'Gregg Henry', 'Damian Lewis', 'Colin Farrell', 'Wanda Sykes', 'Geoffrey Arend', 'David Tennant', 'Marion Cotillard', 'David Costabile', 'Danny McBride', 'Ben Whishaw', 'Judith Scott', 'Juno Temple', 'Opal Alladin', 'Kate Mara', 'Colin Salmon', 'Evangeline Lilly', 'Blake Lively', 'Olympia Dukakis', 'Colin Quinn', 'Armin Mueller-Stahl', 'Jeremy Irvine', 'Eva Marie Saint', 'Angelina Jolie', 'Travis Van Winkle', 'Julianna Guill', 'Will Kemp', 'Tatjana PajkoviÄ‡', 'Birgit Minichmayr', 'Lorraine Nicholson', 'Rip Torn', 'Leah Remini', 'Makenzie Vega', 'Will Arnett', 'Anthony Stewart Head', 'Ben Burtt', 'BjÃ¶rk', 'Margarita Levieva', 'Gugu Mbatha-Raw', 'Richard E. Grant', 'Sarah Paulson', 'Paul Herman', 'TÃ©a Leoni', 'Aaron Stanford', 'Ken Davitian', 'Steve Carell', 'Jason Dohring', 'Kellan Lutz', 'Kris Kristofferson', 'Jane Fonda', 'Guy Torry', 'Brady Bluhm', 'Michael T. Weiss', 'Ivy George', 'David Calder', 'Maury Chaykin', 'GQ', 'Kim Cattrall', 'BeyoncÃ© Knowles', 'Sage Ryan', 'Liam Aiken', 'Isla Fisher', 'Vince Vaughn', 'Natalie Martinez', 'Chris Pontius', 'Tatum Etheridge', 'Connor Funk', 'Famke Janssen', 'Jason Schwartzman', 'Thierry Neuvic', 'Sharon Leal', 'Samantha Mumba', 'Nick Frost', 'Imelda Staunton', 'Yu Rong-Guang', 'Lara Flynn Boyle', 'Marg Helgenberger', 'Eugene Levy', 'Ann Miller', 'Derek Luke', 'Tom Kenny', 'Brenda Blethyn', 'Roselyn SÃ¡nchez', 'Sarah Gadon', 'Dustin Milligan', 'Robert Knepper', 'Moon Bloodgood', 'Angell Conwell', 'Christian Bale', 'Philip Winchester', 'Ryan Potter', 'Nicholas Hoult', 'Alex Veadov', 'Ryan Cartwright', 'Jacob Pitts', 'Raini Rodriguez', 'Jamie Campbell Bower', 'Trevor Morgan', 'Rachel Bilson', 'Eddie Cibrian', 'Liana Liberato', 'Marisa Tomei', 'Jonathan Groff', 'Steven R. McQueen', 'Milo Ventimiglia', 'Nick Offerman', 'Kathy Baker', 'Stella Maeve', 'Lori Heuring', 'Julianne Hough', 'Shawn Hatosy', 'Jean-Marie Lamour', 'Darwin Shaw', 'Deborah Kara Unger', \"Vincent D'Onofrio\", 'Tadanobu Asano', 'Burt Young', 'Deborra-Lee Furness', 'Lily James', 'Jonas Armstrong', 'Chris Carmack', 'Emily Barclay', 'Harriet Owen', 'Malcolm McDowell', 'Max Casella', 'Naomi Watts', 'Jeffrey Tambor', 'Jennifer Connelly', 'Rachel Weisz', 'Judd Hirsch', 'Martin Donovan', 'Hanyu Zhang', 'Alice Evans', 'Cameron Diaz', 'Jeremy Sumpter', 'Alicia Witt', 'Eric Dane', 'Christina Cox', 'Daniel Studi', 'Uday Chopra', 'Dana Ivey', 'Riz Ahmed', 'Rebecca De Mornay', 'Louise Delamere', 'Matthew Willig', 'Aditya Roy Kapoor', 'Louis C.K.', 'Richard T. Jones', 'Tessa Allen', 'Polly Adams', 'Taylor Kitsch', 'Laurence Fishburne', 'Kim Dickens', 'Kevin Heffernan', 'Donald Faison', 'Sarah Dubrovsky', 'Haley Joel Osment', 'Minka Kelly', 'Elisabeth Shue', 'Kiefer Sutherland', 'Lisa Ryder', 'David Burrows', 'Isaac Hempstead Wright', 'Eriq La Salle', 'Ashton Kutcher', 'Geoffrey Rush', 'Michael Eklund', 'Megan Boone', 'Stellan SkarsgÃ¥rd', 'Teddy Geiger', 'Toby Kebbell', 'C. Thomas Howell', 'Melissa Sagemiller', 'Robin Tunney', 'Claire Forlani', 'Orto Ignatiussen', 'Tory Kittles', 'Kim Staunton', 'Zena Grey', 'Mark Harmon', 'Tim Curry', 'Anthony Edwards', 'John Hannah', 'Brooke Smith', 'Frances de la Tour', 'Noah Huntley', 'Jacob Tremblay', 'R. H. Thomson', 'MaÃ¯ Anh Le', 'Blythe Danner', 'Aunjanue Ellis', 'Charlotte Le Bon', 'Melora Walters', 'Wang Baoqiang', 'Rachel Melvin', 'Nonso Anozie', 'Richard Dreyfuss', 'James Gandolfini', 'Richard Briers', 'John Cleese', 'Carrie Coon', 'Neal McDonough', 'Glenn Morshower', 'Ralph Fiennes', 'Kevin Dillon', 'Alan Cumming', 'Henry Simmons', 'Vanessa Bayer', 'Seth Meyers', 'Maggie Elizabeth Jones', 'Jenna Dewan', 'Will Ferrell', 'Liam Hemsworth', 'Bill Nighy', 'Raoul Bova', 'John Cothran, Jr.', 'Claire Danes', 'James Rebhorn', 'Max Baldry', 'Michelle Monaghan', 'John Malkovich', 'Mini Anden', 'Faith Ford', 'Mimi Rogers', 'Amy Irving', 'Peter Outerbridge', 'ZoÃ« Borde', 'Unax Ugalde', 'Helen Mirren', 'Laurie Holden', 'Michelle Pfeiffer', 'Horatio Sanz', 'Elijah Cummings', 'Leslie Stefanson', 'Nick Swardson', 'Jeremy Northam', 'Kristen Wilson', 'A.J. Cook', 'John Michael Higgins', 'Amber Tamblyn', 'Milla Jovovich', 'Kieran Culkin', 'Sigourney Weaver', 'Will Sasso', 'Charles Edwards', 'Matthew Macfadyen', 'Jordana Brewster', 'Ashton Holmes', 'Martin Lawrence', 'Zaid Farid', 'Kevin Chamberlin', 'Peter Facinelli', 'Kirby Bliss Blanton', 'Alexz Johnson', 'Hugo Weaving', 'Tania Raymonde', 'KryÅ¡tof HÃ¡dek', 'Zoe Kazan', 'Richard Kind', 'Tom Hanks', 'Leehom Wang', 'James Ransone', 'Bella Thorne', 'Holt McCallany', 'Kristin Kreuk', \"Frances O'Connor\", 'Walter Matthau', 'Helena Bonham Carter', 'Chace Crawford', 'Nathan Lane', 'Raymond Ochoa', 'Harold Perrineau', 'Dwayne Johnson', 'Michael Zegen', 'Alessandro Gassman', 'Dean Winters', 'Chris Riggi', 'Donal Logue', 'David Andrews', 'Louise Lombard', 'Sarah Wynter', 'Norman Reedus', 'Daisy Ridley', 'Miles Fisher', 'Ray Stevenson', 'Nathalie Kelley', 'David Carradine', 'Michael PeÃ±a', 'Michael Rooker', 'Terence Stamp', 'Jonny Lee Miller', 'Tom McGrath', 'John Forsythe', 'Tara Reid', 'Colin Stinton', 'Tobey Maguire', 'Freida Pinto', 'Robert Fyfe', 'Kevin Costner', 'Paul Schneider', 'John Benjamin Hickey', 'Thekla Reuten', 'Shelbie Bruce', 'Josh Wiggins', 'Geena Davis', 'DragoÈ™ Bucur', 'Alexa PenaVega', 'Elias Koteas', 'Diora Baird', 'John Ratzenberger', 'Ruth Wilson', 'Chris Hemsworth', 'Ken Marschall', 'Julio Oscar Mechoso', 'Matt Walsh', 'Francesco De Vito', 'Jonah Hill', 'Joel Grey', 'Logan Marshall-Green', 'Devon Bostick', 'Robert Loggia', 'Seann William Scott', 'Michael J. Fox', 'Romola Garai', 'Billy Boyd', 'Maleah Nipay-Padilla', 'Rose Byrne', 'Hugh Grant', 'SofÃ\\xada Vergara', 'Heather Graham', 'Linh Äan Pháº¡m', 'Jamie Lee Curtis', 'Mario Van Peebles', 'Marton Csokas', 'Connie Nielsen', 'Spike Jonze', 'Max Thieriot', 'Chi McBride', 'Craig Robinson', 'Austin Butler', 'Boris Leskin', 'Gaia Weiss', 'Will Forte', 'Chloe Csengery', 'Ludacris', 'Tony Revolori', 'Pat Healy', 'Adam David Thompson', 'Ryo Kase', 'Greg Bryk', 'Sarah Jane Morris', 'Richard Burgi', 'Christian Slater', 'Harrison Ford', 'Al Pacino', 'Nicholas Braun', 'Jake Gyllenhaal', 'Jake Abel', 'Christopher Mintz-Plasse', 'Eddie Izzard', 'Common', \"Jack O'Connell\", 'Carol Burnett', 'J.J. Johnson', 'Laura Harring', 'Hal Holbrook', 'Aubrey Peeples', 'Amber Rose Revah', 'Jay Hernandez', 'Dillon Freasier', 'Samaire Armstrong', 'Lolita Davidovich', 'John Turturro', 'Richmond Arquette', 'Michael Madsen', 'Kevin McDonald', 'Blayne Weaver', 'Seth Rogen', 'Deng Chao', 'Megan Park', 'Mark Wahlberg', 'Toni Collette', 'Melanie Lynskey', 'Salli Richardson-Whitfield', 'Leonard Nimoy', 'Maria Smolnikova', 'AndrÃ© Benjamin', 'Chris Klein', 'Sasha Barrese', 'Trey Parker', 'Chris Mulkey', 'Hugh Keays-Byrne', 'Shu Qi', 'Jacob Lofland', 'Frank C. Turner', 'Akshay Kumar', 'Emile Hirsch', 'Jeff Anderson', 'Patrick Stewart', 'Yul Vazquez', 'Omar Benson Miller', 'Kevin Bacon', 'Joel Garland', 'Aaron Taylor-Johnson', 'Michael C. Hall', 'Andrea Riseborough', 'Jessica Lange', 'Bill Hader', 'Lin Shaye', 'Bill Burr', 'Robert Taylor', 'Thomas Kretschmann', 'Manish Dayal', 'Devon Gearhart', 'Ron Livingston', \"Tony D'Amario\", 'Amanda Righetti', 'William Hurt', 'Eminem', 'Jennifer Tilly', 'Anthony Hayes', 'Jennifer Lopez', 'Jake Weber', 'Sylvia Syms', 'Justin Pierce', 'Dawn French', 'Bradley Dodds', 'Sebastian Koch', 'Mia Drake Inderbitzin', 'Susan Ward', 'Alice Eve', 'Jessica Bowman', 'Dallas Roberts', 'TchÃ©ky Karyo', 'Steven Strait', 'Scout Taylor-Compton', 'Luis Tosar', 'J.R. Villarreal', 'Ethan Embry', 'Michael Clarke Duncan', 'Tyler Mane', 'Misha Gabriel', 'Mehmet Ferda', 'Cherry Jones', 'Emilia Clarke', 'Laura Kirk', 'Ben Stiller', 'Sarah Jessica Parker', 'Ellen Pompeo', 'Adam Beach', 'Alan Tudyk', 'Taran Killam', 'Elijah Wood', 'Scarlett Johansson', 'ChloÃ« Grace Moretz', 'Will Rothhaar', 'Antony Starr', 'Bobby Campo', 'Matt Jones', 'Natasha Calis', 'Kevin James', 'Sam Anderson', 'Shari Headley', 'Joseph Ruskin', 'Dondre Whitfield', 'Brennan Brown', 'Greta Gerwig', 'Barbara Flynn', 'Brent Spiner', 'Kate Burton', 'Michael Gambon', 'Caitlin Stasey', 'Josh Charles', 'Elizabeth Debicki', 'Dan Stevens', 'Cat Power', 'Musetta Vander', 'Hannah Spearritt', 'Brendan Fraser', 'Amy Smart', 'Scott Adsit', 'Alex Rocco', 'Nora Dunn', 'Daryl Sabara', 'Lambert Wilson', 'Sam Robards', 'Ben Barnes', 'Betty Buckley', 'Sharon Stone', 'Li Bingbing', 'Natasha Richardson', 'James Newman', 'Cher', 'Gwen Taylor', 'Tina Fey', 'Keanu Reeves', 'Wanda De Jesus', 'Haley Webb', 'Christopher Guest', 'Rebel Wilson', 'Sean Kingston', 'Spencer Garrett', 'Alan Dale', 'Dougray Scott', 'Helen Hunt', 'Emjay Anthony', 'ZoÃ« Bell', 'Barkhad Abdi', 'Wilfried Hochholdinger', 'Gabrielle Union', 'Jonathan Safran Foer', 'Venus Schultheis', 'Andrew Howard', 'Will Yun Lee', 'Sofia Vassilieva', \"De'Shawn Washington\", 'Guy Pearce', 'Tracee Ellis Ross', 'Margo Martindale', 'Kacey Barnfield', 'Oaklee Pendergast', 'Luke Ford', 'Brandon T. Jackson', 'Sylvia Hoeks', 'Lauren Holly', 'Monica Bellucci', 'Daniel Henney', 'Georgie Henley', 'Laurence Fox', 'Eli Roth', 'Elizabeth Mkandawie', 'Lincoln Lewis', 'James Carpinello', 'Tyler Steelman', 'Lauren Frandsen', 'Jonathan Banks', 'Scott Mechlowicz', 'Jonathan Daniel Brown', 'Enzo Cilenti', 'Dianna Agron', 'Natalie Imbruglia', 'BÃ©rÃ©nice Bejo', 'Katherine Heigl', 'Zineb Oukach', 'Alexander Nathan Etel', 'James Purefoy', 'Josh Peck', 'Brit Marling', 'Tye Sheridan', 'Don Johnson', 'Marianne Jean-Baptiste', 'Judy Greer', 'Bee Vang', 'Josh Pence', \"BrÃ\\xadan F. O'Byrne\", 'Cliff Robertson', 'Jaime King', 'Maggie Gyllenhaal', 'Jenna Stern', 'Busta Rhymes', 'Tom Cavanagh', 'Ty Burrell', 'Stephen McHattie', 'Scott Patterson', 'Christine Baranski', 'Rob Reiner', 'Pamela Gidley', 'Tom Sturridge', 'Matthew Marsden', 'Sprague Grayden', 'Cory Hardrict', 'Jodie Whittaker', 'Harry Treadaway', 'Sarah Roemer', 'Brian Cox', 'Ryan Reynolds', 'Matthew Davis', 'Bill Duke', 'Frank Grillo', 'Shiloh Fernandez', 'Elise Neal', \"Keir O'Donnell\", 'Michael Constantine', 'Adelaide Clemens', 'Minnie Driver', 'Domhnall Gleeson', 'Mathieu Amalric']\n",
        "#Создаём пустой словарь для хранения информации о частоте совместного появления пар актёров\n",
        "paris_list = {}\n",
        "#Создаём копии таблицы:\n",
        "data47 = data.copy()\n",
        "data48 = data.copy()\n",
        "#С помощью метода intertools.combinations перебираем пары из списка актёров:\n",
        "for pairs in combinations(cast_list, 2):\n",
        "#Находим множество значений идентификаторов фильмов, в которых снимались оба актёра:\n",
        "    data47 = data47[data47['cast'].str.contains(pairs[0])]\n",
        "    data48 = data48[data48['cast'].str.contains(pairs[0])]\n",
        "    pairs_work = len(set(data47['imdb_id'])|set(data48['imdb_id']))\n",
        "    paris_list[pairs] = pairs_work\n",
        "paris_list\n",
        "#Этот код работает крайне долго (я понимаю, что это сложное и застратное решение). Проверить его правильность я не могу, поэтому задание не решено."
      ],
      "execution_count": 32,
      "outputs": [
        {
          "output_type": "error",
          "ename": "KeyboardInterrupt",
          "evalue": "ignored",
          "traceback": [
            "\u001b[0;31m---------------------------------------------------------------------------\u001b[0m",
            "\u001b[0;31mKeyboardInterrupt\u001b[0m                         Traceback (most recent call last)",
            "\u001b[0;32m<ipython-input-32-e8bc14d79525>\u001b[0m in \u001b[0;36m<module>\u001b[0;34m()\u001b[0m\n\u001b[1;32m      9\u001b[0m \u001b[0;32mfor\u001b[0m \u001b[0mpairs\u001b[0m \u001b[0;32min\u001b[0m \u001b[0mcombinations\u001b[0m\u001b[0;34m(\u001b[0m\u001b[0mcast_list\u001b[0m\u001b[0;34m,\u001b[0m \u001b[0;36m2\u001b[0m\u001b[0;34m)\u001b[0m\u001b[0;34m:\u001b[0m\u001b[0;34m\u001b[0m\u001b[0;34m\u001b[0m\u001b[0m\n\u001b[1;32m     10\u001b[0m \u001b[0;31m#Находим множество значений идентификаторов фильмов,\u001b[0m\u001b[0;34m\u001b[0m\u001b[0;34m\u001b[0m\u001b[0;34m\u001b[0m\u001b[0m\n\u001b[0;32m---> 11\u001b[0;31m     \u001b[0mdata47\u001b[0m \u001b[0;34m=\u001b[0m \u001b[0mdata47\u001b[0m\u001b[0;34m[\u001b[0m\u001b[0mdata47\u001b[0m\u001b[0;34m[\u001b[0m\u001b[0;34m'cast'\u001b[0m\u001b[0;34m]\u001b[0m\u001b[0;34m.\u001b[0m\u001b[0mstr\u001b[0m\u001b[0;34m.\u001b[0m\u001b[0mcontains\u001b[0m\u001b[0;34m(\u001b[0m\u001b[0mpairs\u001b[0m\u001b[0;34m[\u001b[0m\u001b[0;36m0\u001b[0m\u001b[0;34m]\u001b[0m\u001b[0;34m)\u001b[0m\u001b[0;34m]\u001b[0m\u001b[0;34m\u001b[0m\u001b[0;34m\u001b[0m\u001b[0m\n\u001b[0m\u001b[1;32m     12\u001b[0m     \u001b[0mdata48\u001b[0m \u001b[0;34m=\u001b[0m \u001b[0mdata48\u001b[0m\u001b[0;34m[\u001b[0m\u001b[0mdata48\u001b[0m\u001b[0;34m[\u001b[0m\u001b[0;34m'cast'\u001b[0m\u001b[0;34m]\u001b[0m\u001b[0;34m.\u001b[0m\u001b[0mstr\u001b[0m\u001b[0;34m.\u001b[0m\u001b[0mcontains\u001b[0m\u001b[0;34m(\u001b[0m\u001b[0mpairs\u001b[0m\u001b[0;34m[\u001b[0m\u001b[0;36m0\u001b[0m\u001b[0;34m]\u001b[0m\u001b[0;34m)\u001b[0m\u001b[0;34m]\u001b[0m\u001b[0;34m\u001b[0m\u001b[0;34m\u001b[0m\u001b[0m\n\u001b[1;32m     13\u001b[0m     \u001b[0mpairs_work\u001b[0m \u001b[0;34m=\u001b[0m \u001b[0mlen\u001b[0m\u001b[0;34m(\u001b[0m\u001b[0mset\u001b[0m\u001b[0;34m(\u001b[0m\u001b[0mdata47\u001b[0m\u001b[0;34m[\u001b[0m\u001b[0;34m'imdb_id'\u001b[0m\u001b[0;34m]\u001b[0m\u001b[0;34m)\u001b[0m\u001b[0;34m|\u001b[0m\u001b[0mset\u001b[0m\u001b[0;34m(\u001b[0m\u001b[0mdata48\u001b[0m\u001b[0;34m[\u001b[0m\u001b[0;34m'imdb_id'\u001b[0m\u001b[0;34m]\u001b[0m\u001b[0;34m)\u001b[0m\u001b[0;34m)\u001b[0m\u001b[0;34m\u001b[0m\u001b[0;34m\u001b[0m\u001b[0m\n",
            "\u001b[0;32m/usr/local/lib/python3.7/dist-packages/pandas/core/accessor.py\u001b[0m in \u001b[0;36m__get__\u001b[0;34m(self, obj, cls)\u001b[0m\n\u001b[1;32m    185\u001b[0m             \u001b[0;31m# we're accessing the attribute of the class, i.e., Dataset.geo\u001b[0m\u001b[0;34m\u001b[0m\u001b[0;34m\u001b[0m\u001b[0;34m\u001b[0m\u001b[0m\n\u001b[1;32m    186\u001b[0m             \u001b[0;32mreturn\u001b[0m \u001b[0mself\u001b[0m\u001b[0;34m.\u001b[0m\u001b[0m_accessor\u001b[0m\u001b[0;34m\u001b[0m\u001b[0;34m\u001b[0m\u001b[0m\n\u001b[0;32m--> 187\u001b[0;31m         \u001b[0maccessor_obj\u001b[0m \u001b[0;34m=\u001b[0m \u001b[0mself\u001b[0m\u001b[0;34m.\u001b[0m\u001b[0m_accessor\u001b[0m\u001b[0;34m(\u001b[0m\u001b[0mobj\u001b[0m\u001b[0;34m)\u001b[0m\u001b[0;34m\u001b[0m\u001b[0;34m\u001b[0m\u001b[0m\n\u001b[0m\u001b[1;32m    188\u001b[0m         \u001b[0;31m# Replace the property with the accessor object. Inspired by:\u001b[0m\u001b[0;34m\u001b[0m\u001b[0;34m\u001b[0m\u001b[0;34m\u001b[0m\u001b[0m\n\u001b[1;32m    189\u001b[0m         \u001b[0;31m# https://www.pydanny.com/cached-property.html\u001b[0m\u001b[0;34m\u001b[0m\u001b[0;34m\u001b[0m\u001b[0;34m\u001b[0m\u001b[0m\n",
            "\u001b[0;32m/usr/local/lib/python3.7/dist-packages/pandas/core/strings.py\u001b[0m in \u001b[0;36m__init__\u001b[0;34m(self, data)\u001b[0m\n\u001b[1;32m   2098\u001b[0m \u001b[0;34m\u001b[0m\u001b[0m\n\u001b[1;32m   2099\u001b[0m     \u001b[0;32mdef\u001b[0m \u001b[0m__init__\u001b[0m\u001b[0;34m(\u001b[0m\u001b[0mself\u001b[0m\u001b[0;34m,\u001b[0m \u001b[0mdata\u001b[0m\u001b[0;34m)\u001b[0m\u001b[0;34m:\u001b[0m\u001b[0;34m\u001b[0m\u001b[0;34m\u001b[0m\u001b[0m\n\u001b[0;32m-> 2100\u001b[0;31m         \u001b[0mself\u001b[0m\u001b[0;34m.\u001b[0m\u001b[0m_inferred_dtype\u001b[0m \u001b[0;34m=\u001b[0m \u001b[0mself\u001b[0m\u001b[0;34m.\u001b[0m\u001b[0m_validate\u001b[0m\u001b[0;34m(\u001b[0m\u001b[0mdata\u001b[0m\u001b[0;34m)\u001b[0m\u001b[0;34m\u001b[0m\u001b[0;34m\u001b[0m\u001b[0m\n\u001b[0m\u001b[1;32m   2101\u001b[0m         \u001b[0mself\u001b[0m\u001b[0;34m.\u001b[0m\u001b[0m_is_categorical\u001b[0m \u001b[0;34m=\u001b[0m \u001b[0mis_categorical_dtype\u001b[0m\u001b[0;34m(\u001b[0m\u001b[0mdata\u001b[0m\u001b[0;34m.\u001b[0m\u001b[0mdtype\u001b[0m\u001b[0;34m)\u001b[0m\u001b[0;34m\u001b[0m\u001b[0;34m\u001b[0m\u001b[0m\n\u001b[1;32m   2102\u001b[0m         \u001b[0mself\u001b[0m\u001b[0;34m.\u001b[0m\u001b[0m_is_string\u001b[0m \u001b[0;34m=\u001b[0m \u001b[0mdata\u001b[0m\u001b[0;34m.\u001b[0m\u001b[0mdtype\u001b[0m\u001b[0;34m.\u001b[0m\u001b[0mname\u001b[0m \u001b[0;34m==\u001b[0m \u001b[0;34m\"string\"\u001b[0m\u001b[0;34m\u001b[0m\u001b[0;34m\u001b[0m\u001b[0m\n",
            "\u001b[0;32m/usr/local/lib/python3.7/dist-packages/pandas/core/strings.py\u001b[0m in \u001b[0;36m_validate\u001b[0;34m(data)\u001b[0m\n\u001b[1;32m   2149\u001b[0m \u001b[0;34m\u001b[0m\u001b[0m\n\u001b[1;32m   2150\u001b[0m         \u001b[0;32mtry\u001b[0m\u001b[0;34m:\u001b[0m\u001b[0;34m\u001b[0m\u001b[0;34m\u001b[0m\u001b[0m\n\u001b[0;32m-> 2151\u001b[0;31m             \u001b[0minferred_dtype\u001b[0m \u001b[0;34m=\u001b[0m \u001b[0mlib\u001b[0m\u001b[0;34m.\u001b[0m\u001b[0minfer_dtype\u001b[0m\u001b[0;34m(\u001b[0m\u001b[0mvalues\u001b[0m\u001b[0;34m,\u001b[0m \u001b[0mskipna\u001b[0m\u001b[0;34m=\u001b[0m\u001b[0;32mTrue\u001b[0m\u001b[0;34m)\u001b[0m\u001b[0;34m\u001b[0m\u001b[0;34m\u001b[0m\u001b[0m\n\u001b[0m\u001b[1;32m   2152\u001b[0m         \u001b[0;32mexcept\u001b[0m \u001b[0mValueError\u001b[0m\u001b[0;34m:\u001b[0m\u001b[0;34m\u001b[0m\u001b[0;34m\u001b[0m\u001b[0m\n\u001b[1;32m   2153\u001b[0m             \u001b[0;31m# GH#27571 mostly occurs with ExtensionArray\u001b[0m\u001b[0;34m\u001b[0m\u001b[0;34m\u001b[0m\u001b[0;34m\u001b[0m\u001b[0m\n",
            "\u001b[0;31mKeyboardInterrupt\u001b[0m: "
          ]
        }
      ]
    },
    {
      "cell_type": "markdown",
      "metadata": {
        "id": "4ymnxEVoVqAW"
      },
      "source": [
        "ВАРИАНТ 2"
      ]
    },
    {
      "cell_type": "markdown",
      "metadata": {
        "id": "U0nONFnGVqAX"
      },
      "source": [
        "# Submission"
      ]
    },
    {
      "cell_type": "code",
      "metadata": {
        "id": "IfcaRO9-VqAX",
        "colab": {
          "base_uri": "https://localhost:8080/"
        },
        "outputId": "16f4af50-657d-40e9-a098-1049e76f8c10"
      },
      "source": [
        "# в конце можно посмотреть свои ответы к каждому вопросу\n",
        "answers"
      ],
      "execution_count": 60,
      "outputs": [
        {
          "output_type": "execute_result",
          "data": {
            "text/plain": [
              "{'1': '723. Pirates of the Caribbean: On Stranger Tides (tt1298650)',\n",
              " '10': '1245. The Lone Ranger (tt1210819)',\n",
              " '11': 'Drama',\n",
              " '12': 'Drama',\n",
              " '13': 'Peter Jackson',\n",
              " '14': 'Robert Rodriguez',\n",
              " '15': 'Chris Hemsworth',\n",
              " '16': 'Matt Damon',\n",
              " '17': 'Action',\n",
              " '18': 'K-19: The Widowmaker',\n",
              " '19': '2015',\n",
              " '2': '1157. Gods and Generals (tt0279111)',\n",
              " '20': '2014',\n",
              " '21': '9',\n",
              " '22': '450',\n",
              " '23': 'Peter Jackson',\n",
              " '24': 'Four By Two Productions',\n",
              " '25': 'Midnight Picture Show',\n",
              " '26': 'Inside Out, The Dark Knight, 12 Years a Slave',\n",
              " '3': '768. Winnie the Pooh (tt1449283)',\n",
              " '4': '110',\n",
              " '5': '107',\n",
              " '6': '239. Avatar (tt0499549)',\n",
              " '7': '1245. The Lone Ranger (tt1210819)',\n",
              " '8': '1478',\n",
              " '9': '599. The Dark Knight (tt0468569)'}"
            ]
          },
          "metadata": {
            "tags": []
          },
          "execution_count": 60
        }
      ]
    },
    {
      "cell_type": "code",
      "metadata": {
        "id": "SiRmHPl8VqAd",
        "colab": {
          "base_uri": "https://localhost:8080/"
        },
        "outputId": "626cb215-2968-455b-b0c2-dd75ea12e0df"
      },
      "source": [
        "# и убедиться что ни чего не пропустил)\n",
        "len(answers)"
      ],
      "execution_count": 61,
      "outputs": [
        {
          "output_type": "execute_result",
          "data": {
            "text/plain": [
              "26"
            ]
          },
          "metadata": {
            "tags": []
          },
          "execution_count": 61
        }
      ]
    },
    {
      "cell_type": "code",
      "metadata": {
        "id": "uCfuTkRbVqAg"
      },
      "source": [
        ""
      ],
      "execution_count": null,
      "outputs": []
    },
    {
      "cell_type": "code",
      "metadata": {
        "id": "Vwx3NrkSVqAl"
      },
      "source": [
        ""
      ],
      "execution_count": null,
      "outputs": []
    }
  ]
}